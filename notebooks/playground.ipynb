{
 "cells": [
  {
   "cell_type": "code",
   "execution_count": 2,
   "metadata": {},
   "outputs": [],
   "source": [
    "import pandas as pd\n",
    "import numpy as np"
   ]
  },
  {
   "cell_type": "code",
   "execution_count": 3,
   "metadata": {},
   "outputs": [],
   "source": [
    "import pickle"
   ]
  },
  {
   "cell_type": "code",
   "execution_count": 3,
   "metadata": {},
   "outputs": [],
   "source": [
    "with open('model/kmeans.pkl', 'rb') as f:\n",
    "    kmeans_model = pickle.load(f)"
   ]
  },
  {
   "cell_type": "code",
   "execution_count": 4,
   "metadata": {},
   "outputs": [],
   "source": [
    "with open('model/tfidf_vectorizer.pkl', 'rb') as f:\n",
    "    tfidf_vectorizer = pickle.load(f)"
   ]
  },
  {
   "cell_type": "code",
   "execution_count": 6,
   "metadata": {},
   "outputs": [],
   "source": [
    "covid_0 = \"\"\"\n",
    "Abstract The etiologic basis for the vast majority of cases of congenital heart disease remains largely undefined. \n",
    "Viruses have been considered to be likely candidates since the recognition of the association between intrauterine \n",
    "rubella and congenital heart disease. Although the pathogenesis of cardiovascular defects is poorly understood, \n",
    "information gained from the study of congenital rubella syndrome suggests that mechanisms such as focal endothelial \n",
    "cell damage, resulting in obliteration of vascular supply, decreased growth rate, and shortened survival time of \n",
    "certain cells, and disturbed DNA replication in cells whose chromosomes were damaged secondary to the effects of \n",
    "virus replication may be operative in the production of defects in the developing fetus. In addition to rubella there \n",
    "is suggestive, but not conclusive, evidence that Coxsackie B3 and B4 virus infections during pregnancy can result in \n",
    "the birth of infants with a variety of types of congenital heart lesions and that intrauterine mumps virus infection \n",
    "may be etiologically related to the postnatal development of endocardial fibroelastosis (EFE). Although there are a \n",
    "number of other viruses that are potential etiologic agents of congenital heart disease, the current status of \n",
    "information is inadequate to allow even suggestive associations to be made. The most profitable areas for future \n",
    "investigation appear to be: (1) the epidemiology of congenital heart disease, (2) prospective studies of the \n",
    "association of maternal viral infection with abnormal offspring, (3) the in-depth virologic investigation of the \n",
    "infant with a cardiac defect, and (4) the development of experimental animal models of congenital heart disease. \n",
    "Successful control of virus-induced congenital heart disease will depend on the results of these investigations and \n",
    "the development of vaccines against the identified causative viruses and/or safe and effective antiviral chemotherapy \n",
    "for the woman in early gestation who is infected with a known teratogenic agent.\n",
    "\"\"\""
   ]
  },
  {
   "cell_type": "code",
   "execution_count": 7,
   "metadata": {},
   "outputs": [],
   "source": [
    "covid_1 = \"\"\"\n",
    "Abstract Middle-aged female identical twins, one of whom had systemic lupus erythematosus (SLE), were evaluated for \n",
    "immunologic reactivity to previous antigenic challenges, including primary immunization with a foreign antigen, \n",
    "keyhole limpet hemocyanin (KLH). These two women had lived together for all of their 58 years and neither was \n",
    "receiving anti-inflammatory or immunosuppressive drugs at the time of these studies. Both twins demonstrated \n",
    "comparable 7S and 198 humoral antibody response to KLH, as well as similar viral antibody titers. However, the twin\n",
    "with SLE was anergic to common antigens, streptokinase-streptodornase, Trichophyton and Candida; furthermore delayed \n",
    "hypersensitivity to KLH did not develop after immunization. This observed discrepancy between humoral and cellular \n",
    "immunity in genetically similar subjects may be significant in the pathogenesis of SLE.\n",
    "\"\"\""
   ]
  },
  {
   "cell_type": "code",
   "execution_count": 8,
   "metadata": {},
   "outputs": [],
   "source": [
    "covid_2 = \"\"\"\n",
    "Abstract Upper respiratory tract infections are the most common types of infectious diseases among adults. It is \n",
    "estimated that each adult in the United States experiences two to four respiratory infections annually. The morbidity \n",
    "of these infections is measured by an estimated 75 million physician visits per year, almost 150 million days lost \n",
    "from work, and more than $10 billion In costs for medical care. Serotypes of the rhinoviruses account for 20 to 30 \n",
    "percent of episodes of the common cold. However, the specific causes of most upper respiratory infections are \n",
    "undefined. Pneumonia remains an important cause of morbidity and mortality for nonhospitalized adults despite the \n",
    "widespread use of effective antimicrobial agents. There are no accurate figures on the number of episodes of \n",
    "pneumonia that occur each year in ambulatory patients. In younger adults, the atypical pneumonia syndrome Is the most \n",
    "common clinical presentation; Mycoplasma pneumoniae is the most frequently Identified causative agent. Other less \n",
    "common agents include Legionelia pneumophila, influenza viruses, adenoviruses, and Chiamydia. More than half a \n",
    "million adults are hospitalized each year with pneumonia. Persons older than 65 years of age have the highest rate of \n",
    "pneumonia admissions, 11.5 per 1,000 population. Pneumonia ranks as the sixth leading cause of death in the United \n",
    "States. The pathogens responsible for community-acquired pneumonlas are changing. Forty years ago, Streptococcus \n",
    "pneumoniae accounted for the majority of infections. Today, a broad array of community-acquired pathogens have been \n",
    "implicated as etiologic agents Including Leglonella species, gram-negative bacilli, Hemophilus influenzae, \n",
    "Staphylococcus aureus and nonbacterial pathogens. Given the diversity of pathogenic agents, it has become imperative \n",
    "for clinicians to establish a specific etiologic diagnosis before initiating therapy or to consider the diagnostic \n",
    "possibilities and treat with antimicrobial agents that are effective against the most likely pathogens.\n",
    "\"\"\""
   ]
  },
  {
   "cell_type": "code",
   "execution_count": 9,
   "metadata": {},
   "outputs": [],
   "source": [
    "covid_3 = \"\"\"\n",
    "Abstract Our understanding of the pathogenesis of infectious, especially bacterial, diarrhea has increased \n",
    "dramatically. New etiologic agents, mechanisms, and diseases have become known. For example, Escherichia coli \n",
    "serogroup 0157 is now known to cause acute hemorrhagic colitis. Also, E. coli serogroups that produce Shiga toxin are \n",
    "recognized as etiologic agents in the hemolytic-uremic syndrome. The production of bacterial diarrhea has two major \n",
    "facets, bacterial-mucosal interaction and the induction of intestinal fluid loss by enterotoxins. Bacterial-mucosal \n",
    "interaction can be described in stages: (1) adherence to epithelial cell microvilli, which is often promoted by or \n",
    "associated with pill; (2) close adherence (enteroadherence), usually by classic enteropathogenic E. coli, to mucosal \n",
    "epithelial cells lacking microvilli; and (3) mucosal invasion, as with Shigella and Salmonella infections. Further \n",
    "large strides in understanding infectious diarrhea are likely with the cloning of virulence genes if additional \n",
    "host-specific animal pathogens become available for study.\n",
    "\"\"\""
   ]
  },
  {
   "cell_type": "code",
   "execution_count": 22,
   "metadata": {},
   "outputs": [
    {
     "data": {
      "text/plain": [
       "array([916, 916, 277, 916], dtype=int32)"
      ]
     },
     "execution_count": 22,
     "metadata": {},
     "output_type": "execute_result"
    }
   ],
   "source": [
    "kmeans_model.predict(tfidf_vectorizer.transform([covid_0, covid_1, covid_2, covid_3]))"
   ]
  },
  {
   "cell_type": "code",
   "execution_count": 23,
   "metadata": {},
   "outputs": [],
   "source": [
    "title_0 = 'Intrauterine virus infections and congenital heart disease'"
   ]
  },
  {
   "cell_type": "code",
   "execution_count": 24,
   "metadata": {},
   "outputs": [],
   "source": [
    "title_1 = 'Clinical and immunologic studies in identical twins discordant for systemic lupus erythematosus'"
   ]
  },
  {
   "cell_type": "code",
   "execution_count": 25,
   "metadata": {},
   "outputs": [],
   "source": [
    "title_2 = 'Epidemiology of community-acquired respiratory tract infections in adults Incidence, etiology, and impact'"
   ]
  },
  {
   "cell_type": "code",
   "execution_count": 26,
   "metadata": {},
   "outputs": [],
   "source": [
    "title_3 = 'Infectious diarrhea: Pathogenesis and risk factors'"
   ]
  },
  {
   "cell_type": "code",
   "execution_count": 27,
   "metadata": {},
   "outputs": [
    {
     "data": {
      "text/plain": [
       "array([916, 916, 916, 625], dtype=int32)"
      ]
     },
     "execution_count": 27,
     "metadata": {},
     "output_type": "execute_result"
    }
   ],
   "source": [
    "kmeans_model.predict(tfidf_vectorizer.transform([title_0, title_1, title_2, title_3]))"
   ]
  },
  {
   "cell_type": "code",
   "execution_count": null,
   "metadata": {},
   "outputs": [],
   "source": []
  },
  {
   "cell_type": "markdown",
   "metadata": {},
   "source": []
  },
  {
   "cell_type": "code",
   "execution_count": 3,
   "metadata": {},
   "outputs": [
    {
     "data": {
      "text/plain": [
       "[{'t': 'my title', 'a': 'my abstract'},\n",
       " {'t': 'myggggtitle', 'a': 'my dddddd'},\n",
       " {'t': 'my asdf', 'a': 'my dfgh'}]"
      ]
     },
     "execution_count": 3,
     "metadata": {},
     "output_type": "execute_result"
    }
   ],
   "source": [
    "pd.DataFrame([{'t': 'my title', 'a': 'my abstract'}, {'t': 'myggggtitle', 'a': 'my dddddd'}, {'t': 'my asdf', 'a': 'my dfgh'}]).to_dict('records')"
   ]
  },
  {
   "cell_type": "code",
   "execution_count": null,
   "metadata": {},
   "outputs": [],
   "source": []
  },
  {
   "cell_type": "code",
   "execution_count": 4,
   "metadata": {},
   "outputs": [],
   "source": [
    "cord_papers = pd.read_parquet('../data/cord_papers.parquet')"
   ]
  },
  {
   "cell_type": "code",
   "execution_count": 5,
   "metadata": {},
   "outputs": [
    {
     "data": {
      "text/html": [
       "<div>\n",
       "<style scoped>\n",
       "    .dataframe tbody tr th:only-of-type {\n",
       "        vertical-align: middle;\n",
       "    }\n",
       "\n",
       "    .dataframe tbody tr th {\n",
       "        vertical-align: top;\n",
       "    }\n",
       "\n",
       "    .dataframe thead th {\n",
       "        text-align: right;\n",
       "    }\n",
       "</style>\n",
       "<table border=\"1\" class=\"dataframe\">\n",
       "  <thead>\n",
       "    <tr style=\"text-align: right;\">\n",
       "      <th></th>\n",
       "      <th>title</th>\n",
       "      <th>authors</th>\n",
       "      <th>abstract</th>\n",
       "      <th>publish_time</th>\n",
       "      <th>journal</th>\n",
       "    </tr>\n",
       "  </thead>\n",
       "  <tbody>\n",
       "    <tr>\n",
       "      <th>0</th>\n",
       "      <td>Intrauterine virus infections and congenital h...</td>\n",
       "      <td>Overall, James C.</td>\n",
       "      <td>Abstract The etiologic basis for the vast majo...</td>\n",
       "      <td>1972-12-31</td>\n",
       "      <td>American Heart Journal</td>\n",
       "    </tr>\n",
       "    <tr>\n",
       "      <th>1</th>\n",
       "      <td>Clinical and immunologic studies in identical ...</td>\n",
       "      <td>Brunner, Carolyn M.; Horwitz, David A.; Shann,...</td>\n",
       "      <td>Abstract Middle-aged female identical twins, o...</td>\n",
       "      <td>1973-08-31</td>\n",
       "      <td>The American Journal of Medicine</td>\n",
       "    </tr>\n",
       "    <tr>\n",
       "      <th>2</th>\n",
       "      <td>Epidemiology of community-acquired respiratory...</td>\n",
       "      <td>Garibaldi, Richard A.</td>\n",
       "      <td>Abstract Upper respiratory tract infections ar...</td>\n",
       "      <td>1985-06-28</td>\n",
       "      <td>The American Journal of Medicine</td>\n",
       "    </tr>\n",
       "  </tbody>\n",
       "</table>\n",
       "</div>"
      ],
      "text/plain": [
       "                                               title  \\\n",
       "0  Intrauterine virus infections and congenital h...   \n",
       "1  Clinical and immunologic studies in identical ...   \n",
       "2  Epidemiology of community-acquired respiratory...   \n",
       "\n",
       "                                             authors  \\\n",
       "0                                  Overall, James C.   \n",
       "1  Brunner, Carolyn M.; Horwitz, David A.; Shann,...   \n",
       "2                              Garibaldi, Richard A.   \n",
       "\n",
       "                                            abstract publish_time  \\\n",
       "0  Abstract The etiologic basis for the vast majo...   1972-12-31   \n",
       "1  Abstract Middle-aged female identical twins, o...   1973-08-31   \n",
       "2  Abstract Upper respiratory tract infections ar...   1985-06-28   \n",
       "\n",
       "                            journal  \n",
       "0            American Heart Journal  \n",
       "1  The American Journal of Medicine  \n",
       "2  The American Journal of Medicine  "
      ]
     },
     "execution_count": 5,
     "metadata": {},
     "output_type": "execute_result"
    }
   ],
   "source": [
    "cord_papers.head(3)"
   ]
  },
  {
   "cell_type": "code",
   "execution_count": 6,
   "metadata": {},
   "outputs": [
    {
     "data": {
      "text/plain": [
       "35657"
      ]
     },
     "execution_count": 6,
     "metadata": {},
     "output_type": "execute_result"
    }
   ],
   "source": [
    "len(cord_papers)"
   ]
  },
  {
   "cell_type": "code",
   "execution_count": 10,
   "metadata": {},
   "outputs": [],
   "source": [
    "idx = np.random.randint(0, 35657, 15)"
   ]
  },
  {
   "cell_type": "code",
   "execution_count": 31,
   "metadata": {},
   "outputs": [],
   "source": [
    "i = 5"
   ]
  },
  {
   "cell_type": "code",
   "execution_count": 32,
   "metadata": {},
   "outputs": [
    {
     "data": {
      "text/plain": [
       "'Epidemic predictions in an imperfect world: modelling disease spread with partial data'"
      ]
     },
     "execution_count": 32,
     "metadata": {},
     "output_type": "execute_result"
    }
   ],
   "source": [
    "cord_papers.iloc[idx]['title'].iloc[i]"
   ]
  },
  {
   "cell_type": "code",
   "execution_count": 33,
   "metadata": {},
   "outputs": [
    {
     "data": {
      "text/plain": [
       "'‘Big-data’ epidemic models are being increasingly used to influence government policy to help with control and eradication of infectious diseases. In the case of livestock, detailed movement records have been used to parametrize realistic transmission models. While livestock movement data are readily available in the UK and other countries in the EU, in many countries around the world, such detailed data are not available. By using a comprehensive database of the UK cattle trade network, we implement various sampling strategies to determine the quantity of network data required to give accurate epidemiological predictions. It is found that by targeting nodes with the highest number of movements, accurate predictions on the size and spatial spread of epidemics can be made. This work has implications for countries such as the USA, where access to data is limited, and developing countries that may lack the resources to collect a full dataset on livestock movements.'"
      ]
     },
     "execution_count": 33,
     "metadata": {},
     "output_type": "execute_result"
    }
   ],
   "source": [
    "cord_papers.iloc[idx]['abstract'].iloc[i]"
   ]
  },
  {
   "cell_type": "code",
   "execution_count": null,
   "metadata": {},
   "outputs": [],
   "source": []
  },
  {
   "cell_type": "code",
   "execution_count": null,
   "metadata": {},
   "outputs": [],
   "source": []
  },
  {
   "cell_type": "code",
   "execution_count": null,
   "metadata": {},
   "outputs": [],
   "source": []
  }
 ],
 "metadata": {
  "kernelspec": {
   "display_name": "Python 3",
   "language": "python",
   "name": "python3"
  },
  "language_info": {
   "codemirror_mode": {
    "name": "ipython",
    "version": 3
   },
   "file_extension": ".py",
   "mimetype": "text/x-python",
   "name": "python",
   "nbconvert_exporter": "python",
   "pygments_lexer": "ipython3",
   "version": "3.8.1"
  }
 },
 "nbformat": 4,
 "nbformat_minor": 4
}
