{
 "cells": [
  {
   "cell_type": "code",
   "execution_count": 1,
   "metadata": {},
   "outputs": [],
   "source": [
    "import pandas as pd\n",
    "import numpy as np"
   ]
  },
  {
   "cell_type": "code",
   "execution_count": 2,
   "metadata": {},
   "outputs": [],
   "source": [
    "import matplotlib.pyplot as plt\n",
    "import seaborn as sns"
   ]
  },
  {
   "cell_type": "code",
   "execution_count": 3,
   "metadata": {},
   "outputs": [],
   "source": [
    "import pickle"
   ]
  },
  {
   "cell_type": "code",
   "execution_count": 4,
   "metadata": {},
   "outputs": [],
   "source": [
    "with open('../model/kmeans.pkl', 'rb') as f:\n",
    "    model = pickle.load(f)"
   ]
  },
  {
   "cell_type": "code",
   "execution_count": 5,
   "metadata": {},
   "outputs": [],
   "source": [
    "with open('../model/tfidf_vectorizer.pkl', 'rb') as f:\n",
    "    vectorizer = pickle.load(f)"
   ]
  },
  {
   "cell_type": "code",
   "execution_count": 6,
   "metadata": {},
   "outputs": [],
   "source": [
    "abs1 = \"\"\"\n",
    "Abstract The etiologic basis for the vast majority of cases of congenital heart disease remains largely undefined. \n",
    "Viruses have been considered to be likely candidates since the recognition of the association between intrauterine \n",
    "rubella and congenital heart disease. Although the pathogenesis of cardiovascular defects is poorly understood, \n",
    "information gained from the study of congenital rubella syndrome suggests that mechanisms such as focal endothelial \n",
    "cell damage, resulting in obliteration of vascular supply, decreased growth rate, and shortened survival time of \n",
    "certain cells, and disturbed DNA replication in cells whose chromosomes were damaged secondary to the effects of \n",
    "virus replication may be operative in the production of defects in the developing fetus. In addition to rubella there \n",
    "is suggestive, but not conclusive, evidence that Coxsackie B3 and B4 virus infections during pregnancy can result in \n",
    "the birth of infants with a variety of types of congenital heart lesions and that intrauterine mumps virus infection \n",
    "may be etiologically related to the postnatal development of endocardial fibroelastosis (EFE). Although there are a \n",
    "number of other viruses that are potential etiologic agents of congenital heart disease, the current status of \n",
    "information is inadequate to allow even suggestive associations to be made. The most profitable areas for future \n",
    "investigation appear to be: (1) the epidemiology of congenital heart disease, (2) prospective studies of the \n",
    "association of maternal viral infection with abnormal offspring, (3) the in-depth virologic investigation of the \n",
    "infant with a cardiac defect, and (4) the development of experimental animal models of congenital heart disease. \n",
    "Successful control of virus-induced congenital heart disease will depend on the results of these investigations and \n",
    "the development of vaccines against the identified causative viruses and/or safe and effective antiviral chemotherapy \n",
    "for the woman in early gestation who is infected with a known teratogenic agent.\n",
    "\"\"\""
   ]
  },
  {
   "cell_type": "code",
   "execution_count": 7,
   "metadata": {},
   "outputs": [],
   "source": [
    "abs2 = \"\"\"\n",
    "Abstract Middle-aged female identical twins, one of whom had systemic lupus erythematosus (SLE), were evaluated for \n",
    "immunologic reactivity to previous antigenic challenges, including primary immunization with a foreign antigen, \n",
    "keyhole limpet hemocyanin (KLH). These two women had lived together for all of their 58 years and neither was \n",
    "receiving anti-inflammatory or immunosuppressive drugs at the time of these studies. Both twins demonstrated \n",
    "comparable 7S and 198 humoral antibody response to KLH, as well as similar viral antibody titers. However, the twin\n",
    "with SLE was anergic to common antigens, streptokinase-streptodornase, Trichophyton and Candida; furthermore delayed \n",
    "hypersensitivity to KLH did not develop after immunization. This observed discrepancy between humoral and cellular \n",
    "immunity in genetically similar subjects may be significant in the pathogenesis of SLE.\n",
    "\"\"\""
   ]
  },
  {
   "cell_type": "code",
   "execution_count": 8,
   "metadata": {},
   "outputs": [],
   "source": [
    "abs3 = \"\"\"\n",
    "Abstract Upper respiratory tract infections are the most common types of infectious diseases among adults. It is \n",
    "estimated that each adult in the United States experiences two to four respiratory infections annually. The morbidity \n",
    "of these infections is measured by an estimated 75 million physician visits per year, almost 150 million days lost \n",
    "from work, and more than $10 billion In costs for medical care. Serotypes of the rhinoviruses account for 20 to 30 \n",
    "percent of episodes of the common cold. However, the specific causes of most upper respiratory infections are \n",
    "undefined. Pneumonia remains an important cause of morbidity and mortality for nonhospitalized adults despite the \n",
    "widespread use of effective antimicrobial agents. There are no accurate figures on the number of episodes of \n",
    "pneumonia that occur each year in ambulatory patients. In younger adults, the atypical pneumonia syndrome Is the most \n",
    "common clinical presentation; Mycoplasma pneumoniae is the most frequently Identified causative agent. Other less \n",
    "common agents include Legionelia pneumophila, influenza viruses, adenoviruses, and Chiamydia. More than half a \n",
    "million adults are hospitalized each year with pneumonia. Persons older than 65 years of age have the highest rate of \n",
    "pneumonia admissions, 11.5 per 1,000 population. Pneumonia ranks as the sixth leading cause of death in the United \n",
    "States. The pathogens responsible for community-acquired pneumonlas are changing. Forty years ago, Streptococcus \n",
    "pneumoniae accounted for the majority of infections. Today, a broad array of community-acquired pathogens have been \n",
    "implicated as etiologic agents Including Leglonella species, gram-negative bacilli, Hemophilus influenzae, \n",
    "Staphylococcus aureus and nonbacterial pathogens. Given the diversity of pathogenic agents, it has become imperative \n",
    "for clinicians to establish a specific etiologic diagnosis before initiating therapy or to consider the diagnostic \n",
    "possibilities and treat with antimicrobial agents that are effective against the most likely pathogens.\n",
    "\"\"\""
   ]
  },
  {
   "cell_type": "code",
   "execution_count": 9,
   "metadata": {},
   "outputs": [],
   "source": [
    "abs4 = \"\"\"\n",
    "Abstract Our understanding of the pathogenesis of infectious, especially bacterial, diarrhea has increased \n",
    "dramatically. New etiologic agents, mechanisms, and diseases have become known. For example, Escherichia coli \n",
    "serogroup 0157 is now known to cause acute hemorrhagic colitis. Also, E. coli serogroups that produce Shiga toxin are \n",
    "recognized as etiologic agents in the hemolytic-uremic syndrome. The production of bacterial diarrhea has two major \n",
    "facets, bacterial-mucosal interaction and the induction of intestinal fluid loss by enterotoxins. Bacterial-mucosal \n",
    "interaction can be described in stages: (1) adherence to epithelial cell microvilli, which is often promoted by or \n",
    "associated with pill; (2) close adherence (enteroadherence), usually by classic enteropathogenic E. coli, to mucosal \n",
    "epithelial cells lacking microvilli; and (3) mucosal invasion, as with Shigella and Salmonella infections. Further \n",
    "large strides in understanding infectious diarrhea are likely with the cloning of virulence genes if additional \n",
    "host-specific animal pathogens become available for study.\n",
    "\"\"\""
   ]
  },
  {
   "cell_type": "code",
   "execution_count": 10,
   "metadata": {},
   "outputs": [
    {
     "data": {
      "text/plain": [
       "TfidfVectorizer(analyzer='word', binary=False, decode_error='strict',\n",
       "                dtype=<class 'numpy.float64'>, encoding='utf-8',\n",
       "                input='content', lowercase=True, max_df=1.0, max_features=None,\n",
       "                min_df=1, ngram_range=(1, 1), norm='l2', preprocessor=None,\n",
       "                smooth_idf=True, stop_words='english', strip_accents=None,\n",
       "                sublinear_tf=False, token_pattern='(?u)\\\\b\\\\w\\\\w+\\\\b',\n",
       "                tokenizer=None, use_idf=True, vocabulary=None)"
      ]
     },
     "execution_count": 10,
     "metadata": {},
     "output_type": "execute_result"
    }
   ],
   "source": [
    "vectorizer"
   ]
  },
  {
   "cell_type": "markdown",
   "metadata": {},
   "source": [
    "# Experimenting"
   ]
  },
  {
   "cell_type": "markdown",
   "metadata": {},
   "source": [
    "## 1 x N term-document matrix"
   ]
  },
  {
   "cell_type": "code",
   "execution_count": 11,
   "metadata": {
    "scrolled": true
   },
   "outputs": [],
   "source": [
    "bow = vectorizer.transform([abs1])"
   ]
  },
  {
   "cell_type": "code",
   "execution_count": 12,
   "metadata": {
    "scrolled": true
   },
   "outputs": [
    {
     "name": "stdout",
     "output_type": "stream",
     "text": [
      "  (0, 434587)\t0.0673182420644212\n",
      "  (0, 426644)\t0.1686863126805504\n",
      "  (0, 426643)\t0.21074280805897275\n",
      "  (0, 426565)\t0.08335521019801752\n",
      "  (0, 426482)\t0.05325757800534894\n",
      "  (0, 423672)\t0.04342850650879513\n",
      "  (0, 423572)\t0.05947179973421697\n",
      "  (0, 423294)\t0.029790519259695166\n",
      "  (0, 422298)\t0.06676620554053883\n",
      "  (0, 416610)\t0.0346274721015864\n",
      "  (0, 416190)\t0.06116175021696181\n",
      "  (0, 412830)\t0.02858470967560365\n",
      "  (0, 403756)\t0.017242253667494434\n",
      "  (0, 399295)\t0.08654907218454312\n",
      "  (0, 393737)\t0.05704735285537139\n",
      "  (0, 392030)\t0.04412789634996064\n",
      "  (0, 391562)\t0.04408093891755196\n",
      "  (0, 388923)\t0.031143308487071083\n",
      "  (0, 388921)\t0.10007476350971399\n",
      "  (0, 388641)\t0.036938202474735206\n",
      "  (0, 386218)\t0.016443636417764397\n",
      "  (0, 386194)\t0.026084617258050447\n",
      "  (0, 383403)\t0.03908312642876201\n",
      "  (0, 369127)\t0.05751070203784838\n",
      "  (0, 363582)\t0.03730788084584393\n",
      "  :\t:\n",
      "  (0, 110391)\t0.06556783322756787\n",
      "  (0, 107952)\t0.02522837942187421\n",
      "  (0, 107241)\t0.07212444074590903\n",
      "  (0, 107203)\t0.033362783451906644\n",
      "  (0, 105322)\t0.06741517970753347\n",
      "  (0, 104588)\t0.025501487165557876\n",
      "  (0, 104000)\t0.058821280822869505\n",
      "  (0, 103943)\t0.053753805542658635\n",
      "  (0, 103077)\t0.03538067595706631\n",
      "  (0, 91724)\t0.0450944508749954\n",
      "  (0, 84052)\t0.029706625523601312\n",
      "  (0, 80788)\t0.06883482298031073\n",
      "  (0, 80739)\t0.06298444139338841\n",
      "  (0, 76309)\t0.04735641931984814\n",
      "  (0, 76305)\t0.07807613224029923\n",
      "  (0, 74052)\t0.03570909996751071\n",
      "  (0, 72410)\t0.0318934059410048\n",
      "  (0, 71507)\t0.07258386574662418\n",
      "  (0, 69755)\t0.05070894852141709\n",
      "  (0, 66419)\t0.029056847995515764\n",
      "  (0, 63380)\t0.037869132676240355\n",
      "  (0, 63367)\t0.0380679999494514\n",
      "  (0, 61297)\t0.026118774917253864\n",
      "  (0, 59336)\t0.03837680956083872\n",
      "  (0, 58990)\t0.05131837999069142\n"
     ]
    }
   ],
   "source": [
    "print(bow)"
   ]
  },
  {
   "cell_type": "code",
   "execution_count": 13,
   "metadata": {},
   "outputs": [
    {
     "name": "stdout",
     "output_type": "stream",
     "text": [
      "443924\n"
     ]
    },
    {
     "name": "stderr",
     "output_type": "stream",
     "text": [
      "/anaconda3/envs/data_analysis/lib/python3.8/site-packages/IPython/core/interactiveshell.py:3331: SparseEfficiencyWarning: Comparing a sparse matrix with 0 using == is inefficient, try using != instead.\n",
      "  exec(code_obj, self.user_global_ns, self.user_ns)\n"
     ]
    }
   ],
   "source": [
    "print((bow == 0).sum())"
   ]
  },
  {
   "cell_type": "code",
   "execution_count": 14,
   "metadata": {},
   "outputs": [
    {
     "name": "stdout",
     "output_type": "stream",
     "text": [
      "128\n"
     ]
    }
   ],
   "source": [
    "print((bow != 0).sum())"
   ]
  },
  {
   "cell_type": "code",
   "execution_count": 128,
   "metadata": {},
   "outputs": [
    {
     "data": {
      "text/plain": [
       "<1x444052 sparse matrix of type '<class 'numpy.float64'>'\n",
       "\twith 128 stored elements in Compressed Sparse Row format>"
      ]
     },
     "execution_count": 128,
     "metadata": {},
     "output_type": "execute_result"
    }
   ],
   "source": [
    "bow"
   ]
  },
  {
   "cell_type": "code",
   "execution_count": 15,
   "metadata": {},
   "outputs": [
    {
     "data": {
      "text/plain": [
       "(1, 444052)"
      ]
     },
     "execution_count": 15,
     "metadata": {},
     "output_type": "execute_result"
    }
   ],
   "source": [
    "bow.shape"
   ]
  },
  {
   "cell_type": "code",
   "execution_count": 16,
   "metadata": {},
   "outputs": [],
   "source": [
    "sum_words = bow.sum(axis=0)"
   ]
  },
  {
   "cell_type": "code",
   "execution_count": 129,
   "metadata": {},
   "outputs": [
    {
     "data": {
      "text/plain": [
       "matrix([[0., 0., 0., ..., 0., 0., 0.]])"
      ]
     },
     "execution_count": 129,
     "metadata": {},
     "output_type": "execute_result"
    }
   ],
   "source": [
    "sum_words"
   ]
  },
  {
   "cell_type": "code",
   "execution_count": 125,
   "metadata": {},
   "outputs": [
    {
     "data": {
      "text/plain": [
       "(1, 444052)"
      ]
     },
     "execution_count": 125,
     "metadata": {},
     "output_type": "execute_result"
    }
   ],
   "source": [
    "sum_words.shape"
   ]
  },
  {
   "cell_type": "code",
   "execution_count": 127,
   "metadata": {},
   "outputs": [
    {
     "data": {
      "text/plain": [
       "True"
      ]
     },
     "execution_count": 127,
     "metadata": {},
     "output_type": "execute_result"
    }
   ],
   "source": [
    "(sum_words == bow).all()"
   ]
  },
  {
   "cell_type": "code",
   "execution_count": 17,
   "metadata": {
    "collapsed": true,
    "jupyter": {
     "outputs_hidden": true
    }
   },
   "outputs": [
    {
     "data": {
      "text/plain": [
       "matrix([[0.05131838, 0.03837681, 0.02611877, 0.038068  , 0.03786913,\n",
       "         0.02905685, 0.05070895, 0.07258387, 0.03189341, 0.0357091 ,\n",
       "         0.07807613, 0.04735642, 0.06298444, 0.06883482, 0.02970663,\n",
       "         0.04509445, 0.03538068, 0.05375381, 0.05882128, 0.02550149,\n",
       "         0.06741518, 0.03336278, 0.07212444, 0.02522838, 0.06556783,\n",
       "         0.06025985, 0.05229958, 0.56950955, 0.02546362, 0.02720329,\n",
       "         0.02446869, 0.04570358, 0.05706599, 0.04461795, 0.03996976,\n",
       "         0.07719337, 0.03220896, 0.03398969, 0.03715073, 0.09273237,\n",
       "         0.25581546, 0.05148431, 0.04340537, 0.03124966, 0.07004875,\n",
       "         0.02436514, 0.02364493, 0.08221527, 0.06642353, 0.05673876,\n",
       "         0.16671042, 0.02831667, 0.02350173, 0.0764863 , 0.04658804,\n",
       "         0.02758096, 0.04402042, 0.0740917 , 0.03050797, 0.31791318,\n",
       "         0.03060694, 0.05102042, 0.02673128, 0.06160854, 0.06444002,\n",
       "         0.04983452, 0.09892823, 0.05697336, 0.04549875, 0.17309814,\n",
       "         0.0685209 , 0.03920418, 0.0217192 , 0.03759049, 0.05727474,\n",
       "         0.0313155 , 0.03784407, 0.06586562, 0.03182254, 0.01989498,\n",
       "         0.07788147, 0.01940626, 0.07902141, 0.05522081, 0.05639419,\n",
       "         0.06836272, 0.04162666, 0.07608278, 0.02310558, 0.06761368,\n",
       "         0.0294703 , 0.05955461, 0.05267645, 0.02399406, 0.03631575,\n",
       "         0.02482565, 0.03177792, 0.10053178, 0.02104296, 0.02725192,\n",
       "         0.01473734, 0.24664581, 0.04560431, 0.03730788, 0.0575107 ,\n",
       "         0.03908313, 0.02608462, 0.01644364, 0.0369382 , 0.10007476,\n",
       "         0.03114331, 0.04408094, 0.0441279 , 0.05704735, 0.08654907,\n",
       "         0.01724225, 0.02858471, 0.06116175, 0.03462747, 0.06676621,\n",
       "         0.02979052, 0.0594718 , 0.04342851, 0.05325758, 0.08335521,\n",
       "         0.21074281, 0.16868631, 0.06731824]])"
      ]
     },
     "execution_count": 17,
     "metadata": {},
     "output_type": "execute_result"
    }
   ],
   "source": [
    "sum_words[sum_words > 0]"
   ]
  },
  {
   "cell_type": "code",
   "execution_count": 18,
   "metadata": {},
   "outputs": [],
   "source": [
    "# An alternative way of finding sum_words\n",
    "present_words = bow[bow > 0]"
   ]
  },
  {
   "cell_type": "code",
   "execution_count": 67,
   "metadata": {},
   "outputs": [
    {
     "data": {
      "text/plain": [
       "True"
      ]
     },
     "execution_count": 67,
     "metadata": {},
     "output_type": "execute_result"
    }
   ],
   "source": [
    "(sum_words[sum_words > 0] == present_words).all()"
   ]
  },
  {
   "cell_type": "code",
   "execution_count": 38,
   "metadata": {},
   "outputs": [
    {
     "data": {
      "text/plain": [
       "[('fully', 179948),\n",
       " ('differential', 141422),\n",
       " ('calculation', 102327),\n",
       " ('perturbative', 315563),\n",
       " ('quantum', 337253),\n",
       " ('chromodynamics', 111863),\n",
       " ('presented', 327940),\n",
       " ('production', 329459),\n",
       " ('massive', 260959),\n",
       " ('photon', 318048)]"
      ]
     },
     "execution_count": 38,
     "metadata": {},
     "output_type": "execute_result"
    }
   ],
   "source": [
    "list(vectorizer.vocabulary_.items())[:10]"
   ]
  },
  {
   "cell_type": "code",
   "execution_count": 115,
   "metadata": {},
   "outputs": [
    {
     "data": {
      "text/html": [
       "<div>\n",
       "<style scoped>\n",
       "    .dataframe tbody tr th:only-of-type {\n",
       "        vertical-align: middle;\n",
       "    }\n",
       "\n",
       "    .dataframe tbody tr th {\n",
       "        vertical-align: top;\n",
       "    }\n",
       "\n",
       "    .dataframe thead th {\n",
       "        text-align: right;\n",
       "    }\n",
       "</style>\n",
       "<table border=\"1\" class=\"dataframe\">\n",
       "  <thead>\n",
       "    <tr style=\"text-align: right;\">\n",
       "      <th></th>\n",
       "      <th>0</th>\n",
       "      <th>1</th>\n",
       "    </tr>\n",
       "  </thead>\n",
       "  <tbody>\n",
       "    <tr>\n",
       "      <th>0</th>\n",
       "      <td>fully</td>\n",
       "      <td>179948</td>\n",
       "    </tr>\n",
       "    <tr>\n",
       "      <th>1</th>\n",
       "      <td>differential</td>\n",
       "      <td>141422</td>\n",
       "    </tr>\n",
       "    <tr>\n",
       "      <th>2</th>\n",
       "      <td>calculation</td>\n",
       "      <td>102327</td>\n",
       "    </tr>\n",
       "    <tr>\n",
       "      <th>3</th>\n",
       "      <td>perturbative</td>\n",
       "      <td>315563</td>\n",
       "    </tr>\n",
       "    <tr>\n",
       "      <th>4</th>\n",
       "      <td>quantum</td>\n",
       "      <td>337253</td>\n",
       "    </tr>\n",
       "    <tr>\n",
       "      <th>...</th>\n",
       "      <td>...</td>\n",
       "      <td>...</td>\n",
       "    </tr>\n",
       "    <tr>\n",
       "      <th>444047</th>\n",
       "      <td>neerhoff</td>\n",
       "      <td>287306</td>\n",
       "    </tr>\n",
       "    <tr>\n",
       "      <th>444048</th>\n",
       "      <td>doer</td>\n",
       "      <td>146279</td>\n",
       "    </tr>\n",
       "    <tr>\n",
       "      <th>444049</th>\n",
       "      <td>chenhong</td>\n",
       "      <td>110465</td>\n",
       "    </tr>\n",
       "    <tr>\n",
       "      <th>444050</th>\n",
       "      <td>photoreceptive</td>\n",
       "      <td>318166</td>\n",
       "    </tr>\n",
       "    <tr>\n",
       "      <th>444051</th>\n",
       "      <td>creativebioman</td>\n",
       "      <td>125877</td>\n",
       "    </tr>\n",
       "  </tbody>\n",
       "</table>\n",
       "<p>444052 rows × 2 columns</p>\n",
       "</div>"
      ],
      "text/plain": [
       "                     0       1\n",
       "0                fully  179948\n",
       "1         differential  141422\n",
       "2          calculation  102327\n",
       "3         perturbative  315563\n",
       "4              quantum  337253\n",
       "...                ...     ...\n",
       "444047        neerhoff  287306\n",
       "444048            doer  146279\n",
       "444049        chenhong  110465\n",
       "444050  photoreceptive  318166\n",
       "444051  creativebioman  125877\n",
       "\n",
       "[444052 rows x 2 columns]"
      ]
     },
     "execution_count": 115,
     "metadata": {},
     "output_type": "execute_result"
    }
   ],
   "source": [
    "pd.DataFrame(vectorizer.vocabulary_.items()).loc[]"
   ]
  },
  {
   "cell_type": "code",
   "execution_count": 116,
   "metadata": {},
   "outputs": [],
   "source": [
    "import time"
   ]
  },
  {
   "cell_type": "code",
   "execution_count": 166,
   "metadata": {},
   "outputs": [
    {
     "name": "stdout",
     "output_type": "stream",
     "text": [
      "time elapsed: 6.779685020446777\n"
     ]
    }
   ],
   "source": [
    "ts = time.time()\n",
    "words = sorted([\n",
    "    (word, bow[0, idx]) for word, idx in vectorizer.vocabulary_.items() if bow[0, idx] != 0\n",
    "], key=lambda x: x[1], reverse=True)\n",
    "te = time.time()\n",
    "print('time elapsed: {}'.format(te - ts))"
   ]
  },
  {
   "cell_type": "code",
   "execution_count": 167,
   "metadata": {},
   "outputs": [
    {
     "name": "stdout",
     "output_type": "stream",
     "text": [
      "time elapsed: 0.3367478847503662\n"
     ]
    }
   ],
   "source": [
    "ts = time.time()\n",
    "words = sorted([\n",
    "    (word, sum_words[0, idx]) for word, idx in vectorizer.vocabulary_.items() if sum_words[0, idx] != 0\n",
    "], key=lambda x: x[1], reverse=True)\n",
    "te = time.time()\n",
    "print('time elapsed: {}'.format(te - ts))"
   ]
  },
  {
   "cell_type": "code",
   "execution_count": 21,
   "metadata": {},
   "outputs": [
    {
     "name": "stdout",
     "output_type": "stream",
     "text": [
      "Top 10 words\n"
     ]
    },
    {
     "data": {
      "text/plain": [
       "[('congenital', 0.5695095484238162),\n",
       " ('heart', 0.31791317701029603),\n",
       " ('disease', 0.25581545873099903),\n",
       " ('rubella', 0.24664581454053092),\n",
       " ('virus', 0.21074280805897275),\n",
       " ('intrauterine', 0.17309814436908624),\n",
       " ('viruses', 0.1686863126805504),\n",
       " ('etiologic', 0.16671042039603504),\n",
       " ('replication', 0.10053177644893106),\n",
       " ('suggestive', 0.10007476350971399)]"
      ]
     },
     "execution_count": 21,
     "metadata": {},
     "output_type": "execute_result"
    }
   ],
   "source": [
    "print('Top 10 words')\n",
    "words[:10]"
   ]
  },
  {
   "cell_type": "markdown",
   "metadata": {},
   "source": [
    "Try an alternative way without iterating through vectorizer.vocabulary_.items()"
   ]
  },
  {
   "cell_type": "code",
   "execution_count": 136,
   "metadata": {},
   "outputs": [],
   "source": [
    "analyzer = vectorizer.build_analyzer()"
   ]
  },
  {
   "cell_type": "code",
   "execution_count": 140,
   "metadata": {
    "collapsed": true,
    "jupyter": {
     "outputs_hidden": true
    }
   },
   "outputs": [
    {
     "data": {
      "text/plain": [
       "{'abnormal',\n",
       " 'abstract',\n",
       " 'addition',\n",
       " 'agent',\n",
       " 'agents',\n",
       " 'allow',\n",
       " 'animal',\n",
       " 'antiviral',\n",
       " 'appear',\n",
       " 'areas',\n",
       " 'association',\n",
       " 'associations',\n",
       " 'b3',\n",
       " 'b4',\n",
       " 'basis',\n",
       " 'birth',\n",
       " 'candidates',\n",
       " 'cardiac',\n",
       " 'cardiovascular',\n",
       " 'cases',\n",
       " 'causative',\n",
       " 'cell',\n",
       " 'cells',\n",
       " 'certain',\n",
       " 'chemotherapy',\n",
       " 'chromosomes',\n",
       " 'conclusive',\n",
       " 'congenital',\n",
       " 'considered',\n",
       " 'control',\n",
       " 'coxsackie',\n",
       " 'current',\n",
       " 'damage',\n",
       " 'damaged',\n",
       " 'decreased',\n",
       " 'defect',\n",
       " 'defects',\n",
       " 'depend',\n",
       " 'depth',\n",
       " 'developing',\n",
       " 'development',\n",
       " 'disease',\n",
       " 'disturbed',\n",
       " 'dna',\n",
       " 'early',\n",
       " 'efe',\n",
       " 'effective',\n",
       " 'effects',\n",
       " 'endocardial',\n",
       " 'endothelial',\n",
       " 'epidemiology',\n",
       " 'etiologic',\n",
       " 'etiologically',\n",
       " 'evidence',\n",
       " 'experimental',\n",
       " 'fetus',\n",
       " 'fibroelastosis',\n",
       " 'focal',\n",
       " 'future',\n",
       " 'gained',\n",
       " 'gestation',\n",
       " 'growth',\n",
       " 'heart',\n",
       " 'identified',\n",
       " 'inadequate',\n",
       " 'induced',\n",
       " 'infant',\n",
       " 'infants',\n",
       " 'infected',\n",
       " 'infection',\n",
       " 'infections',\n",
       " 'information',\n",
       " 'intrauterine',\n",
       " 'investigation',\n",
       " 'investigations',\n",
       " 'known',\n",
       " 'largely',\n",
       " 'lesions',\n",
       " 'likely',\n",
       " 'majority',\n",
       " 'maternal',\n",
       " 'mechanisms',\n",
       " 'models',\n",
       " 'mumps',\n",
       " 'number',\n",
       " 'obliteration',\n",
       " 'offspring',\n",
       " 'operative',\n",
       " 'pathogenesis',\n",
       " 'poorly',\n",
       " 'postnatal',\n",
       " 'potential',\n",
       " 'pregnancy',\n",
       " 'production',\n",
       " 'profitable',\n",
       " 'prospective',\n",
       " 'rate',\n",
       " 'recognition',\n",
       " 'related',\n",
       " 'remains',\n",
       " 'replication',\n",
       " 'result',\n",
       " 'resulting',\n",
       " 'results',\n",
       " 'rubella',\n",
       " 'safe',\n",
       " 'secondary',\n",
       " 'shortened',\n",
       " 'status',\n",
       " 'studies',\n",
       " 'study',\n",
       " 'successful',\n",
       " 'suggestive',\n",
       " 'suggests',\n",
       " 'supply',\n",
       " 'survival',\n",
       " 'syndrome',\n",
       " 'teratogenic',\n",
       " 'time',\n",
       " 'types',\n",
       " 'undefined',\n",
       " 'understood',\n",
       " 'vaccines',\n",
       " 'variety',\n",
       " 'vascular',\n",
       " 'vast',\n",
       " 'viral',\n",
       " 'virologic',\n",
       " 'virus',\n",
       " 'viruses',\n",
       " 'woman'}"
      ]
     },
     "execution_count": 140,
     "metadata": {},
     "output_type": "execute_result"
    }
   ],
   "source": [
    "set(analyzer(abs1))"
   ]
  },
  {
   "cell_type": "markdown",
   "metadata": {},
   "source": [
    "We can see that words that are very similar (e.g. singluar and plural versions of each other) are not the same."
   ]
  },
  {
   "cell_type": "code",
   "execution_count": 145,
   "metadata": {},
   "outputs": [
    {
     "name": "stdout",
     "output_type": "stream",
     "text": [
      "infant: 216778, infants: 216783\n"
     ]
    }
   ],
   "source": [
    "print('infant: {}, infants: {}'.format(vectorizer.vocabulary_.get('infant'), vectorizer.vocabulary_.get('infants')))"
   ]
  },
  {
   "cell_type": "code",
   "execution_count": 159,
   "metadata": {},
   "outputs": [
    {
     "data": {
      "text/plain": [
       "120432"
      ]
     },
     "execution_count": 159,
     "metadata": {},
     "output_type": "execute_result"
    }
   ],
   "source": [
    "vectorizer.vocabulary_.get('congenital')"
   ]
  },
  {
   "cell_type": "code",
   "execution_count": 160,
   "metadata": {},
   "outputs": [
    {
     "data": {
      "text/plain": [
       "0.5695095484238162"
      ]
     },
     "execution_count": 160,
     "metadata": {},
     "output_type": "execute_result"
    }
   ],
   "source": [
    "sum_words[0, 120432]"
   ]
  },
  {
   "cell_type": "code",
   "execution_count": 164,
   "metadata": {
    "collapsed": true,
    "jupyter": {
     "outputs_hidden": true
    }
   },
   "outputs": [
    {
     "name": "stdout",
     "output_type": "stream",
     "text": [
      "pathogenesis 0.0683627231277751\n",
      "control 0.027203285396763442\n",
      "abnormal 0.05131837999069142\n",
      "developing 0.03715073310491232\n",
      "mechanisms 0.03182254010712472\n",
      "gained 0.044020416787812905\n",
      "fetus 0.07648629864883033\n",
      "agents 0.037869132676240355\n",
      "models 0.019894978861257667\n",
      "shortened 0.05751070203784838\n",
      "poorly 0.04162665656789072\n",
      "disturbed 0.05148431465148274\n",
      "defects 0.07719336513172612\n",
      "infants 0.06444002326216244\n",
      "infected 0.049834520455638874\n",
      "production 0.02947030323078043\n",
      "undefined 0.06116175021696181\n",
      "virus 0.21074280805897275\n",
      "induced 0.026731279920075717\n",
      "likely 0.03131550274738596\n",
      "investigations 0.03920418459437642\n",
      "successful 0.036938202474735206\n",
      "syndrome 0.05704735285537139\n",
      "result 0.021042957346620896\n",
      "time 0.017242253667494434\n",
      "experimental 0.023501727255832643\n",
      "chromosomes 0.06025985078039236\n",
      "supply 0.04408093891755196\n",
      "focal 0.04658804368959097\n",
      "status 0.03908312642876201\n",
      "related 0.024825650369570375\n",
      "virologic 0.08335521019801752\n",
      "evidence 0.02831666677497115\n",
      "vaccines 0.06676620554053883\n",
      "growth 0.03050796586761529\n",
      "suggestive 0.10007476350971399\n",
      "effects 0.023644927579329615\n",
      "antiviral 0.07258386574662418\n",
      "areas 0.03570909996751071\n",
      "profitable 0.05955461356393038\n",
      "congenital 0.5695095484238162\n",
      "defect 0.039969758614296615\n",
      "b4 0.06883482298031073\n",
      "epidemiology 0.05673875612554514\n",
      "cardiovascular 0.058821280822869505\n",
      "infection 0.09892822672621188\n",
      "early 0.031249659286045985\n",
      "suggests 0.031143308487071083\n",
      "dna 0.04340536909631868\n",
      "depend 0.032208958592811865\n",
      "intrauterine 0.17309814436908624\n",
      "candidates 0.03538067595706631\n",
      "abstract 0.03837680956083872\n",
      "b3 0.06298444139338841\n",
      "certain 0.02522837942187421\n",
      "vascular 0.05947179973421697\n",
      "replication 0.10053177644893106\n",
      "etiologic 0.16671042039603504\n",
      "heart 0.31791317701029603\n",
      "recognition 0.036315751226844495\n",
      "viral 0.05325757800534894\n",
      "chemotherapy 0.06556783322756787\n",
      "infections 0.05697335965171953\n",
      "identified 0.030606942675649926\n",
      "association 0.07807613224029923\n",
      "inadequate 0.051020419531198256\n",
      "teratogenic 0.08654907218454312\n",
      "secondary 0.03730788084584393\n",
      "endocardial 0.08221527151351031\n",
      "investigation 0.068520899848772\n",
      "birth 0.0450944508749954\n",
      "variety 0.029790519259695166\n",
      "largely 0.03759048914656826\n",
      "woman 0.0673182420644212\n",
      "depth 0.03398969356846977\n",
      "current 0.02446869401357792\n",
      "cells 0.07212444074590903\n",
      "infant 0.06160853686594876\n",
      "viruses 0.1686863126805504\n",
      "efe 0.07004875486846981\n",
      "studies 0.026084617258050447\n",
      "rubella 0.24664581454053092\n",
      "basis 0.029706625523601312\n",
      "associations 0.04735641931984814\n",
      "postnatal 0.07608278104959906\n",
      "disease 0.25581545873099903\n",
      "effective 0.02436514385362605\n",
      "gestation 0.07409169599245506\n",
      "addition 0.026118774917253864\n",
      "remains 0.031777917752936966\n",
      "allow 0.029056847995515764\n",
      "majority 0.03784406618391781\n",
      "causative 0.06741517970753347\n",
      "study 0.016443636417764397\n",
      "prospective 0.05267644612447205\n",
      "safe 0.04560431143041438\n",
      "resulting 0.027251919964717302\n",
      "maternal 0.06586562058999049\n",
      "conclusive 0.052299576228496035\n",
      "animal 0.05070894852141709\n",
      "results 0.0147373355279993\n",
      "cases 0.025501487165557876\n",
      "rate 0.023994059156318342\n",
      "information 0.04549874759256924\n",
      "operative 0.05639418669845352\n",
      "survival 0.04412789634996064\n",
      "cell 0.033362783451906644\n",
      "damage 0.04570358108382419\n",
      "number 0.019406264027464402\n",
      "potential 0.02310557761340562\n",
      "mumps 0.0778814708424775\n",
      "development 0.09273236915578806\n",
      "future 0.027580955764260933\n",
      "pregnancy 0.0676136837683146\n",
      "endothelial 0.06642352511311755\n",
      "appear 0.0318934059410048\n",
      "considered 0.025463621874256485\n",
      "damaged 0.05706598879386677\n",
      "lesions 0.05727473619491595\n",
      "known 0.021719199557098445\n",
      "types 0.02858470967560365\n",
      "decreased 0.0446179514425535\n",
      "obliteration 0.07902140952698472\n",
      "vast 0.04342850650879513\n",
      "understood 0.0346274721015864\n",
      "cardiac 0.053753805542658635\n",
      "agent 0.0380679999494514\n",
      "offspring 0.05522081289289757\n"
     ]
    }
   ],
   "source": [
    "processed_words = set(analyzer(abs1))\n",
    "vocab = vectorizer.vocabulary_\n",
    "\n",
    "for word in processed_words:\n",
    "    if word in vocab:\n",
    "        print(word, sum_words[0, vocab.get(word)])"
   ]
  },
  {
   "cell_type": "code",
   "execution_count": 168,
   "metadata": {},
   "outputs": [
    {
     "name": "stdout",
     "output_type": "stream",
     "text": [
      "time elapsed: 0.000553131103515625\n"
     ]
    }
   ],
   "source": [
    "processed_words = set(analyzer(abs1))\n",
    "vocab = vectorizer.vocabulary_\n",
    "ts = time.time()\n",
    "words = sorted([\n",
    "#     (word, sum_words[0, idx]) for word, idx in vectorizer.vocabulary_.items() if sum_words[0, idx] != 0\n",
    "    (word, sum_words[0, vocab.get(word)]) for word in processed_words if word in vocab and sum_words[0, vocab.get(word)] != 0\n",
    "], key=lambda x: x[1], reverse=True)\n",
    "te = time.time()\n",
    "print('time elapsed: {}'.format(te - ts))"
   ]
  },
  {
   "cell_type": "code",
   "execution_count": 170,
   "metadata": {},
   "outputs": [
    {
     "data": {
      "text/plain": [
       "[('congenital', 0.5695095484238162),\n",
       " ('heart', 0.31791317701029603),\n",
       " ('disease', 0.25581545873099903),\n",
       " ('rubella', 0.24664581454053092),\n",
       " ('virus', 0.21074280805897275),\n",
       " ('intrauterine', 0.17309814436908624),\n",
       " ('viruses', 0.1686863126805504),\n",
       " ('etiologic', 0.16671042039603504),\n",
       " ('replication', 0.10053177644893106),\n",
       " ('suggestive', 0.10007476350971399)]"
      ]
     },
     "execution_count": 170,
     "metadata": {},
     "output_type": "execute_result"
    }
   ],
   "source": [
    "words[:10]"
   ]
  },
  {
   "cell_type": "code",
   "execution_count": 149,
   "metadata": {},
   "outputs": [
    {
     "data": {
      "text/plain": [
       "216778"
      ]
     },
     "execution_count": 149,
     "metadata": {},
     "output_type": "execute_result"
    }
   ],
   "source": [
    "vectorizer.vocabulary_.get('infant')"
   ]
  },
  {
   "cell_type": "markdown",
   "metadata": {},
   "source": [
    "## M x N term document matrix"
   ]
  },
  {
   "cell_type": "code",
   "execution_count": 58,
   "metadata": {},
   "outputs": [],
   "source": [
    "to_transform = [abs1, abs2, abs3]"
   ]
  },
  {
   "cell_type": "code",
   "execution_count": 59,
   "metadata": {},
   "outputs": [],
   "source": [
    "bow2 = vectorizer.transform(to_transform)"
   ]
  },
  {
   "cell_type": "code",
   "execution_count": 107,
   "metadata": {},
   "outputs": [
    {
     "data": {
      "text/plain": [
       "<3x444052 sparse matrix of type '<class 'numpy.float64'>'\n",
       "\twith 318 stored elements in Compressed Sparse Row format>"
      ]
     },
     "execution_count": 107,
     "metadata": {},
     "output_type": "execute_result"
    }
   ],
   "source": [
    "bow2"
   ]
  },
  {
   "cell_type": "code",
   "execution_count": 106,
   "metadata": {},
   "outputs": [
    {
     "name": "stdout",
     "output_type": "stream",
     "text": [
      "0.05131837999069142\n"
     ]
    }
   ],
   "source": [
    "print(bow2[0, 58990])"
   ]
  },
  {
   "cell_type": "code",
   "execution_count": 70,
   "metadata": {},
   "outputs": [
    {
     "data": {
      "text/plain": [
       "(3, 444052)"
      ]
     },
     "execution_count": 70,
     "metadata": {},
     "output_type": "execute_result"
    }
   ],
   "source": [
    "bow2.shape"
   ]
  },
  {
   "cell_type": "code",
   "execution_count": 61,
   "metadata": {},
   "outputs": [
    {
     "name": "stderr",
     "output_type": "stream",
     "text": [
      "/anaconda3/envs/data_analysis/lib/python3.8/site-packages/IPython/core/interactiveshell.py:3331: SparseEfficiencyWarning: Comparing sparse matrices using == is inefficient, try using != instead.\n",
      "  exec(code_obj, self.user_global_ns, self.user_ns)\n"
     ]
    },
    {
     "data": {
      "text/plain": [
       "444052"
      ]
     },
     "execution_count": 61,
     "metadata": {},
     "output_type": "execute_result"
    }
   ],
   "source": [
    "(bow2[0] == bow).sum()"
   ]
  },
  {
   "cell_type": "markdown",
   "metadata": {},
   "source": [
    "So we conclude that the m'th entry of the BoW matrix corresponds to the m'th transformed string."
   ]
  },
  {
   "cell_type": "code",
   "execution_count": 91,
   "metadata": {},
   "outputs": [
    {
     "data": {
      "text/plain": [
       "(1, 444052)"
      ]
     },
     "execution_count": 91,
     "metadata": {},
     "output_type": "execute_result"
    }
   ],
   "source": [
    "bow2[0].shape"
   ]
  },
  {
   "cell_type": "code",
   "execution_count": 79,
   "metadata": {},
   "outputs": [
    {
     "data": {
      "text/plain": [
       "matrix([[0.05131838, 0.03837681, 0.02611877, 0.038068  , 0.03786913,\n",
       "         0.02905685, 0.05070895, 0.07258387, 0.03189341, 0.0357091 ,\n",
       "         0.07807613, 0.04735642, 0.06298444, 0.06883482, 0.02970663,\n",
       "         0.04509445, 0.03538068, 0.05375381, 0.05882128, 0.02550149,\n",
       "         0.06741518, 0.03336278, 0.07212444, 0.02522838, 0.06556783,\n",
       "         0.06025985, 0.05229958, 0.56950955, 0.02546362, 0.02720329,\n",
       "         0.02446869, 0.04570358, 0.05706599, 0.04461795, 0.03996976,\n",
       "         0.07719337, 0.03220896, 0.03398969, 0.03715073, 0.09273237,\n",
       "         0.25581546, 0.05148431, 0.04340537, 0.03124966, 0.07004875,\n",
       "         0.02436514, 0.02364493, 0.08221527, 0.06642353, 0.05673876,\n",
       "         0.16671042, 0.02831667, 0.02350173, 0.0764863 , 0.04658804,\n",
       "         0.02758096, 0.04402042, 0.0740917 , 0.03050797, 0.31791318,\n",
       "         0.03060694, 0.05102042, 0.02673128, 0.06160854, 0.06444002,\n",
       "         0.04983452, 0.09892823, 0.05697336, 0.04549875, 0.17309814,\n",
       "         0.0685209 , 0.03920418, 0.0217192 , 0.03759049, 0.05727474,\n",
       "         0.0313155 , 0.03784407, 0.06586562, 0.03182254, 0.01989498,\n",
       "         0.07788147, 0.01940626, 0.07902141, 0.05522081, 0.05639419,\n",
       "         0.06836272, 0.04162666, 0.07608278, 0.02310558, 0.06761368,\n",
       "         0.0294703 , 0.05955461, 0.05267645, 0.02399406, 0.03631575,\n",
       "         0.02482565, 0.03177792, 0.10053178, 0.02104296, 0.02725192,\n",
       "         0.01473734, 0.24664581, 0.04560431, 0.03730788, 0.0575107 ,\n",
       "         0.03908313, 0.02608462, 0.01644364, 0.0369382 , 0.10007476,\n",
       "         0.03114331, 0.04408094, 0.0441279 , 0.05704735, 0.08654907,\n",
       "         0.01724225, 0.02858471, 0.06116175, 0.03462747, 0.06676621,\n",
       "         0.02979052, 0.0594718 , 0.04342851, 0.05325758, 0.08335521,\n",
       "         0.21074281, 0.16868631, 0.06731824]])"
      ]
     },
     "execution_count": 79,
     "metadata": {},
     "output_type": "execute_result"
    }
   ],
   "source": [
    "bow2[0][bow2[0] > 0]"
   ]
  },
  {
   "cell_type": "code",
   "execution_count": 80,
   "metadata": {},
   "outputs": [
    {
     "data": {
      "text/plain": [
       "matrix([[0.10306235, 0.0781224 , 0.11628087, 0.06609759, 0.09572406,\n",
       "         0.05949179, 0.22095324, 0.10952302, 0.11920922, 0.11814215,\n",
       "         0.13723565, 0.06766575, 0.05880375, 0.05028055, 0.05715845,\n",
       "         0.07536842, 0.05313229, 0.04739019, 0.07332817, 0.06921496,\n",
       "         0.09399551, 0.13994196, 0.05805384, 0.09687273, 0.09473231,\n",
       "         0.04653411, 0.10521773, 0.14906619, 0.27988391, 0.13038692,\n",
       "         0.06228001, 0.09754145, 0.22487995, 0.1435653 , 0.13994196,\n",
       "         0.04081062, 0.11220329, 0.12761046, 0.46029747, 0.14596825,\n",
       "         0.07231362, 0.10768204, 0.07622017, 0.03697841, 0.11774327,\n",
       "         0.04242123, 0.05881115, 0.09542422, 0.08470001, 0.05241418,\n",
       "         0.04390881, 0.08450124, 0.29409722, 0.04492636, 0.07651833,\n",
       "         0.08551276, 0.02969688, 0.14906619, 0.08156345, 0.19631746,\n",
       "         0.0917272 , 0.09525309, 0.05114769]])"
      ]
     },
     "execution_count": 80,
     "metadata": {},
     "output_type": "execute_result"
    }
   ],
   "source": [
    "bow2[1][bow2[1] > 0]"
   ]
  },
  {
   "cell_type": "markdown",
   "metadata": {},
   "source": [
    "Convert this to a for loop:"
   ]
  },
  {
   "cell_type": "code",
   "execution_count": 122,
   "metadata": {},
   "outputs": [
    {
     "name": "stdout",
     "output_type": "stream",
     "text": [
      "iteration 0\n",
      "iteration 0: 6.13029408454895s\n",
      "iteration 1\n",
      "iteration 1: 6.342540979385376s\n",
      "iteration 2\n",
      "iteration 2: 6.814918756484985s\n",
      "Top words: [('pneumonia', 0.46677642359350113), ('infections', 0.30436941855490124), ('pathogens', 0.2550067485012508), ('adults', 0.2535938232055195), ('agents', 0.20230869241880514)]\n",
      "elapsed: 19.28830575942993s\n"
     ]
    }
   ],
   "source": [
    "ts = time.time()\n",
    "for i, s in enumerate(to_transform):\n",
    "#     bow_s = bow2[i]\n",
    "#     print(bow_s[0, 0])\n",
    "    print('iteration', i)\n",
    "    ts2 = time.time()\n",
    "    words_s = sorted([\n",
    "        (w, bow2[i, w_idx]) for w, w_idx in vectorizer.vocabulary_.items() if bow2[i, w_idx] != 0\n",
    "    ], key=lambda x: x[1], reverse=True)\n",
    "    te2 = time.time()\n",
    "    print('iteration {}: {}s'.format(i, te2 - ts2))\n",
    "te = time.time()    \n",
    "print('Top words:', words_s[:5])\n",
    "print('elapsed: {}s'.format(te-ts))"
   ]
  },
  {
   "cell_type": "code",
   "execution_count": 131,
   "metadata": {},
   "outputs": [
    {
     "name": "stdout",
     "output_type": "stream",
     "text": [
      "iteration 0\n",
      "iteration 0: 0.36061811447143555s\n",
      "iteration 1\n",
      "iteration 1: 0.32839202880859375s\n",
      "iteration 2\n",
      "iteration 2: 0.3197479248046875s\n",
      "Top words: [('pneumonia', 0.46677642359350113), ('infections', 0.30436941855490124), ('pathogens', 0.2550067485012508), ('adults', 0.2535938232055195), ('agents', 0.20230869241880514)]\n",
      "elapsed: 1.0152702331542969s\n"
     ]
    }
   ],
   "source": [
    "ts = time.time()\n",
    "for i, s in enumerate(to_transform):\n",
    "    sw = bow2[i].sum(axis=0)\n",
    "#     print(bow_s[0, 0])\n",
    "    print('iteration', i)\n",
    "    ts2 = time.time()\n",
    "    words_s = sorted([\n",
    "        (w, sw[0, w_idx]) for w, w_idx in vectorizer.vocabulary_.items() if sw[0, w_idx] != 0\n",
    "    ], key=lambda x: x[1], reverse=True)\n",
    "    te2 = time.time()\n",
    "    print('iteration {}: {}s'.format(i, te2 - ts2))\n",
    "te = time.time()    \n",
    "print('Top words:', words_s[:5])\n",
    "print('elapsed: {}s'.format(te-ts))"
   ]
  },
  {
   "cell_type": "code",
   "execution_count": null,
   "metadata": {},
   "outputs": [],
   "source": []
  },
  {
   "cell_type": "code",
   "execution_count": null,
   "metadata": {},
   "outputs": [],
   "source": []
  },
  {
   "cell_type": "code",
   "execution_count": null,
   "metadata": {},
   "outputs": [],
   "source": []
  },
  {
   "cell_type": "code",
   "execution_count": null,
   "metadata": {},
   "outputs": [],
   "source": []
  },
  {
   "cell_type": "markdown",
   "metadata": {},
   "source": [
    "# Convert to function"
   ]
  },
  {
   "cell_type": "code",
   "execution_count": 22,
   "metadata": {},
   "outputs": [],
   "source": [
    "import typing"
   ]
  },
  {
   "cell_type": "code",
   "execution_count": 176,
   "metadata": {},
   "outputs": [],
   "source": [
    "def top_n_words_old(s: typing.List[str], vec, n: int = None) -> typing.List[typing.Tuple[str, float]]:\n",
    "    bow = vec.transform(s)\n",
    "    sum_words = bow.sum(axis=0)\n",
    "    words = [(w, sum_words[0, i]) for w, i in vec.vocabulary_.items() if sum_words[0, i] != 0]\n",
    "    words = sorted(words, key=lambda x: x[1], reverse=True)\n",
    "    return words[:n]"
   ]
  },
  {
   "cell_type": "code",
   "execution_count": 195,
   "metadata": {},
   "outputs": [],
   "source": [
    "def top_n_words(s: typing.List[str], vec, n: int = None) -> typing.List[typing.Tuple[str, float]]:\n",
    "    analyzer = vec.build_analyzer()\n",
    "    pw = set()\n",
    "    for text in s:\n",
    "        pw |= set(analyzer(text))\n",
    "    bow = vec.transform(s)\n",
    "    sum_words = bow.sum(axis=0)\n",
    "    words = [(word, sum_words[0, vocab.get(word)]) for word in pw if word in vocab and sum_words[0, vocab.get(word)] != 0]\n",
    "    words = sorted(words, key=lambda x: x[1], reverse=True)\n",
    "    return words[:n]"
   ]
  },
  {
   "cell_type": "code",
   "execution_count": 196,
   "metadata": {},
   "outputs": [
    {
     "name": "stdout",
     "output_type": "stream",
     "text": [
      "elpased: 0.3707699775695801\n"
     ]
    }
   ],
   "source": [
    "ts = time.time()\n",
    "top_n_words_old([abs1, abs2, abs3], vectorizer, 5)\n",
    "print('elpased: {}'.format(time.time()-ts))"
   ]
  },
  {
   "cell_type": "code",
   "execution_count": 197,
   "metadata": {},
   "outputs": [
    {
     "name": "stdout",
     "output_type": "stream",
     "text": [
      "elpased: 0.010671854019165039\n"
     ]
    }
   ],
   "source": [
    "ts = time.time()\n",
    "top_n_words([abs1, abs2, abs3], vectorizer, 5)\n",
    "print('elpased: {}'.format(time.time()-ts))"
   ]
  },
  {
   "cell_type": "code",
   "execution_count": 200,
   "metadata": {},
   "outputs": [
    {
     "data": {
      "text/plain": [
       "[('fetal', 0.3986673983545138),\n",
       " ('hlhs', 0.3590506577176913),\n",
       " ('heart', 0.3203344616808433),\n",
       " ('congenital', 0.28692351844625646),\n",
       " ('cardiac', 0.2708160215901749),\n",
       " ('tof', 0.23139421351016326),\n",
       " ('diagnosis', 0.18561400995997007),\n",
       " ('prenatal', 0.14931198369292586),\n",
       " ('views', 0.13753291354868785),\n",
       " ('hearts', 0.1366704337200528)]"
      ]
     },
     "execution_count": 200,
     "metadata": {},
     "output_type": "execute_result"
    }
   ],
   "source": [
    "top_n_words(['Prenatal diagnosis of tetralogy of Fallot (TOF) and hypoplastic left heart syndrome (HLHS), two serious congenital heart defects, improves outcomes and can in some cases facilitate in utero interventions. In practice, however, the fetal diagnosis rate for these lesions is only 30-50 percent in community settings. Improving fetal diagnosis of congenital heart disease is therefore critical. Deep learning is a cutting-edge machine learning technique for finding patterns in images but has not yet been applied to prenatal diagnosis of congenital heart disease. Using 685 retrospectively collected echocardiograms from fetuses 18-24 weeks of gestational age from 2000-2018, we trained convolutional and fully-convolutional deep learning models in a supervised manner to (i) identify the five canonical screening views of the fetal heart and (ii) segment cardiac structures to calculate fetal cardiac biometrics. We then trained models to distinguish by view between normal hearts, TOF, and HLHS. In a holdout test set of images, F-score for identification of the five most important fetal cardiac views was 0.95. Binary classification of unannotated cardiac views of normal heart vs. TOF reached an overall sensitivity of 75% and a specificity of 76%, while normal vs. HLHS reached a sensitivity of 100% and specificity of 90%, both well above average diagnostic rates for these lesions. Furthermore, segmentation-based measurements for cardiothoracic ratio (CTR), cardiac axis (CA), and ventricular fractional area change (FAC) were compatible with clinically measured metrics for normal, TOF, and HLHS hearts. Thus, using guideline-recommended imaging, deep learning models can significantly improve detection of fetal congenital heart disease compared to the common standard of care.\t'], vectorizer, 10)"
   ]
  },
  {
   "cell_type": "code",
   "execution_count": 199,
   "metadata": {},
   "outputs": [
    {
     "data": {
      "text/plain": [
       "[('klh', 0.46029746876771527),\n",
       " ('sle', 0.2940972247035509),\n",
       " ('humoral', 0.27988391316159317),\n",
       " ('immunization', 0.224879947274281),\n",
       " ('antibody', 0.22095324279476805)]"
      ]
     },
     "execution_count": 199,
     "metadata": {},
     "output_type": "execute_result"
    }
   ],
   "source": [
    "top_n_words([abs2], vectorizer, 5)"
   ]
  },
  {
   "cell_type": "code",
   "execution_count": 26,
   "metadata": {
    "scrolled": true
   },
   "outputs": [
    {
     "data": {
      "text/plain": [
       "[('pneumonia', 0.46677642359350113),\n",
       " ('infections', 0.30436941855490124),\n",
       " ('pathogens', 0.2550067485012508),\n",
       " ('adults', 0.2535938232055195),\n",
       " ('agents', 0.20230869241880514)]"
      ]
     },
     "execution_count": 26,
     "metadata": {},
     "output_type": "execute_result"
    }
   ],
   "source": [
    "top_n_words([abs3], vectorizer, 5)"
   ]
  },
  {
   "cell_type": "code",
   "execution_count": 27,
   "metadata": {},
   "outputs": [
    {
     "data": {
      "text/plain": [
       "[('etiologic', 0.5832703914918796),\n",
       " ('congenital', 0.5695095484238162),\n",
       " ('pneumonia', 0.46677642359350113),\n",
       " ('klh', 0.46029746876771527),\n",
       " ('mucosal', 0.46006056741034707),\n",
       " ('infections', 0.4428284482258397),\n",
       " ('agents', 0.34850184418164015),\n",
       " ('pathogens', 0.34034464093679934),\n",
       " ('diarrhea', 0.3390591255561547),\n",
       " ('heart', 0.31791317701029603)]"
      ]
     },
     "execution_count": 27,
     "metadata": {},
     "output_type": "execute_result"
    }
   ],
   "source": [
    "top_n_words([abs1, abs2, abs3, abs4], vectorizer, 10)"
   ]
  },
  {
   "cell_type": "code",
   "execution_count": 28,
   "metadata": {},
   "outputs": [],
   "source": [
    "top_words = pd.DataFrame(top_n_words([abs1, abs2, abs3, abs4], vectorizer, 10)) \\\n",
    ".rename(columns={0: 'word', 1: 'freq'})\n",
    "# .set_index('word')"
   ]
  },
  {
   "cell_type": "code",
   "execution_count": 29,
   "metadata": {},
   "outputs": [
    {
     "data": {
      "text/html": [
       "<div>\n",
       "<style scoped>\n",
       "    .dataframe tbody tr th:only-of-type {\n",
       "        vertical-align: middle;\n",
       "    }\n",
       "\n",
       "    .dataframe tbody tr th {\n",
       "        vertical-align: top;\n",
       "    }\n",
       "\n",
       "    .dataframe thead th {\n",
       "        text-align: right;\n",
       "    }\n",
       "</style>\n",
       "<table border=\"1\" class=\"dataframe\">\n",
       "  <thead>\n",
       "    <tr style=\"text-align: right;\">\n",
       "      <th></th>\n",
       "      <th>word</th>\n",
       "      <th>freq</th>\n",
       "    </tr>\n",
       "  </thead>\n",
       "  <tbody>\n",
       "    <tr>\n",
       "      <th>0</th>\n",
       "      <td>etiologic</td>\n",
       "      <td>0.583270</td>\n",
       "    </tr>\n",
       "    <tr>\n",
       "      <th>1</th>\n",
       "      <td>congenital</td>\n",
       "      <td>0.569510</td>\n",
       "    </tr>\n",
       "    <tr>\n",
       "      <th>2</th>\n",
       "      <td>pneumonia</td>\n",
       "      <td>0.466776</td>\n",
       "    </tr>\n",
       "    <tr>\n",
       "      <th>3</th>\n",
       "      <td>klh</td>\n",
       "      <td>0.460297</td>\n",
       "    </tr>\n",
       "    <tr>\n",
       "      <th>4</th>\n",
       "      <td>mucosal</td>\n",
       "      <td>0.460061</td>\n",
       "    </tr>\n",
       "    <tr>\n",
       "      <th>5</th>\n",
       "      <td>infections</td>\n",
       "      <td>0.442828</td>\n",
       "    </tr>\n",
       "    <tr>\n",
       "      <th>6</th>\n",
       "      <td>agents</td>\n",
       "      <td>0.348502</td>\n",
       "    </tr>\n",
       "    <tr>\n",
       "      <th>7</th>\n",
       "      <td>pathogens</td>\n",
       "      <td>0.340345</td>\n",
       "    </tr>\n",
       "    <tr>\n",
       "      <th>8</th>\n",
       "      <td>diarrhea</td>\n",
       "      <td>0.339059</td>\n",
       "    </tr>\n",
       "    <tr>\n",
       "      <th>9</th>\n",
       "      <td>heart</td>\n",
       "      <td>0.317913</td>\n",
       "    </tr>\n",
       "  </tbody>\n",
       "</table>\n",
       "</div>"
      ],
      "text/plain": [
       "         word      freq\n",
       "0   etiologic  0.583270\n",
       "1  congenital  0.569510\n",
       "2   pneumonia  0.466776\n",
       "3         klh  0.460297\n",
       "4     mucosal  0.460061\n",
       "5  infections  0.442828\n",
       "6      agents  0.348502\n",
       "7   pathogens  0.340345\n",
       "8    diarrhea  0.339059\n",
       "9       heart  0.317913"
      ]
     },
     "execution_count": 29,
     "metadata": {},
     "output_type": "execute_result"
    }
   ],
   "source": [
    "top_words"
   ]
  },
  {
   "cell_type": "code",
   "execution_count": 30,
   "metadata": {},
   "outputs": [
    {
     "data": {
      "text/plain": [
       "array([[0.58327039],\n",
       "       [0.56950955],\n",
       "       [0.46677642],\n",
       "       [0.46029747],\n",
       "       [0.46006057],\n",
       "       [0.44282845],\n",
       "       [0.34850184],\n",
       "       [0.34034464],\n",
       "       [0.33905913],\n",
       "       [0.31791318]])"
      ]
     },
     "execution_count": 30,
     "metadata": {},
     "output_type": "execute_result"
    }
   ],
   "source": [
    "top_words.set_index('word').values"
   ]
  },
  {
   "cell_type": "code",
   "execution_count": 31,
   "metadata": {},
   "outputs": [],
   "source": [
    "top_words_2 = pd.DataFrame(top_n_words([abs1, abs2, abs3, abs4], vectorizer, 10)).set_index(0)"
   ]
  },
  {
   "cell_type": "code",
   "execution_count": 32,
   "metadata": {},
   "outputs": [
    {
     "data": {
      "text/html": [
       "<div>\n",
       "<style scoped>\n",
       "    .dataframe tbody tr th:only-of-type {\n",
       "        vertical-align: middle;\n",
       "    }\n",
       "\n",
       "    .dataframe tbody tr th {\n",
       "        vertical-align: top;\n",
       "    }\n",
       "\n",
       "    .dataframe thead th {\n",
       "        text-align: right;\n",
       "    }\n",
       "</style>\n",
       "<table border=\"1\" class=\"dataframe\">\n",
       "  <thead>\n",
       "    <tr style=\"text-align: right;\">\n",
       "      <th></th>\n",
       "      <th>1</th>\n",
       "    </tr>\n",
       "    <tr>\n",
       "      <th>0</th>\n",
       "      <th></th>\n",
       "    </tr>\n",
       "  </thead>\n",
       "  <tbody>\n",
       "    <tr>\n",
       "      <th>etiologic</th>\n",
       "      <td>0.583270</td>\n",
       "    </tr>\n",
       "    <tr>\n",
       "      <th>congenital</th>\n",
       "      <td>0.569510</td>\n",
       "    </tr>\n",
       "    <tr>\n",
       "      <th>pneumonia</th>\n",
       "      <td>0.466776</td>\n",
       "    </tr>\n",
       "    <tr>\n",
       "      <th>klh</th>\n",
       "      <td>0.460297</td>\n",
       "    </tr>\n",
       "    <tr>\n",
       "      <th>mucosal</th>\n",
       "      <td>0.460061</td>\n",
       "    </tr>\n",
       "    <tr>\n",
       "      <th>infections</th>\n",
       "      <td>0.442828</td>\n",
       "    </tr>\n",
       "    <tr>\n",
       "      <th>agents</th>\n",
       "      <td>0.348502</td>\n",
       "    </tr>\n",
       "    <tr>\n",
       "      <th>pathogens</th>\n",
       "      <td>0.340345</td>\n",
       "    </tr>\n",
       "    <tr>\n",
       "      <th>diarrhea</th>\n",
       "      <td>0.339059</td>\n",
       "    </tr>\n",
       "    <tr>\n",
       "      <th>heart</th>\n",
       "      <td>0.317913</td>\n",
       "    </tr>\n",
       "  </tbody>\n",
       "</table>\n",
       "</div>"
      ],
      "text/plain": [
       "                   1\n",
       "0                   \n",
       "etiologic   0.583270\n",
       "congenital  0.569510\n",
       "pneumonia   0.466776\n",
       "klh         0.460297\n",
       "mucosal     0.460061\n",
       "infections  0.442828\n",
       "agents      0.348502\n",
       "pathogens   0.340345\n",
       "diarrhea    0.339059\n",
       "heart       0.317913"
      ]
     },
     "execution_count": 32,
     "metadata": {},
     "output_type": "execute_result"
    }
   ],
   "source": [
    "top_words_2.sort_values(1, ascending=False)"
   ]
  },
  {
   "cell_type": "code",
   "execution_count": 33,
   "metadata": {},
   "outputs": [],
   "source": [
    "sns.set(rc={'figure.figsize':(12,8)})"
   ]
  },
  {
   "cell_type": "code",
   "execution_count": 34,
   "metadata": {},
   "outputs": [
    {
     "data": {
      "text/plain": [
       "<matplotlib.axes._subplots.AxesSubplot at 0x1f02373d0>"
      ]
     },
     "execution_count": 34,
     "metadata": {},
     "output_type": "execute_result"
    },
    {
     "data": {
      "image/png": "[encoded data removed]",
      "text/plain": [
       "<Figure size 864x576 with 1 Axes>"
      ]
     },
     "metadata": {},
     "output_type": "display_data"
    }
   ],
   "source": [
    "sns.barplot(x='word', y='freq', data=top_words)"
   ]
  },
  {
   "cell_type": "code",
   "execution_count": null,
   "metadata": {},
   "outputs": [],
   "source": []
  },
  {
   "cell_type": "code",
   "execution_count": null,
   "metadata": {},
   "outputs": [],
   "source": []
  }
 ],
 "metadata": {
  "kernelspec": {
   "display_name": "Python 3",
   "language": "python",
   "name": "python3"
  },
  "language_info": {
   "codemirror_mode": {
    "name": "ipython",
    "version": 3
   },
   "file_extension": ".py",
   "mimetype": "text/x-python",
   "name": "python",
   "nbconvert_exporter": "python",
   "pygments_lexer": "ipython3",
   "version": "3.8.1"
  }
 },
 "nbformat": 4,
 "nbformat_minor": 4
}
