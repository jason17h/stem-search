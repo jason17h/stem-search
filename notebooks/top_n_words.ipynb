{
 "cells": [
  {
   "cell_type": "code",
   "execution_count": 1,
   "metadata": {},
   "outputs": [],
   "source": [
    "import pandas as pd\n",
    "import numpy as np"
   ]
  },
  {
   "cell_type": "code",
   "execution_count": 60,
   "metadata": {},
   "outputs": [],
   "source": [
    "import matplotlib.pyplot as plt\n",
    "import seaborn as sns"
   ]
  },
  {
   "cell_type": "code",
   "execution_count": 2,
   "metadata": {},
   "outputs": [],
   "source": [
    "import pickle"
   ]
  },
  {
   "cell_type": "code",
   "execution_count": 3,
   "metadata": {},
   "outputs": [],
   "source": [
    "with open('../model/kmeans.pkl', 'rb') as f:\n",
    "    model = pickle.load(f)"
   ]
  },
  {
   "cell_type": "code",
   "execution_count": 4,
   "metadata": {},
   "outputs": [],
   "source": [
    "with open('../model/tfidf_vectorizer.pkl', 'rb') as f:\n",
    "    vectorizer = pickle.load(f)"
   ]
  },
  {
   "cell_type": "code",
   "execution_count": 5,
   "metadata": {},
   "outputs": [],
   "source": [
    "abs1 = \"\"\"\n",
    "Abstract The etiologic basis for the vast majority of cases of congenital heart disease remains largely undefined. \n",
    "Viruses have been considered to be likely candidates since the recognition of the association between intrauterine \n",
    "rubella and congenital heart disease. Although the pathogenesis of cardiovascular defects is poorly understood, \n",
    "information gained from the study of congenital rubella syndrome suggests that mechanisms such as focal endothelial \n",
    "cell damage, resulting in obliteration of vascular supply, decreased growth rate, and shortened survival time of \n",
    "certain cells, and disturbed DNA replication in cells whose chromosomes were damaged secondary to the effects of \n",
    "virus replication may be operative in the production of defects in the developing fetus. In addition to rubella there \n",
    "is suggestive, but not conclusive, evidence that Coxsackie B3 and B4 virus infections during pregnancy can result in \n",
    "the birth of infants with a variety of types of congenital heart lesions and that intrauterine mumps virus infection \n",
    "may be etiologically related to the postnatal development of endocardial fibroelastosis (EFE). Although there are a \n",
    "number of other viruses that are potential etiologic agents of congenital heart disease, the current status of \n",
    "information is inadequate to allow even suggestive associations to be made. The most profitable areas for future \n",
    "investigation appear to be: (1) the epidemiology of congenital heart disease, (2) prospective studies of the \n",
    "association of maternal viral infection with abnormal offspring, (3) the in-depth virologic investigation of the \n",
    "infant with a cardiac defect, and (4) the development of experimental animal models of congenital heart disease. \n",
    "Successful control of virus-induced congenital heart disease will depend on the results of these investigations and \n",
    "the development of vaccines against the identified causative viruses and/or safe and effective antiviral chemotherapy \n",
    "for the woman in early gestation who is infected with a known teratogenic agent.\n",
    "\"\"\""
   ]
  },
  {
   "cell_type": "code",
   "execution_count": 82,
   "metadata": {},
   "outputs": [],
   "source": [
    "abs2 = \"\"\"\n",
    "Abstract Middle-aged female identical twins, one of whom had systemic lupus erythematosus (SLE), were evaluated for \n",
    "immunologic reactivity to previous antigenic challenges, including primary immunization with a foreign antigen, \n",
    "keyhole limpet hemocyanin (KLH). These two women had lived together for all of their 58 years and neither was \n",
    "receiving anti-inflammatory or immunosuppressive drugs at the time of these studies. Both twins demonstrated \n",
    "comparable 7S and 198 humoral antibody response to KLH, as well as similar viral antibody titers. However, the twin\n",
    "with SLE was anergic to common antigens, streptokinase-streptodornase, Trichophyton and Candida; furthermore delayed \n",
    "hypersensitivity to KLH did not develop after immunization. This observed discrepancy between humoral and cellular \n",
    "immunity in genetically similar subjects may be significant in the pathogenesis of SLE.\n",
    "\"\"\""
   ]
  },
  {
   "cell_type": "code",
   "execution_count": 83,
   "metadata": {},
   "outputs": [],
   "source": [
    "abs3 = \"\"\"\n",
    "Abstract Upper respiratory tract infections are the most common types of infectious diseases among adults. It is \n",
    "estimated that each adult in the United States experiences two to four respiratory infections annually. The morbidity \n",
    "of these infections is measured by an estimated 75 million physician visits per year, almost 150 million days lost \n",
    "from work, and more than $10 billion In costs for medical care. Serotypes of the rhinoviruses account for 20 to 30 \n",
    "percent of episodes of the common cold. However, the specific causes of most upper respiratory infections are \n",
    "undefined. Pneumonia remains an important cause of morbidity and mortality for nonhospitalized adults despite the \n",
    "widespread use of effective antimicrobial agents. There are no accurate figures on the number of episodes of \n",
    "pneumonia that occur each year in ambulatory patients. In younger adults, the atypical pneumonia syndrome Is the most \n",
    "common clinical presentation; Mycoplasma pneumoniae is the most frequently Identified causative agent. Other less \n",
    "common agents include Legionelia pneumophila, influenza viruses, adenoviruses, and Chiamydia. More than half a \n",
    "million adults are hospitalized each year with pneumonia. Persons older than 65 years of age have the highest rate of \n",
    "pneumonia admissions, 11.5 per 1,000 population. Pneumonia ranks as the sixth leading cause of death in the United \n",
    "States. The pathogens responsible for community-acquired pneumonlas are changing. Forty years ago, Streptococcus \n",
    "pneumoniae accounted for the majority of infections. Today, a broad array of community-acquired pathogens have been \n",
    "implicated as etiologic agents Including Leglonella species, gram-negative bacilli, Hemophilus influenzae, \n",
    "Staphylococcus aureus and nonbacterial pathogens. Given the diversity of pathogenic agents, it has become imperative \n",
    "for clinicians to establish a specific etiologic diagnosis before initiating therapy or to consider the diagnostic \n",
    "possibilities and treat with antimicrobial agents that are effective against the most likely pathogens.\n",
    "\"\"\""
   ]
  },
  {
   "cell_type": "code",
   "execution_count": 84,
   "metadata": {},
   "outputs": [],
   "source": [
    "abs4 = \"\"\"\n",
    "Abstract Our understanding of the pathogenesis of infectious, especially bacterial, diarrhea has increased \n",
    "dramatically. New etiologic agents, mechanisms, and diseases have become known. For example, Escherichia coli \n",
    "serogroup 0157 is now known to cause acute hemorrhagic colitis. Also, E. coli serogroups that produce Shiga toxin are \n",
    "recognized as etiologic agents in the hemolytic-uremic syndrome. The production of bacterial diarrhea has two major \n",
    "facets, bacterial-mucosal interaction and the induction of intestinal fluid loss by enterotoxins. Bacterial-mucosal \n",
    "interaction can be described in stages: (1) adherence to epithelial cell microvilli, which is often promoted by or \n",
    "associated with pill; (2) close adherence (enteroadherence), usually by classic enteropathogenic E. coli, to mucosal \n",
    "epithelial cells lacking microvilli; and (3) mucosal invasion, as with Shigella and Salmonella infections. Further \n",
    "large strides in understanding infectious diarrhea are likely with the cloning of virulence genes if additional \n",
    "host-specific animal pathogens become available for study.\n",
    "\"\"\""
   ]
  },
  {
   "cell_type": "code",
   "execution_count": 26,
   "metadata": {},
   "outputs": [
    {
     "data": {
      "text/plain": [
       "TfidfVectorizer(analyzer='word', binary=False, decode_error='strict',\n",
       "                dtype=<class 'numpy.float64'>, encoding='utf-8',\n",
       "                input='content', lowercase=True, max_df=1.0, max_features=None,\n",
       "                min_df=1, ngram_range=(1, 1), norm='l2', preprocessor=None,\n",
       "                smooth_idf=True, stop_words='english', strip_accents=None,\n",
       "                sublinear_tf=False, token_pattern='(?u)\\\\b\\\\w\\\\w+\\\\b',\n",
       "                tokenizer=None, use_idf=True, vocabulary=None)"
      ]
     },
     "execution_count": 26,
     "metadata": {},
     "output_type": "execute_result"
    }
   ],
   "source": [
    "vectorizer"
   ]
  },
  {
   "cell_type": "markdown",
   "metadata": {},
   "source": [
    "# Experimenting"
   ]
  },
  {
   "cell_type": "code",
   "execution_count": 31,
   "metadata": {
    "scrolled": true
   },
   "outputs": [],
   "source": [
    "bow = vectorizer.transform([abs1])"
   ]
  },
  {
   "cell_type": "code",
   "execution_count": 36,
   "metadata": {
    "scrolled": true
   },
   "outputs": [
    {
     "name": "stdout",
     "output_type": "stream",
     "text": [
      "  (0, 434587)\t0.0673182420644212\n",
      "  (0, 426644)\t0.1686863126805504\n",
      "  (0, 426643)\t0.21074280805897275\n",
      "  (0, 426565)\t0.08335521019801752\n",
      "  (0, 426482)\t0.05325757800534894\n",
      "  (0, 423672)\t0.04342850650879513\n",
      "  (0, 423572)\t0.05947179973421697\n",
      "  (0, 423294)\t0.029790519259695166\n",
      "  (0, 422298)\t0.06676620554053883\n",
      "  (0, 416610)\t0.0346274721015864\n",
      "  (0, 416190)\t0.06116175021696181\n",
      "  (0, 412830)\t0.02858470967560365\n",
      "  (0, 403756)\t0.017242253667494434\n",
      "  (0, 399295)\t0.08654907218454312\n",
      "  (0, 393737)\t0.05704735285537139\n",
      "  (0, 392030)\t0.04412789634996064\n",
      "  (0, 391562)\t0.04408093891755196\n",
      "  (0, 388923)\t0.031143308487071083\n",
      "  (0, 388921)\t0.10007476350971399\n",
      "  (0, 388641)\t0.036938202474735206\n",
      "  (0, 386218)\t0.016443636417764397\n",
      "  (0, 386194)\t0.026084617258050447\n",
      "  (0, 383403)\t0.03908312642876201\n",
      "  (0, 369127)\t0.05751070203784838\n",
      "  (0, 363582)\t0.03730788084584393\n",
      "  :\t:\n",
      "  (0, 110391)\t0.06556783322756787\n",
      "  (0, 107952)\t0.02522837942187421\n",
      "  (0, 107241)\t0.07212444074590903\n",
      "  (0, 107203)\t0.033362783451906644\n",
      "  (0, 105322)\t0.06741517970753347\n",
      "  (0, 104588)\t0.025501487165557876\n",
      "  (0, 104000)\t0.058821280822869505\n",
      "  (0, 103943)\t0.053753805542658635\n",
      "  (0, 103077)\t0.03538067595706631\n",
      "  (0, 91724)\t0.0450944508749954\n",
      "  (0, 84052)\t0.029706625523601312\n",
      "  (0, 80788)\t0.06883482298031073\n",
      "  (0, 80739)\t0.06298444139338841\n",
      "  (0, 76309)\t0.04735641931984814\n",
      "  (0, 76305)\t0.07807613224029923\n",
      "  (0, 74052)\t0.03570909996751071\n",
      "  (0, 72410)\t0.0318934059410048\n",
      "  (0, 71507)\t0.07258386574662418\n",
      "  (0, 69755)\t0.05070894852141709\n",
      "  (0, 66419)\t0.029056847995515764\n",
      "  (0, 63380)\t0.037869132676240355\n",
      "  (0, 63367)\t0.0380679999494514\n",
      "  (0, 61297)\t0.026118774917253864\n",
      "  (0, 59336)\t0.03837680956083872\n",
      "  (0, 58990)\t0.05131837999069142\n"
     ]
    }
   ],
   "source": [
    "print(bow)"
   ]
  },
  {
   "cell_type": "code",
   "execution_count": 51,
   "metadata": {},
   "outputs": [
    {
     "data": {
      "text/plain": [
       "(1, 444052)"
      ]
     },
     "execution_count": 51,
     "metadata": {},
     "output_type": "execute_result"
    }
   ],
   "source": [
    "bow.shape"
   ]
  },
  {
   "cell_type": "code",
   "execution_count": 53,
   "metadata": {},
   "outputs": [],
   "source": [
    "sum_words = bow.sum(axis=0)"
   ]
  },
  {
   "cell_type": "code",
   "execution_count": 71,
   "metadata": {},
   "outputs": [
    {
     "data": {
      "text/plain": [
       "matrix([[0.05131838, 0.03837681, 0.02611877, 0.038068  , 0.03786913,\n",
       "         0.02905685, 0.05070895, 0.07258387, 0.03189341, 0.0357091 ,\n",
       "         0.07807613, 0.04735642, 0.06298444, 0.06883482, 0.02970663,\n",
       "         0.04509445, 0.03538068, 0.05375381, 0.05882128, 0.02550149,\n",
       "         0.06741518, 0.03336278, 0.07212444, 0.02522838, 0.06556783,\n",
       "         0.06025985, 0.05229958, 0.56950955, 0.02546362, 0.02720329,\n",
       "         0.02446869, 0.04570358, 0.05706599, 0.04461795, 0.03996976,\n",
       "         0.07719337, 0.03220896, 0.03398969, 0.03715073, 0.09273237,\n",
       "         0.25581546, 0.05148431, 0.04340537, 0.03124966, 0.07004875,\n",
       "         0.02436514, 0.02364493, 0.08221527, 0.06642353, 0.05673876,\n",
       "         0.16671042, 0.02831667, 0.02350173, 0.0764863 , 0.04658804,\n",
       "         0.02758096, 0.04402042, 0.0740917 , 0.03050797, 0.31791318,\n",
       "         0.03060694, 0.05102042, 0.02673128, 0.06160854, 0.06444002,\n",
       "         0.04983452, 0.09892823, 0.05697336, 0.04549875, 0.17309814,\n",
       "         0.0685209 , 0.03920418, 0.0217192 , 0.03759049, 0.05727474,\n",
       "         0.0313155 , 0.03784407, 0.06586562, 0.03182254, 0.01989498,\n",
       "         0.07788147, 0.01940626, 0.07902141, 0.05522081, 0.05639419,\n",
       "         0.06836272, 0.04162666, 0.07608278, 0.02310558, 0.06761368,\n",
       "         0.0294703 , 0.05955461, 0.05267645, 0.02399406, 0.03631575,\n",
       "         0.02482565, 0.03177792, 0.10053178, 0.02104296, 0.02725192,\n",
       "         0.01473734, 0.24664581, 0.04560431, 0.03730788, 0.0575107 ,\n",
       "         0.03908313, 0.02608462, 0.01644364, 0.0369382 , 0.10007476,\n",
       "         0.03114331, 0.04408094, 0.0441279 , 0.05704735, 0.08654907,\n",
       "         0.01724225, 0.02858471, 0.06116175, 0.03462747, 0.06676621,\n",
       "         0.02979052, 0.0594718 , 0.04342851, 0.05325758, 0.08335521,\n",
       "         0.21074281, 0.16868631, 0.06731824]])"
      ]
     },
     "execution_count": 71,
     "metadata": {},
     "output_type": "execute_result"
    }
   ],
   "source": [
    "sum_words[sum_words > 0]"
   ]
  },
  {
   "cell_type": "code",
   "execution_count": 61,
   "metadata": {},
   "outputs": [],
   "source": [
    "words = sorted([\n",
    "    (word, sum_words[0, idx]) for word, idx in vectorizer.vocabulary_.items() if sum_words[0, idx] != 0\n",
    "], key=lambda x: x[1], reverse=True)"
   ]
  },
  {
   "cell_type": "code",
   "execution_count": 69,
   "metadata": {},
   "outputs": [
    {
     "name": "stdout",
     "output_type": "stream",
     "text": [
      "Top 10 words\n"
     ]
    },
    {
     "data": {
      "text/plain": [
       "[('congenital', 0.5695095484238162),\n",
       " ('heart', 0.31791317701029603),\n",
       " ('disease', 0.25581545873099903),\n",
       " ('rubella', 0.24664581454053092),\n",
       " ('virus', 0.21074280805897275),\n",
       " ('intrauterine', 0.17309814436908624),\n",
       " ('viruses', 0.1686863126805504),\n",
       " ('etiologic', 0.16671042039603504),\n",
       " ('replication', 0.10053177644893106),\n",
       " ('suggestive', 0.10007476350971399)]"
      ]
     },
     "execution_count": 69,
     "metadata": {},
     "output_type": "execute_result"
    }
   ],
   "source": [
    "print('Top 10 words')\n",
    "words[:10]"
   ]
  },
  {
   "cell_type": "markdown",
   "metadata": {},
   "source": [
    "# Convert to function"
   ]
  },
  {
   "cell_type": "code",
   "execution_count": 70,
   "metadata": {},
   "outputs": [],
   "source": [
    "import typing"
   ]
  },
  {
   "cell_type": "code",
   "execution_count": 148,
   "metadata": {},
   "outputs": [],
   "source": [
    "def top_n_words(s: typing.List[str], vec, n: int = None) -> typing.List[typing.Tuple[str, float]]:\n",
    "    bow = vec.transform(s)\n",
    "    sum_words = bow.sum(axis=0)\n",
    "    words = [(w, sum_words[0, i]) for w, i in vec.vocabulary_.items() if sum_words[0, i] != 0]\n",
    "    words = sorted(words, key=lambda x: x[1], reverse=True)\n",
    "    return words[:n]"
   ]
  },
  {
   "cell_type": "code",
   "execution_count": 105,
   "metadata": {},
   "outputs": [
    {
     "data": {
      "text/plain": [
       "[('congenital', 0.5695095484238162),\n",
       " ('heart', 0.31791317701029603),\n",
       " ('disease', 0.25581545873099903),\n",
       " ('rubella', 0.24664581454053092),\n",
       " ('virus', 0.21074280805897275)]"
      ]
     },
     "execution_count": 105,
     "metadata": {},
     "output_type": "execute_result"
    }
   ],
   "source": [
    "top_n_words([abs1], vectorizer, 5)"
   ]
  },
  {
   "cell_type": "code",
   "execution_count": 98,
   "metadata": {},
   "outputs": [
    {
     "data": {
      "text/plain": [
       "[('klh', 0.46029746876771527),\n",
       " ('sle', 0.2940972247035509),\n",
       " ('humoral', 0.27988391316159317),\n",
       " ('immunization', 0.224879947274281),\n",
       " ('antibody', 0.22095324279476805)]"
      ]
     },
     "execution_count": 98,
     "metadata": {},
     "output_type": "execute_result"
    }
   ],
   "source": [
    "top_n_words([abs2], vectorizer, 5)"
   ]
  },
  {
   "cell_type": "code",
   "execution_count": 153,
   "metadata": {
    "scrolled": true
   },
   "outputs": [
    {
     "data": {
      "text/plain": [
       "[('pneumonia', 0.46677642359350113),\n",
       " ('infections', 0.30436941855490124),\n",
       " ('pathogens', 0.2550067485012508),\n",
       " ('adults', 0.2535938232055195),\n",
       " ('agents', 0.20230869241880514)]"
      ]
     },
     "execution_count": 153,
     "metadata": {},
     "output_type": "execute_result"
    }
   ],
   "source": [
    "top_n_words([abs3], vectorizer, 5)"
   ]
  },
  {
   "cell_type": "code",
   "execution_count": 108,
   "metadata": {},
   "outputs": [
    {
     "data": {
      "text/plain": [
       "[('etiologic', 0.5832703914918796),\n",
       " ('congenital', 0.5695095484238162),\n",
       " ('pneumonia', 0.46677642359350113),\n",
       " ('klh', 0.46029746876771527),\n",
       " ('mucosal', 0.46006056741034707),\n",
       " ('infections', 0.4428284482258397),\n",
       " ('agents', 0.34850184418164015),\n",
       " ('pathogens', 0.34034464093679934),\n",
       " ('diarrhea', 0.3390591255561547),\n",
       " ('heart', 0.31791317701029603)]"
      ]
     },
     "execution_count": 108,
     "metadata": {},
     "output_type": "execute_result"
    }
   ],
   "source": [
    "top_n_words([abs1, abs2, abs3, abs4], vectorizer, 10)"
   ]
  },
  {
   "cell_type": "code",
   "execution_count": 122,
   "metadata": {},
   "outputs": [],
   "source": [
    "top_words = pd.DataFrame(top_n_words([abs1, abs2, abs3, abs4], vectorizer, 10)) \\\n",
    ".rename(columns={0: 'word', 1: 'freq'})\n",
    "# .set_index('word')"
   ]
  },
  {
   "cell_type": "code",
   "execution_count": 123,
   "metadata": {},
   "outputs": [
    {
     "data": {
      "text/html": [
       "<div>\n",
       "<style scoped>\n",
       "    .dataframe tbody tr th:only-of-type {\n",
       "        vertical-align: middle;\n",
       "    }\n",
       "\n",
       "    .dataframe tbody tr th {\n",
       "        vertical-align: top;\n",
       "    }\n",
       "\n",
       "    .dataframe thead th {\n",
       "        text-align: right;\n",
       "    }\n",
       "</style>\n",
       "<table border=\"1\" class=\"dataframe\">\n",
       "  <thead>\n",
       "    <tr style=\"text-align: right;\">\n",
       "      <th></th>\n",
       "      <th>word</th>\n",
       "      <th>freq</th>\n",
       "    </tr>\n",
       "  </thead>\n",
       "  <tbody>\n",
       "    <tr>\n",
       "      <th>0</th>\n",
       "      <td>etiologic</td>\n",
       "      <td>0.583270</td>\n",
       "    </tr>\n",
       "    <tr>\n",
       "      <th>1</th>\n",
       "      <td>congenital</td>\n",
       "      <td>0.569510</td>\n",
       "    </tr>\n",
       "    <tr>\n",
       "      <th>2</th>\n",
       "      <td>pneumonia</td>\n",
       "      <td>0.466776</td>\n",
       "    </tr>\n",
       "    <tr>\n",
       "      <th>3</th>\n",
       "      <td>klh</td>\n",
       "      <td>0.460297</td>\n",
       "    </tr>\n",
       "    <tr>\n",
       "      <th>4</th>\n",
       "      <td>mucosal</td>\n",
       "      <td>0.460061</td>\n",
       "    </tr>\n",
       "    <tr>\n",
       "      <th>5</th>\n",
       "      <td>infections</td>\n",
       "      <td>0.442828</td>\n",
       "    </tr>\n",
       "    <tr>\n",
       "      <th>6</th>\n",
       "      <td>agents</td>\n",
       "      <td>0.348502</td>\n",
       "    </tr>\n",
       "    <tr>\n",
       "      <th>7</th>\n",
       "      <td>pathogens</td>\n",
       "      <td>0.340345</td>\n",
       "    </tr>\n",
       "    <tr>\n",
       "      <th>8</th>\n",
       "      <td>diarrhea</td>\n",
       "      <td>0.339059</td>\n",
       "    </tr>\n",
       "    <tr>\n",
       "      <th>9</th>\n",
       "      <td>heart</td>\n",
       "      <td>0.317913</td>\n",
       "    </tr>\n",
       "  </tbody>\n",
       "</table>\n",
       "</div>"
      ],
      "text/plain": [
       "         word      freq\n",
       "0   etiologic  0.583270\n",
       "1  congenital  0.569510\n",
       "2   pneumonia  0.466776\n",
       "3         klh  0.460297\n",
       "4     mucosal  0.460061\n",
       "5  infections  0.442828\n",
       "6      agents  0.348502\n",
       "7   pathogens  0.340345\n",
       "8    diarrhea  0.339059\n",
       "9       heart  0.317913"
      ]
     },
     "execution_count": 123,
     "metadata": {},
     "output_type": "execute_result"
    }
   ],
   "source": [
    "top_words"
   ]
  },
  {
   "cell_type": "code",
   "execution_count": 157,
   "metadata": {},
   "outputs": [
    {
     "data": {
      "text/plain": [
       "array([[0.58327039],\n",
       "       [0.56950955],\n",
       "       [0.46677642],\n",
       "       [0.46029747],\n",
       "       [0.46006057],\n",
       "       [0.44282845],\n",
       "       [0.34850184],\n",
       "       [0.34034464],\n",
       "       [0.33905913],\n",
       "       [0.31791318]])"
      ]
     },
     "execution_count": 157,
     "metadata": {},
     "output_type": "execute_result"
    }
   ],
   "source": [
    "top_words.set_index('word').values"
   ]
  },
  {
   "cell_type": "code",
   "execution_count": 159,
   "metadata": {},
   "outputs": [],
   "source": [
    "top_words_2 = pd.DataFrame(top_n_words([abs1, abs2, abs3, abs4], vectorizer, 10)).set_index(0)"
   ]
  },
  {
   "cell_type": "code",
   "execution_count": 162,
   "metadata": {},
   "outputs": [
    {
     "data": {
      "text/html": [
       "<div>\n",
       "<style scoped>\n",
       "    .dataframe tbody tr th:only-of-type {\n",
       "        vertical-align: middle;\n",
       "    }\n",
       "\n",
       "    .dataframe tbody tr th {\n",
       "        vertical-align: top;\n",
       "    }\n",
       "\n",
       "    .dataframe thead th {\n",
       "        text-align: right;\n",
       "    }\n",
       "</style>\n",
       "<table border=\"1\" class=\"dataframe\">\n",
       "  <thead>\n",
       "    <tr style=\"text-align: right;\">\n",
       "      <th></th>\n",
       "      <th>1</th>\n",
       "    </tr>\n",
       "    <tr>\n",
       "      <th>0</th>\n",
       "      <th></th>\n",
       "    </tr>\n",
       "  </thead>\n",
       "  <tbody>\n",
       "    <tr>\n",
       "      <th>etiologic</th>\n",
       "      <td>0.583270</td>\n",
       "    </tr>\n",
       "    <tr>\n",
       "      <th>congenital</th>\n",
       "      <td>0.569510</td>\n",
       "    </tr>\n",
       "    <tr>\n",
       "      <th>pneumonia</th>\n",
       "      <td>0.466776</td>\n",
       "    </tr>\n",
       "    <tr>\n",
       "      <th>klh</th>\n",
       "      <td>0.460297</td>\n",
       "    </tr>\n",
       "    <tr>\n",
       "      <th>mucosal</th>\n",
       "      <td>0.460061</td>\n",
       "    </tr>\n",
       "    <tr>\n",
       "      <th>infections</th>\n",
       "      <td>0.442828</td>\n",
       "    </tr>\n",
       "    <tr>\n",
       "      <th>agents</th>\n",
       "      <td>0.348502</td>\n",
       "    </tr>\n",
       "    <tr>\n",
       "      <th>pathogens</th>\n",
       "      <td>0.340345</td>\n",
       "    </tr>\n",
       "    <tr>\n",
       "      <th>diarrhea</th>\n",
       "      <td>0.339059</td>\n",
       "    </tr>\n",
       "    <tr>\n",
       "      <th>heart</th>\n",
       "      <td>0.317913</td>\n",
       "    </tr>\n",
       "  </tbody>\n",
       "</table>\n",
       "</div>"
      ],
      "text/plain": [
       "                   1\n",
       "0                   \n",
       "etiologic   0.583270\n",
       "congenital  0.569510\n",
       "pneumonia   0.466776\n",
       "klh         0.460297\n",
       "mucosal     0.460061\n",
       "infections  0.442828\n",
       "agents      0.348502\n",
       "pathogens   0.340345\n",
       "diarrhea    0.339059\n",
       "heart       0.317913"
      ]
     },
     "execution_count": 162,
     "metadata": {},
     "output_type": "execute_result"
    }
   ],
   "source": [
    "top_words_2.sort_values(1, ascending=False)"
   ]
  },
  {
   "cell_type": "code",
   "execution_count": 146,
   "metadata": {},
   "outputs": [],
   "source": [
    "sns.set(rc={'figure.figsize':(12,8)})"
   ]
  },
  {
   "cell_type": "code",
   "execution_count": 147,
   "metadata": {},
   "outputs": [
    {
     "data": {
      "text/plain": [
       "<matplotlib.axes._subplots.AxesSubplot at 0x1fa2836d0>"
      ]
     },
     "execution_count": 147,
     "metadata": {},
     "output_type": "execute_result"
    },
    {
     "data": {
      "image/png": "[encoded data removed]",
      "text/plain": [
       "<Figure size 864x576 with 1 Axes>"
      ]
     },
     "metadata": {},
     "output_type": "display_data"
    }
   ],
   "source": [
    "sns.barplot(x='word', y='freq', data=top_words)"
   ]
  },
  {
   "cell_type": "code",
   "execution_count": null,
   "metadata": {},
   "outputs": [],
   "source": []
  }
 ],
 "metadata": {
  "kernelspec": {
   "display_name": "Python 3",
   "language": "python",
   "name": "python3"
  },
  "language_info": {
   "codemirror_mode": {
    "name": "ipython",
    "version": 3
   },
   "file_extension": ".py",
   "mimetype": "text/x-python",
   "name": "python",
   "nbconvert_exporter": "python",
   "pygments_lexer": "ipython3",
   "version": "3.8.1"
  }
 },
 "nbformat": 4,
 "nbformat_minor": 4
}
