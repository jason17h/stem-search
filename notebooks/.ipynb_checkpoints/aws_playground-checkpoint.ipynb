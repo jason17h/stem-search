{
 "cells": [
  {
   "cell_type": "code",
   "execution_count": 11,
   "metadata": {},
   "outputs": [],
   "source": [
    "import io\n",
    "import os"
   ]
  },
  {
   "cell_type": "code",
   "execution_count": 10,
   "metadata": {},
   "outputs": [],
   "source": [
    "import pandas as pd\n",
    "import numpy as np\n",
    "import pickle"
   ]
  },
  {
   "cell_type": "code",
   "execution_count": 49,
   "metadata": {},
   "outputs": [],
   "source": [
    "import boto3\n",
    "from botocore.client import Config\n",
    "import s3fs"
   ]
  },
  {
   "cell_type": "code",
   "execution_count": 6,
   "metadata": {},
   "outputs": [],
   "source": [
    "ACCESS_KEY_ID = os.environ.get('STEMSEARCH_AWS_ACCESS_KEY_ID')\n",
    "SECRET_ACCESS_KEY = os.environ.get('STEMSEARCH_AWS_SECRET_ACCESS_KEY')\n",
    "BUCKET_NAME = os.environ.get('STEMSEARCH_AWS_BUCKET_NAME')"
   ]
  },
  {
   "cell_type": "code",
   "execution_count": 13,
   "metadata": {},
   "outputs": [],
   "source": [
    "# S3 Connect\n",
    "s3 = boto3.resource(\n",
    "    's3',\n",
    "    aws_access_key_id=ACCESS_KEY_ID,\n",
    "    aws_secret_access_key=SECRET_ACCESS_KEY,\n",
    "    config=Config(signature_version='s3v4')\n",
    ")"
   ]
  },
  {
   "cell_type": "code",
   "execution_count": 19,
   "metadata": {},
   "outputs": [],
   "source": [
    "bucket = s3.Bucket(BUCKET_NAME)"
   ]
  },
  {
   "cell_type": "code",
   "execution_count": 37,
   "metadata": {},
   "outputs": [],
   "source": [
    "obj = s3.Object(BUCKET_NAME, 'cord_papers.parquet')"
   ]
  },
  {
   "cell_type": "code",
   "execution_count": 38,
   "metadata": {},
   "outputs": [],
   "source": [
    "body = obj.get()['Body']"
   ]
  },
  {
   "cell_type": "code",
   "execution_count": 39,
   "metadata": {},
   "outputs": [
    {
     "data": {
      "text/plain": [
       "<botocore.response.StreamingBody at 0x123ca8040>"
      ]
     },
     "execution_count": 39,
     "metadata": {},
     "output_type": "execute_result"
    }
   ],
   "source": [
    "body"
   ]
  },
  {
   "cell_type": "code",
   "execution_count": 41,
   "metadata": {},
   "outputs": [],
   "source": [
    "path = 's3://stemsearch/cord_papers.parquet'"
   ]
  },
  {
   "cell_type": "code",
   "execution_count": 44,
   "metadata": {},
   "outputs": [],
   "source": [
    "d = pd.read_parquet(path)"
   ]
  },
  {
   "cell_type": "code",
   "execution_count": 45,
   "metadata": {},
   "outputs": [
    {
     "data": {
      "text/html": [
       "<div>\n",
       "<style scoped>\n",
       "    .dataframe tbody tr th:only-of-type {\n",
       "        vertical-align: middle;\n",
       "    }\n",
       "\n",
       "    .dataframe tbody tr th {\n",
       "        vertical-align: top;\n",
       "    }\n",
       "\n",
       "    .dataframe thead th {\n",
       "        text-align: right;\n",
       "    }\n",
       "</style>\n",
       "<table border=\"1\" class=\"dataframe\">\n",
       "  <thead>\n",
       "    <tr style=\"text-align: right;\">\n",
       "      <th></th>\n",
       "      <th>title</th>\n",
       "      <th>authors</th>\n",
       "      <th>abstract</th>\n",
       "      <th>publish_time</th>\n",
       "      <th>journal</th>\n",
       "    </tr>\n",
       "  </thead>\n",
       "  <tbody>\n",
       "    <tr>\n",
       "      <th>0</th>\n",
       "      <td>Intrauterine virus infections and congenital h...</td>\n",
       "      <td>Overall, James C.</td>\n",
       "      <td>Abstract The etiologic basis for the vast majo...</td>\n",
       "      <td>1972-12-31</td>\n",
       "      <td>American Heart Journal</td>\n",
       "    </tr>\n",
       "    <tr>\n",
       "      <th>1</th>\n",
       "      <td>Clinical and immunologic studies in identical ...</td>\n",
       "      <td>Brunner, Carolyn M.; Horwitz, David A.; Shann,...</td>\n",
       "      <td>Abstract Middle-aged female identical twins, o...</td>\n",
       "      <td>1973-08-31</td>\n",
       "      <td>The American Journal of Medicine</td>\n",
       "    </tr>\n",
       "    <tr>\n",
       "      <th>2</th>\n",
       "      <td>Epidemiology of community-acquired respiratory...</td>\n",
       "      <td>Garibaldi, Richard A.</td>\n",
       "      <td>Abstract Upper respiratory tract infections ar...</td>\n",
       "      <td>1985-06-28</td>\n",
       "      <td>The American Journal of Medicine</td>\n",
       "    </tr>\n",
       "    <tr>\n",
       "      <th>3</th>\n",
       "      <td>Infectious diarrhea: Pathogenesis and risk fac...</td>\n",
       "      <td>Cantey, J.Robert</td>\n",
       "      <td>Abstract Our understanding of the pathogenesis...</td>\n",
       "      <td>1985-06-28</td>\n",
       "      <td>The American Journal of Medicine</td>\n",
       "    </tr>\n",
       "    <tr>\n",
       "      <th>4</th>\n",
       "      <td>New perspectives on the pathogenesis of rheuma...</td>\n",
       "      <td>Zvaifler, Nathan J.</td>\n",
       "      <td>Abstract In the pathogenesis of rheumatoid art...</td>\n",
       "      <td>1988-10-14</td>\n",
       "      <td>The American Journal of Medicine</td>\n",
       "    </tr>\n",
       "  </tbody>\n",
       "</table>\n",
       "</div>"
      ],
      "text/plain": [
       "                                               title  \\\n",
       "0  Intrauterine virus infections and congenital h...   \n",
       "1  Clinical and immunologic studies in identical ...   \n",
       "2  Epidemiology of community-acquired respiratory...   \n",
       "3  Infectious diarrhea: Pathogenesis and risk fac...   \n",
       "4  New perspectives on the pathogenesis of rheuma...   \n",
       "\n",
       "                                             authors  \\\n",
       "0                                  Overall, James C.   \n",
       "1  Brunner, Carolyn M.; Horwitz, David A.; Shann,...   \n",
       "2                              Garibaldi, Richard A.   \n",
       "3                                   Cantey, J.Robert   \n",
       "4                                Zvaifler, Nathan J.   \n",
       "\n",
       "                                            abstract publish_time  \\\n",
       "0  Abstract The etiologic basis for the vast majo...   1972-12-31   \n",
       "1  Abstract Middle-aged female identical twins, o...   1973-08-31   \n",
       "2  Abstract Upper respiratory tract infections ar...   1985-06-28   \n",
       "3  Abstract Our understanding of the pathogenesis...   1985-06-28   \n",
       "4  Abstract In the pathogenesis of rheumatoid art...   1988-10-14   \n",
       "\n",
       "                            journal  \n",
       "0            American Heart Journal  \n",
       "1  The American Journal of Medicine  \n",
       "2  The American Journal of Medicine  \n",
       "3  The American Journal of Medicine  \n",
       "4  The American Journal of Medicine  "
      ]
     },
     "execution_count": 45,
     "metadata": {},
     "output_type": "execute_result"
    }
   ],
   "source": [
    "d.head()"
   ]
  },
  {
   "cell_type": "code",
   "execution_count": 52,
   "metadata": {},
   "outputs": [],
   "source": [
    "fs = s3fs.S3FileSystem(anon=False)"
   ]
  },
  {
   "cell_type": "code",
   "execution_count": 55,
   "metadata": {},
   "outputs": [
    {
     "data": {
      "text/plain": [
       "['stemsearch/cord_papers.parquet']"
      ]
     },
     "execution_count": 55,
     "metadata": {},
     "output_type": "execute_result"
    }
   ],
   "source": [
    "fs.ls(path)"
   ]
  },
  {
   "cell_type": "code",
   "execution_count": 58,
   "metadata": {},
   "outputs": [
    {
     "name": "stdout",
     "output_type": "stream",
     "text": [
      "                                               title  \\\n",
      "0  Intrauterine virus infections and congenital h...   \n",
      "1  Clinical and immunologic studies in identical ...   \n",
      "2  Epidemiology of community-acquired respiratory...   \n",
      "3  Infectious diarrhea: Pathogenesis and risk fac...   \n",
      "4  New perspectives on the pathogenesis of rheuma...   \n",
      "\n",
      "                                             authors  \\\n",
      "0                                  Overall, James C.   \n",
      "1  Brunner, Carolyn M.; Horwitz, David A.; Shann,...   \n",
      "2                              Garibaldi, Richard A.   \n",
      "3                                   Cantey, J.Robert   \n",
      "4                                Zvaifler, Nathan J.   \n",
      "\n",
      "                                            abstract publish_time  \\\n",
      "0  Abstract The etiologic basis for the vast majo...   1972-12-31   \n",
      "1  Abstract Middle-aged female identical twins, o...   1973-08-31   \n",
      "2  Abstract Upper respiratory tract infections ar...   1985-06-28   \n",
      "3  Abstract Our understanding of the pathogenesis...   1985-06-28   \n",
      "4  Abstract In the pathogenesis of rheumatoid art...   1988-10-14   \n",
      "\n",
      "                            journal  \n",
      "0            American Heart Journal  \n",
      "1  The American Journal of Medicine  \n",
      "2  The American Journal of Medicine  \n",
      "3  The American Journal of Medicine  \n",
      "4  The American Journal of Medicine  \n"
     ]
    }
   ],
   "source": [
    "with fs.open(path) as f:\n",
    "    print(pd.read_parquet(f).head())"
   ]
  },
  {
   "cell_type": "code",
   "execution_count": 59,
   "metadata": {},
   "outputs": [],
   "source": [
    "vec_path = 's3://stemsearch/covid_tfidf_vectorizer.pkl'"
   ]
  },
  {
   "cell_type": "code",
   "execution_count": 60,
   "metadata": {},
   "outputs": [],
   "source": [
    "with fs.open(vec_path) as f:\n",
    "    covid_vectorizer = pickle.load(f)"
   ]
  },
  {
   "cell_type": "code",
   "execution_count": 61,
   "metadata": {},
   "outputs": [
    {
     "data": {
      "text/plain": [
       "TfidfVectorizer(analyzer='word', binary=False, decode_error='strict',\n",
       "                dtype=<class 'numpy.float64'>, encoding='utf-8',\n",
       "                input='content', lowercase=True, max_df=1.0, max_features=None,\n",
       "                min_df=1, ngram_range=(1, 1), norm='l2', preprocessor=None,\n",
       "                smooth_idf=True, stop_words='english', strip_accents=None,\n",
       "                sublinear_tf=False, token_pattern='(?u)\\\\b\\\\w\\\\w+\\\\b',\n",
       "                tokenizer=None, use_idf=True, vocabulary=None)"
      ]
     },
     "execution_count": 61,
     "metadata": {},
     "output_type": "execute_result"
    }
   ],
   "source": [
    "covid_vectorizer"
   ]
  },
  {
   "cell_type": "code",
   "execution_count": null,
   "metadata": {},
   "outputs": [],
   "source": []
  },
  {
   "cell_type": "code",
   "execution_count": null,
   "metadata": {},
   "outputs": [],
   "source": []
  },
  {
   "cell_type": "code",
   "execution_count": null,
   "metadata": {},
   "outputs": [],
   "source": []
  },
  {
   "cell_type": "code",
   "execution_count": null,
   "metadata": {},
   "outputs": [],
   "source": []
  },
  {
   "cell_type": "code",
   "execution_count": null,
   "metadata": {},
   "outputs": [],
   "source": []
  },
  {
   "cell_type": "code",
   "execution_count": null,
   "metadata": {},
   "outputs": [],
   "source": []
  }
 ],
 "metadata": {
  "kernelspec": {
   "display_name": "Python 3",
   "language": "python",
   "name": "python3"
  },
  "language_info": {
   "codemirror_mode": {
    "name": "ipython",
    "version": 3
   },
   "file_extension": ".py",
   "mimetype": "text/x-python",
   "name": "python",
   "nbconvert_exporter": "python",
   "pygments_lexer": "ipython3",
   "version": "3.8.1"
  }
 },
 "nbformat": 4,
 "nbformat_minor": 4
}
