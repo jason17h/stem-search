{
 "cells": [
  {
   "cell_type": "code",
   "execution_count": 1,
   "metadata": {},
   "outputs": [],
   "source": [
    "import json\n",
    "import pickle"
   ]
  },
  {
   "cell_type": "code",
   "execution_count": 2,
   "metadata": {},
   "outputs": [],
   "source": [
    "import pandas as pd\n",
    "import numpy as np"
   ]
  },
  {
   "cell_type": "markdown",
   "metadata": {},
   "source": [
    "## Load data"
   ]
  },
  {
   "cell_type": "markdown",
   "metadata": {},
   "source": [
    "Note that the data contains information on STEM and economic research papers and journals, sourced from arXiv.org."
   ]
  },
  {
   "cell_type": "code",
   "execution_count": 3,
   "metadata": {},
   "outputs": [],
   "source": [
    "data = []\n",
    "for line in open('data/arxiv-metadata-oai-2020-03-23.json'):\n",
    "    data.append(json.loads(line))"
   ]
  },
  {
   "cell_type": "code",
   "execution_count": 6,
   "metadata": {},
   "outputs": [],
   "source": [
    "df_raw = pd.DataFrame(data)"
   ]
  },
  {
   "cell_type": "code",
   "execution_count": 7,
   "metadata": {},
   "outputs": [
    {
     "data": {
      "text/html": [
       "<div>\n",
       "<style scoped>\n",
       "    .dataframe tbody tr th:only-of-type {\n",
       "        vertical-align: middle;\n",
       "    }\n",
       "\n",
       "    .dataframe tbody tr th {\n",
       "        vertical-align: top;\n",
       "    }\n",
       "\n",
       "    .dataframe thead th {\n",
       "        text-align: right;\n",
       "    }\n",
       "</style>\n",
       "<table border=\"1\" class=\"dataframe\">\n",
       "  <thead>\n",
       "    <tr style=\"text-align: right;\">\n",
       "      <th></th>\n",
       "      <th>id</th>\n",
       "      <th>submitter</th>\n",
       "      <th>authors</th>\n",
       "      <th>title</th>\n",
       "      <th>comments</th>\n",
       "      <th>journal-ref</th>\n",
       "      <th>doi</th>\n",
       "      <th>abstract</th>\n",
       "      <th>report-no</th>\n",
       "      <th>categories</th>\n",
       "      <th>versions</th>\n",
       "    </tr>\n",
       "  </thead>\n",
       "  <tbody>\n",
       "    <tr>\n",
       "      <th>0</th>\n",
       "      <td>0704.0001</td>\n",
       "      <td>Pavel Nadolsky</td>\n",
       "      <td>C. Bal\\'azs, E. L. Berger, P. M. Nadolsky, C.-...</td>\n",
       "      <td>Calculation of prompt diphoton production cros...</td>\n",
       "      <td>37 pages, 15 figures; published version</td>\n",
       "      <td>Phys.Rev.D76:013009,2007</td>\n",
       "      <td>10.1103/PhysRevD.76.013009</td>\n",
       "      <td>A fully differential calculation in perturba...</td>\n",
       "      <td>ANL-HEP-PR-07-12</td>\n",
       "      <td>[hep-ph]</td>\n",
       "      <td>[v1, v2]</td>\n",
       "    </tr>\n",
       "    <tr>\n",
       "      <th>1</th>\n",
       "      <td>0704.0002</td>\n",
       "      <td>Louis Theran</td>\n",
       "      <td>Ileana Streinu and Louis Theran</td>\n",
       "      <td>Sparsity-certifying Graph Decompositions</td>\n",
       "      <td>To appear in Graphs and Combinatorics</td>\n",
       "      <td>None</td>\n",
       "      <td>None</td>\n",
       "      <td>We describe a new algorithm, the $(k,\\ell)$-...</td>\n",
       "      <td>None</td>\n",
       "      <td>[math.CO cs.CG]</td>\n",
       "      <td>[v1, v2]</td>\n",
       "    </tr>\n",
       "    <tr>\n",
       "      <th>2</th>\n",
       "      <td>0704.0003</td>\n",
       "      <td>Hongjun Pan</td>\n",
       "      <td>Hongjun Pan</td>\n",
       "      <td>The evolution of the Earth-Moon system based o...</td>\n",
       "      <td>23 pages, 3 figures</td>\n",
       "      <td>None</td>\n",
       "      <td>None</td>\n",
       "      <td>The evolution of Earth-Moon system is descri...</td>\n",
       "      <td>None</td>\n",
       "      <td>[physics.gen-ph]</td>\n",
       "      <td>[v1, v2, v3]</td>\n",
       "    </tr>\n",
       "  </tbody>\n",
       "</table>\n",
       "</div>"
      ],
      "text/plain": [
       "          id       submitter  \\\n",
       "0  0704.0001  Pavel Nadolsky   \n",
       "1  0704.0002    Louis Theran   \n",
       "2  0704.0003     Hongjun Pan   \n",
       "\n",
       "                                             authors  \\\n",
       "0  C. Bal\\'azs, E. L. Berger, P. M. Nadolsky, C.-...   \n",
       "1                    Ileana Streinu and Louis Theran   \n",
       "2                                        Hongjun Pan   \n",
       "\n",
       "                                               title  \\\n",
       "0  Calculation of prompt diphoton production cros...   \n",
       "1           Sparsity-certifying Graph Decompositions   \n",
       "2  The evolution of the Earth-Moon system based o...   \n",
       "\n",
       "                                  comments               journal-ref  \\\n",
       "0  37 pages, 15 figures; published version  Phys.Rev.D76:013009,2007   \n",
       "1    To appear in Graphs and Combinatorics                      None   \n",
       "2                      23 pages, 3 figures                      None   \n",
       "\n",
       "                          doi  \\\n",
       "0  10.1103/PhysRevD.76.013009   \n",
       "1                        None   \n",
       "2                        None   \n",
       "\n",
       "                                            abstract         report-no  \\\n",
       "0    A fully differential calculation in perturba...  ANL-HEP-PR-07-12   \n",
       "1    We describe a new algorithm, the $(k,\\ell)$-...              None   \n",
       "2    The evolution of Earth-Moon system is descri...              None   \n",
       "\n",
       "         categories      versions  \n",
       "0          [hep-ph]      [v1, v2]  \n",
       "1   [math.CO cs.CG]      [v1, v2]  \n",
       "2  [physics.gen-ph]  [v1, v2, v3]  "
      ]
     },
     "execution_count": 7,
     "metadata": {},
     "output_type": "execute_result"
    }
   ],
   "source": [
    "df_raw.head(3)"
   ]
  },
  {
   "cell_type": "code",
   "execution_count": 8,
   "metadata": {},
   "outputs": [],
   "source": [
    "with open('data/authors-parsed.json') as f:\n",
    "    authors_parsed = json.load(f)"
   ]
  },
  {
   "cell_type": "code",
   "execution_count": null,
   "metadata": {},
   "outputs": [],
   "source": [
    "authors_parsed.items()[0]"
   ]
  },
  {
   "cell_type": "code",
   "execution_count": 108,
   "metadata": {},
   "outputs": [
    {
     "data": {
      "text/html": [
       "<div>\n",
       "<style scoped>\n",
       "    .dataframe tbody tr th:only-of-type {\n",
       "        vertical-align: middle;\n",
       "    }\n",
       "\n",
       "    .dataframe tbody tr th {\n",
       "        vertical-align: top;\n",
       "    }\n",
       "\n",
       "    .dataframe thead th {\n",
       "        text-align: right;\n",
       "    }\n",
       "</style>\n",
       "<table border=\"1\" class=\"dataframe\">\n",
       "  <thead>\n",
       "    <tr style=\"text-align: right;\">\n",
       "      <th></th>\n",
       "      <th>title</th>\n",
       "      <th>authors</th>\n",
       "      <th>abstract</th>\n",
       "      <th>comments</th>\n",
       "    </tr>\n",
       "  </thead>\n",
       "  <tbody>\n",
       "    <tr>\n",
       "      <th>0</th>\n",
       "      <td>Calculation of prompt diphoton production cros...</td>\n",
       "      <td>C. Bal\\'azs, E. L. Berger, P. M. Nadolsky, C.-...</td>\n",
       "      <td>A fully differential calculation in perturba...</td>\n",
       "      <td>37 pages, 15 figures; published version</td>\n",
       "    </tr>\n",
       "    <tr>\n",
       "      <th>1</th>\n",
       "      <td>Sparsity-certifying Graph Decompositions</td>\n",
       "      <td>Ileana Streinu and Louis Theran</td>\n",
       "      <td>We describe a new algorithm, the $(k,\\ell)$-...</td>\n",
       "      <td>To appear in Graphs and Combinatorics</td>\n",
       "    </tr>\n",
       "    <tr>\n",
       "      <th>2</th>\n",
       "      <td>The evolution of the Earth-Moon system based o...</td>\n",
       "      <td>Hongjun Pan</td>\n",
       "      <td>The evolution of Earth-Moon system is descri...</td>\n",
       "      <td>23 pages, 3 figures</td>\n",
       "    </tr>\n",
       "    <tr>\n",
       "      <th>3</th>\n",
       "      <td>A determinant of Stirling cycle numbers counts...</td>\n",
       "      <td>David Callan</td>\n",
       "      <td>We show that a determinant of Stirling cycle...</td>\n",
       "      <td>11 pages</td>\n",
       "    </tr>\n",
       "    <tr>\n",
       "      <th>4</th>\n",
       "      <td>From dyadic $\\Lambda_{\\alpha}$ to $\\Lambda_{\\a...</td>\n",
       "      <td>Wael Abu-Shammala and Alberto Torchinsky</td>\n",
       "      <td>In this paper we show how to compute the $\\L...</td>\n",
       "      <td>None</td>\n",
       "    </tr>\n",
       "    <tr>\n",
       "      <th>...</th>\n",
       "      <td>...</td>\n",
       "      <td>...</td>\n",
       "      <td>...</td>\n",
       "      <td>...</td>\n",
       "    </tr>\n",
       "    <tr>\n",
       "      <th>1133984</th>\n",
       "      <td>Chaotic diffusion of complex trajectory and it...</td>\n",
       "      <td>Wen-Lei Zhao, Jiaozi Wang, Qian Wang, and Peiq...</td>\n",
       "      <td>We investigate both the quantum and classica...</td>\n",
       "      <td>10 pages, 7 figures</td>\n",
       "    </tr>\n",
       "    <tr>\n",
       "      <th>1133985</th>\n",
       "      <td>A Decentralized IoT Data Marketplace</td>\n",
       "      <td>P. Gupta, S. Kanhere, R. Jurdak</td>\n",
       "      <td>This paper proposes an architecture for dyna...</td>\n",
       "      <td>6 pages, 7 figures</td>\n",
       "    </tr>\n",
       "    <tr>\n",
       "      <th>1133986</th>\n",
       "      <td>Theory of Single Photon Detection by a Photore...</td>\n",
       "      <td>N. J. Harmon and M. E. Flatt\\'e</td>\n",
       "      <td>The long spin coherence times in ambient con...</td>\n",
       "      <td>None</td>\n",
       "    </tr>\n",
       "    <tr>\n",
       "      <th>1133987</th>\n",
       "      <td>CreativeBioMan: Brain and Body Wearable Comput...</td>\n",
       "      <td>Min Chen, Yingying Jiang, Yong Cao, Albert Y. ...</td>\n",
       "      <td>Current artificial intelligence (AI) technol...</td>\n",
       "      <td>None</td>\n",
       "    </tr>\n",
       "    <tr>\n",
       "      <th>1133988</th>\n",
       "      <td>Failure of scattering to solitary waves for lo...</td>\n",
       "      <td>Jason Murphy, Kenji Nakanishi</td>\n",
       "      <td>We consider nonlinear Schr\\\"odinger equation...</td>\n",
       "      <td>12 pages</td>\n",
       "    </tr>\n",
       "  </tbody>\n",
       "</table>\n",
       "<p>1133989 rows × 4 columns</p>\n",
       "</div>"
      ],
      "text/plain": [
       "                                                     title  \\\n",
       "0        Calculation of prompt diphoton production cros...   \n",
       "1                 Sparsity-certifying Graph Decompositions   \n",
       "2        The evolution of the Earth-Moon system based o...   \n",
       "3        A determinant of Stirling cycle numbers counts...   \n",
       "4        From dyadic $\\Lambda_{\\alpha}$ to $\\Lambda_{\\a...   \n",
       "...                                                    ...   \n",
       "1133984  Chaotic diffusion of complex trajectory and it...   \n",
       "1133985               A Decentralized IoT Data Marketplace   \n",
       "1133986  Theory of Single Photon Detection by a Photore...   \n",
       "1133987  CreativeBioMan: Brain and Body Wearable Comput...   \n",
       "1133988  Failure of scattering to solitary waves for lo...   \n",
       "\n",
       "                                                   authors  \\\n",
       "0        C. Bal\\'azs, E. L. Berger, P. M. Nadolsky, C.-...   \n",
       "1                          Ileana Streinu and Louis Theran   \n",
       "2                                              Hongjun Pan   \n",
       "3                                             David Callan   \n",
       "4                 Wael Abu-Shammala and Alberto Torchinsky   \n",
       "...                                                    ...   \n",
       "1133984  Wen-Lei Zhao, Jiaozi Wang, Qian Wang, and Peiq...   \n",
       "1133985                    P. Gupta, S. Kanhere, R. Jurdak   \n",
       "1133986                    N. J. Harmon and M. E. Flatt\\'e   \n",
       "1133987  Min Chen, Yingying Jiang, Yong Cao, Albert Y. ...   \n",
       "1133988                      Jason Murphy, Kenji Nakanishi   \n",
       "\n",
       "                                                  abstract  \\\n",
       "0          A fully differential calculation in perturba...   \n",
       "1          We describe a new algorithm, the $(k,\\ell)$-...   \n",
       "2          The evolution of Earth-Moon system is descri...   \n",
       "3          We show that a determinant of Stirling cycle...   \n",
       "4          In this paper we show how to compute the $\\L...   \n",
       "...                                                    ...   \n",
       "1133984    We investigate both the quantum and classica...   \n",
       "1133985    This paper proposes an architecture for dyna...   \n",
       "1133986    The long spin coherence times in ambient con...   \n",
       "1133987    Current artificial intelligence (AI) technol...   \n",
       "1133988    We consider nonlinear Schr\\\"odinger equation...   \n",
       "\n",
       "                                        comments  \n",
       "0        37 pages, 15 figures; published version  \n",
       "1          To appear in Graphs and Combinatorics  \n",
       "2                            23 pages, 3 figures  \n",
       "3                                       11 pages  \n",
       "4                                           None  \n",
       "...                                          ...  \n",
       "1133984                      10 pages, 7 figures  \n",
       "1133985                       6 pages, 7 figures  \n",
       "1133986                                     None  \n",
       "1133987                                     None  \n",
       "1133988                                 12 pages  \n",
       "\n",
       "[1133989 rows x 4 columns]"
      ]
     },
     "execution_count": 108,
     "metadata": {},
     "output_type": "execute_result"
    }
   ],
   "source": [
    "df_raw.loc[:, ['title', 'authors', 'abstract', 'comments']]"
   ]
  },
  {
   "cell_type": "code",
   "execution_count": 109,
   "metadata": {},
   "outputs": [],
   "source": [
    "df_raw.to_parquet('data/papers.parquet')"
   ]
  },
  {
   "cell_type": "markdown",
   "metadata": {},
   "source": [
    "## Preprocess data"
   ]
  },
  {
   "cell_type": "code",
   "execution_count": 10,
   "metadata": {
    "scrolled": true
   },
   "outputs": [
    {
     "data": {
      "text/html": [
       "<div>\n",
       "<style scoped>\n",
       "    .dataframe tbody tr th:only-of-type {\n",
       "        vertical-align: middle;\n",
       "    }\n",
       "\n",
       "    .dataframe tbody tr th {\n",
       "        vertical-align: top;\n",
       "    }\n",
       "\n",
       "    .dataframe thead th {\n",
       "        text-align: right;\n",
       "    }\n",
       "</style>\n",
       "<table border=\"1\" class=\"dataframe\">\n",
       "  <thead>\n",
       "    <tr style=\"text-align: right;\">\n",
       "      <th></th>\n",
       "      <th>id</th>\n",
       "      <th>submitter</th>\n",
       "      <th>authors</th>\n",
       "      <th>title</th>\n",
       "      <th>comments</th>\n",
       "      <th>journal-ref</th>\n",
       "      <th>doi</th>\n",
       "      <th>abstract</th>\n",
       "      <th>report-no</th>\n",
       "      <th>categories</th>\n",
       "      <th>versions</th>\n",
       "    </tr>\n",
       "  </thead>\n",
       "  <tbody>\n",
       "    <tr>\n",
       "      <th>0</th>\n",
       "      <td>0704.0001</td>\n",
       "      <td>Pavel Nadolsky</td>\n",
       "      <td>C. Bal\\'azs, E. L. Berger, P. M. Nadolsky, C.-...</td>\n",
       "      <td>Calculation of prompt diphoton production cros...</td>\n",
       "      <td>37 pages, 15 figures; published version</td>\n",
       "      <td>Phys.Rev.D76:013009,2007</td>\n",
       "      <td>10.1103/PhysRevD.76.013009</td>\n",
       "      <td>A fully differential calculation in perturba...</td>\n",
       "      <td>ANL-HEP-PR-07-12</td>\n",
       "      <td>[hep-ph]</td>\n",
       "      <td>[v1, v2]</td>\n",
       "    </tr>\n",
       "    <tr>\n",
       "      <th>1</th>\n",
       "      <td>0704.0002</td>\n",
       "      <td>Louis Theran</td>\n",
       "      <td>Ileana Streinu and Louis Theran</td>\n",
       "      <td>Sparsity-certifying Graph Decompositions</td>\n",
       "      <td>To appear in Graphs and Combinatorics</td>\n",
       "      <td>None</td>\n",
       "      <td>None</td>\n",
       "      <td>We describe a new algorithm, the $(k,\\ell)$-...</td>\n",
       "      <td>None</td>\n",
       "      <td>[math.CO cs.CG]</td>\n",
       "      <td>[v1, v2]</td>\n",
       "    </tr>\n",
       "    <tr>\n",
       "      <th>2</th>\n",
       "      <td>0704.0003</td>\n",
       "      <td>Hongjun Pan</td>\n",
       "      <td>Hongjun Pan</td>\n",
       "      <td>The evolution of the Earth-Moon system based o...</td>\n",
       "      <td>23 pages, 3 figures</td>\n",
       "      <td>None</td>\n",
       "      <td>None</td>\n",
       "      <td>The evolution of Earth-Moon system is descri...</td>\n",
       "      <td>None</td>\n",
       "      <td>[physics.gen-ph]</td>\n",
       "      <td>[v1, v2, v3]</td>\n",
       "    </tr>\n",
       "    <tr>\n",
       "      <th>3</th>\n",
       "      <td>0704.0004</td>\n",
       "      <td>David Callan</td>\n",
       "      <td>David Callan</td>\n",
       "      <td>A determinant of Stirling cycle numbers counts...</td>\n",
       "      <td>11 pages</td>\n",
       "      <td>None</td>\n",
       "      <td>None</td>\n",
       "      <td>We show that a determinant of Stirling cycle...</td>\n",
       "      <td>None</td>\n",
       "      <td>[math.CO]</td>\n",
       "      <td>[v1]</td>\n",
       "    </tr>\n",
       "    <tr>\n",
       "      <th>4</th>\n",
       "      <td>0704.0005</td>\n",
       "      <td>Alberto Torchinsky</td>\n",
       "      <td>Wael Abu-Shammala and Alberto Torchinsky</td>\n",
       "      <td>From dyadic $\\Lambda_{\\alpha}$ to $\\Lambda_{\\a...</td>\n",
       "      <td>None</td>\n",
       "      <td>Illinois J. Math. 52 (2008) no.2, 681-689</td>\n",
       "      <td>None</td>\n",
       "      <td>In this paper we show how to compute the $\\L...</td>\n",
       "      <td>None</td>\n",
       "      <td>[math.CA math.FA]</td>\n",
       "      <td>[v1]</td>\n",
       "    </tr>\n",
       "    <tr>\n",
       "      <th>...</th>\n",
       "      <td>...</td>\n",
       "      <td>...</td>\n",
       "      <td>...</td>\n",
       "      <td>...</td>\n",
       "      <td>...</td>\n",
       "      <td>...</td>\n",
       "      <td>...</td>\n",
       "      <td>...</td>\n",
       "      <td>...</td>\n",
       "      <td>...</td>\n",
       "      <td>...</td>\n",
       "    </tr>\n",
       "    <tr>\n",
       "      <th>1133984</th>\n",
       "      <td>1906.01798</td>\n",
       "      <td>Qian Wang</td>\n",
       "      <td>Wen-Lei Zhao, Jiaozi Wang, Qian Wang, and Peiq...</td>\n",
       "      <td>Chaotic diffusion of complex trajectory and it...</td>\n",
       "      <td>10 pages, 7 figures</td>\n",
       "      <td>None</td>\n",
       "      <td>None</td>\n",
       "      <td>We investigate both the quantum and classica...</td>\n",
       "      <td>None</td>\n",
       "      <td>[quant-ph]</td>\n",
       "      <td>[v1, v2, v3]</td>\n",
       "    </tr>\n",
       "    <tr>\n",
       "      <th>1133985</th>\n",
       "      <td>1906.01799</td>\n",
       "      <td>Pooja Gupta</td>\n",
       "      <td>P. Gupta, S. Kanhere, R. Jurdak</td>\n",
       "      <td>A Decentralized IoT Data Marketplace</td>\n",
       "      <td>6 pages, 7 figures</td>\n",
       "      <td>None</td>\n",
       "      <td>None</td>\n",
       "      <td>This paper proposes an architecture for dyna...</td>\n",
       "      <td>None</td>\n",
       "      <td>[cs.NI]</td>\n",
       "      <td>[v1]</td>\n",
       "    </tr>\n",
       "    <tr>\n",
       "      <th>1133986</th>\n",
       "      <td>1906.01800</td>\n",
       "      <td>Michael E. Flatt\\'e</td>\n",
       "      <td>N. J. Harmon and M. E. Flatt\\'e</td>\n",
       "      <td>Theory of Single Photon Detection by a Photore...</td>\n",
       "      <td>None</td>\n",
       "      <td>None</td>\n",
       "      <td>None</td>\n",
       "      <td>The long spin coherence times in ambient con...</td>\n",
       "      <td>None</td>\n",
       "      <td>[quant-ph cond-mat.mes-hall]</td>\n",
       "      <td>[v1]</td>\n",
       "    </tr>\n",
       "    <tr>\n",
       "      <th>1133987</th>\n",
       "      <td>1906.01801</td>\n",
       "      <td>Yingying Jiang</td>\n",
       "      <td>Min Chen, Yingying Jiang, Yong Cao, Albert Y. ...</td>\n",
       "      <td>CreativeBioMan: Brain and Body Wearable Comput...</td>\n",
       "      <td>None</td>\n",
       "      <td>None</td>\n",
       "      <td>None</td>\n",
       "      <td>Current artificial intelligence (AI) technol...</td>\n",
       "      <td>None</td>\n",
       "      <td>[cs.HC]</td>\n",
       "      <td>[v1]</td>\n",
       "    </tr>\n",
       "    <tr>\n",
       "      <th>1133988</th>\n",
       "      <td>1906.01802</td>\n",
       "      <td>Jason Murphy</td>\n",
       "      <td>Jason Murphy, Kenji Nakanishi</td>\n",
       "      <td>Failure of scattering to solitary waves for lo...</td>\n",
       "      <td>12 pages</td>\n",
       "      <td>None</td>\n",
       "      <td>None</td>\n",
       "      <td>We consider nonlinear Schr\\\"odinger equation...</td>\n",
       "      <td>None</td>\n",
       "      <td>[math.AP]</td>\n",
       "      <td>[v1]</td>\n",
       "    </tr>\n",
       "  </tbody>\n",
       "</table>\n",
       "<p>1133989 rows × 11 columns</p>\n",
       "</div>"
      ],
      "text/plain": [
       "                 id            submitter  \\\n",
       "0         0704.0001       Pavel Nadolsky   \n",
       "1         0704.0002         Louis Theran   \n",
       "2         0704.0003          Hongjun Pan   \n",
       "3         0704.0004         David Callan   \n",
       "4         0704.0005   Alberto Torchinsky   \n",
       "...             ...                  ...   \n",
       "1133984  1906.01798            Qian Wang   \n",
       "1133985  1906.01799          Pooja Gupta   \n",
       "1133986  1906.01800  Michael E. Flatt\\'e   \n",
       "1133987  1906.01801       Yingying Jiang   \n",
       "1133988  1906.01802         Jason Murphy   \n",
       "\n",
       "                                                   authors  \\\n",
       "0        C. Bal\\'azs, E. L. Berger, P. M. Nadolsky, C.-...   \n",
       "1                          Ileana Streinu and Louis Theran   \n",
       "2                                              Hongjun Pan   \n",
       "3                                             David Callan   \n",
       "4                 Wael Abu-Shammala and Alberto Torchinsky   \n",
       "...                                                    ...   \n",
       "1133984  Wen-Lei Zhao, Jiaozi Wang, Qian Wang, and Peiq...   \n",
       "1133985                    P. Gupta, S. Kanhere, R. Jurdak   \n",
       "1133986                    N. J. Harmon and M. E. Flatt\\'e   \n",
       "1133987  Min Chen, Yingying Jiang, Yong Cao, Albert Y. ...   \n",
       "1133988                      Jason Murphy, Kenji Nakanishi   \n",
       "\n",
       "                                                     title  \\\n",
       "0        Calculation of prompt diphoton production cros...   \n",
       "1                 Sparsity-certifying Graph Decompositions   \n",
       "2        The evolution of the Earth-Moon system based o...   \n",
       "3        A determinant of Stirling cycle numbers counts...   \n",
       "4        From dyadic $\\Lambda_{\\alpha}$ to $\\Lambda_{\\a...   \n",
       "...                                                    ...   \n",
       "1133984  Chaotic diffusion of complex trajectory and it...   \n",
       "1133985               A Decentralized IoT Data Marketplace   \n",
       "1133986  Theory of Single Photon Detection by a Photore...   \n",
       "1133987  CreativeBioMan: Brain and Body Wearable Comput...   \n",
       "1133988  Failure of scattering to solitary waves for lo...   \n",
       "\n",
       "                                        comments  \\\n",
       "0        37 pages, 15 figures; published version   \n",
       "1          To appear in Graphs and Combinatorics   \n",
       "2                            23 pages, 3 figures   \n",
       "3                                       11 pages   \n",
       "4                                           None   \n",
       "...                                          ...   \n",
       "1133984                      10 pages, 7 figures   \n",
       "1133985                       6 pages, 7 figures   \n",
       "1133986                                     None   \n",
       "1133987                                     None   \n",
       "1133988                                 12 pages   \n",
       "\n",
       "                                       journal-ref  \\\n",
       "0                         Phys.Rev.D76:013009,2007   \n",
       "1                                             None   \n",
       "2                                             None   \n",
       "3                                             None   \n",
       "4        Illinois J. Math. 52 (2008) no.2, 681-689   \n",
       "...                                            ...   \n",
       "1133984                                       None   \n",
       "1133985                                       None   \n",
       "1133986                                       None   \n",
       "1133987                                       None   \n",
       "1133988                                       None   \n",
       "\n",
       "                                doi  \\\n",
       "0        10.1103/PhysRevD.76.013009   \n",
       "1                              None   \n",
       "2                              None   \n",
       "3                              None   \n",
       "4                              None   \n",
       "...                             ...   \n",
       "1133984                        None   \n",
       "1133985                        None   \n",
       "1133986                        None   \n",
       "1133987                        None   \n",
       "1133988                        None   \n",
       "\n",
       "                                                  abstract         report-no  \\\n",
       "0          A fully differential calculation in perturba...  ANL-HEP-PR-07-12   \n",
       "1          We describe a new algorithm, the $(k,\\ell)$-...              None   \n",
       "2          The evolution of Earth-Moon system is descri...              None   \n",
       "3          We show that a determinant of Stirling cycle...              None   \n",
       "4          In this paper we show how to compute the $\\L...              None   \n",
       "...                                                    ...               ...   \n",
       "1133984    We investigate both the quantum and classica...              None   \n",
       "1133985    This paper proposes an architecture for dyna...              None   \n",
       "1133986    The long spin coherence times in ambient con...              None   \n",
       "1133987    Current artificial intelligence (AI) technol...              None   \n",
       "1133988    We consider nonlinear Schr\\\"odinger equation...              None   \n",
       "\n",
       "                           categories      versions  \n",
       "0                            [hep-ph]      [v1, v2]  \n",
       "1                     [math.CO cs.CG]      [v1, v2]  \n",
       "2                    [physics.gen-ph]  [v1, v2, v3]  \n",
       "3                           [math.CO]          [v1]  \n",
       "4                   [math.CA math.FA]          [v1]  \n",
       "...                               ...           ...  \n",
       "1133984                    [quant-ph]  [v1, v2, v3]  \n",
       "1133985                       [cs.NI]          [v1]  \n",
       "1133986  [quant-ph cond-mat.mes-hall]          [v1]  \n",
       "1133987                       [cs.HC]          [v1]  \n",
       "1133988                     [math.AP]          [v1]  \n",
       "\n",
       "[1133989 rows x 11 columns]"
      ]
     },
     "execution_count": 10,
     "metadata": {},
     "output_type": "execute_result"
    }
   ],
   "source": [
    "df_raw.sort_values('id')"
   ]
  },
  {
   "cell_type": "code",
   "execution_count": 11,
   "metadata": {},
   "outputs": [],
   "source": [
    "s_authors = pd.Series(authors_parsed).rename('authors')"
   ]
  },
  {
   "cell_type": "code",
   "execution_count": 12,
   "metadata": {},
   "outputs": [
    {
     "data": {
      "text/plain": [
       "0704.0001     [[Balázs, C., ], [Berger, E. L., ], [Nadolsky,...\n",
       "0704.0002              [[Streinu, Ileana, ], [Theran, Louis, ]]\n",
       "0704.0003                                    [[Pan, Hongjun, ]]\n",
       "0704.0004                                   [[Callan, David, ]]\n",
       "0704.0005     [[Abu-Shammala, Wael, ], [Torchinsky, Alberto, ]]\n",
       "                                    ...                        \n",
       "1906.01798    [[Zhao, Wen-Lei, ], [Wang, Jiaozi, ], [Wang, Q...\n",
       "1906.01799     [[Gupta, P., ], [Kanhere, S., ], [Jurdak, R., ]]\n",
       "1906.01800               [[Harmon, N. J., ], [Flatté, M. E., ]]\n",
       "1906.01801    [[Chen, Min, ], [Jiang, Yingying, ], [Cao, Yon...\n",
       "1906.01802            [[Murphy, Jason, ], [Nakanishi, Kenji, ]]\n",
       "Name: authors, Length: 1133989, dtype: object"
      ]
     },
     "execution_count": 12,
     "metadata": {},
     "output_type": "execute_result"
    }
   ],
   "source": [
    "s_authors.sort_index()"
   ]
  },
  {
   "cell_type": "code",
   "execution_count": 13,
   "metadata": {},
   "outputs": [
    {
     "data": {
      "text/plain": [
       "True"
      ]
     },
     "execution_count": 13,
     "metadata": {},
     "output_type": "execute_result"
    }
   ],
   "source": [
    "(s_authors.index.values == df_raw.loc[:, 'id'].values).all()"
   ]
  },
  {
   "cell_type": "code",
   "execution_count": 14,
   "metadata": {
    "scrolled": true
   },
   "outputs": [
    {
     "data": {
      "text/html": [
       "<div>\n",
       "<style scoped>\n",
       "    .dataframe tbody tr th:only-of-type {\n",
       "        vertical-align: middle;\n",
       "    }\n",
       "\n",
       "    .dataframe tbody tr th {\n",
       "        vertical-align: top;\n",
       "    }\n",
       "\n",
       "    .dataframe thead th {\n",
       "        text-align: right;\n",
       "    }\n",
       "</style>\n",
       "<table border=\"1\" class=\"dataframe\">\n",
       "  <thead>\n",
       "    <tr style=\"text-align: right;\">\n",
       "      <th></th>\n",
       "      <th>id</th>\n",
       "      <th>submitter</th>\n",
       "      <th>title</th>\n",
       "      <th>comments</th>\n",
       "      <th>journal-ref</th>\n",
       "      <th>doi</th>\n",
       "      <th>abstract</th>\n",
       "      <th>report-no</th>\n",
       "      <th>categories</th>\n",
       "      <th>versions</th>\n",
       "    </tr>\n",
       "  </thead>\n",
       "  <tbody>\n",
       "    <tr>\n",
       "      <th>0</th>\n",
       "      <td>0704.0001</td>\n",
       "      <td>Pavel Nadolsky</td>\n",
       "      <td>Calculation of prompt diphoton production cros...</td>\n",
       "      <td>37 pages, 15 figures; published version</td>\n",
       "      <td>Phys.Rev.D76:013009,2007</td>\n",
       "      <td>10.1103/PhysRevD.76.013009</td>\n",
       "      <td>A fully differential calculation in perturba...</td>\n",
       "      <td>ANL-HEP-PR-07-12</td>\n",
       "      <td>[hep-ph]</td>\n",
       "      <td>[v1, v2]</td>\n",
       "    </tr>\n",
       "    <tr>\n",
       "      <th>1</th>\n",
       "      <td>0704.0002</td>\n",
       "      <td>Louis Theran</td>\n",
       "      <td>Sparsity-certifying Graph Decompositions</td>\n",
       "      <td>To appear in Graphs and Combinatorics</td>\n",
       "      <td>None</td>\n",
       "      <td>None</td>\n",
       "      <td>We describe a new algorithm, the $(k,\\ell)$-...</td>\n",
       "      <td>None</td>\n",
       "      <td>[math.CO cs.CG]</td>\n",
       "      <td>[v1, v2]</td>\n",
       "    </tr>\n",
       "    <tr>\n",
       "      <th>2</th>\n",
       "      <td>0704.0003</td>\n",
       "      <td>Hongjun Pan</td>\n",
       "      <td>The evolution of the Earth-Moon system based o...</td>\n",
       "      <td>23 pages, 3 figures</td>\n",
       "      <td>None</td>\n",
       "      <td>None</td>\n",
       "      <td>The evolution of Earth-Moon system is descri...</td>\n",
       "      <td>None</td>\n",
       "      <td>[physics.gen-ph]</td>\n",
       "      <td>[v1, v2, v3]</td>\n",
       "    </tr>\n",
       "    <tr>\n",
       "      <th>3</th>\n",
       "      <td>0704.0004</td>\n",
       "      <td>David Callan</td>\n",
       "      <td>A determinant of Stirling cycle numbers counts...</td>\n",
       "      <td>11 pages</td>\n",
       "      <td>None</td>\n",
       "      <td>None</td>\n",
       "      <td>We show that a determinant of Stirling cycle...</td>\n",
       "      <td>None</td>\n",
       "      <td>[math.CO]</td>\n",
       "      <td>[v1]</td>\n",
       "    </tr>\n",
       "    <tr>\n",
       "      <th>4</th>\n",
       "      <td>0704.0005</td>\n",
       "      <td>Alberto Torchinsky</td>\n",
       "      <td>From dyadic $\\Lambda_{\\alpha}$ to $\\Lambda_{\\a...</td>\n",
       "      <td>None</td>\n",
       "      <td>Illinois J. Math. 52 (2008) no.2, 681-689</td>\n",
       "      <td>None</td>\n",
       "      <td>In this paper we show how to compute the $\\L...</td>\n",
       "      <td>None</td>\n",
       "      <td>[math.CA math.FA]</td>\n",
       "      <td>[v1]</td>\n",
       "    </tr>\n",
       "    <tr>\n",
       "      <th>...</th>\n",
       "      <td>...</td>\n",
       "      <td>...</td>\n",
       "      <td>...</td>\n",
       "      <td>...</td>\n",
       "      <td>...</td>\n",
       "      <td>...</td>\n",
       "      <td>...</td>\n",
       "      <td>...</td>\n",
       "      <td>...</td>\n",
       "      <td>...</td>\n",
       "    </tr>\n",
       "    <tr>\n",
       "      <th>1133984</th>\n",
       "      <td>1906.01798</td>\n",
       "      <td>Qian Wang</td>\n",
       "      <td>Chaotic diffusion of complex trajectory and it...</td>\n",
       "      <td>10 pages, 7 figures</td>\n",
       "      <td>None</td>\n",
       "      <td>None</td>\n",
       "      <td>We investigate both the quantum and classica...</td>\n",
       "      <td>None</td>\n",
       "      <td>[quant-ph]</td>\n",
       "      <td>[v1, v2, v3]</td>\n",
       "    </tr>\n",
       "    <tr>\n",
       "      <th>1133985</th>\n",
       "      <td>1906.01799</td>\n",
       "      <td>Pooja Gupta</td>\n",
       "      <td>A Decentralized IoT Data Marketplace</td>\n",
       "      <td>6 pages, 7 figures</td>\n",
       "      <td>None</td>\n",
       "      <td>None</td>\n",
       "      <td>This paper proposes an architecture for dyna...</td>\n",
       "      <td>None</td>\n",
       "      <td>[cs.NI]</td>\n",
       "      <td>[v1]</td>\n",
       "    </tr>\n",
       "    <tr>\n",
       "      <th>1133986</th>\n",
       "      <td>1906.01800</td>\n",
       "      <td>Michael E. Flatt\\'e</td>\n",
       "      <td>Theory of Single Photon Detection by a Photore...</td>\n",
       "      <td>None</td>\n",
       "      <td>None</td>\n",
       "      <td>None</td>\n",
       "      <td>The long spin coherence times in ambient con...</td>\n",
       "      <td>None</td>\n",
       "      <td>[quant-ph cond-mat.mes-hall]</td>\n",
       "      <td>[v1]</td>\n",
       "    </tr>\n",
       "    <tr>\n",
       "      <th>1133987</th>\n",
       "      <td>1906.01801</td>\n",
       "      <td>Yingying Jiang</td>\n",
       "      <td>CreativeBioMan: Brain and Body Wearable Comput...</td>\n",
       "      <td>None</td>\n",
       "      <td>None</td>\n",
       "      <td>None</td>\n",
       "      <td>Current artificial intelligence (AI) technol...</td>\n",
       "      <td>None</td>\n",
       "      <td>[cs.HC]</td>\n",
       "      <td>[v1]</td>\n",
       "    </tr>\n",
       "    <tr>\n",
       "      <th>1133988</th>\n",
       "      <td>1906.01802</td>\n",
       "      <td>Jason Murphy</td>\n",
       "      <td>Failure of scattering to solitary waves for lo...</td>\n",
       "      <td>12 pages</td>\n",
       "      <td>None</td>\n",
       "      <td>None</td>\n",
       "      <td>We consider nonlinear Schr\\\"odinger equation...</td>\n",
       "      <td>None</td>\n",
       "      <td>[math.AP]</td>\n",
       "      <td>[v1]</td>\n",
       "    </tr>\n",
       "  </tbody>\n",
       "</table>\n",
       "<p>1133989 rows × 10 columns</p>\n",
       "</div>"
      ],
      "text/plain": [
       "                 id            submitter  \\\n",
       "0         0704.0001       Pavel Nadolsky   \n",
       "1         0704.0002         Louis Theran   \n",
       "2         0704.0003          Hongjun Pan   \n",
       "3         0704.0004         David Callan   \n",
       "4         0704.0005   Alberto Torchinsky   \n",
       "...             ...                  ...   \n",
       "1133984  1906.01798            Qian Wang   \n",
       "1133985  1906.01799          Pooja Gupta   \n",
       "1133986  1906.01800  Michael E. Flatt\\'e   \n",
       "1133987  1906.01801       Yingying Jiang   \n",
       "1133988  1906.01802         Jason Murphy   \n",
       "\n",
       "                                                     title  \\\n",
       "0        Calculation of prompt diphoton production cros...   \n",
       "1                 Sparsity-certifying Graph Decompositions   \n",
       "2        The evolution of the Earth-Moon system based o...   \n",
       "3        A determinant of Stirling cycle numbers counts...   \n",
       "4        From dyadic $\\Lambda_{\\alpha}$ to $\\Lambda_{\\a...   \n",
       "...                                                    ...   \n",
       "1133984  Chaotic diffusion of complex trajectory and it...   \n",
       "1133985               A Decentralized IoT Data Marketplace   \n",
       "1133986  Theory of Single Photon Detection by a Photore...   \n",
       "1133987  CreativeBioMan: Brain and Body Wearable Comput...   \n",
       "1133988  Failure of scattering to solitary waves for lo...   \n",
       "\n",
       "                                        comments  \\\n",
       "0        37 pages, 15 figures; published version   \n",
       "1          To appear in Graphs and Combinatorics   \n",
       "2                            23 pages, 3 figures   \n",
       "3                                       11 pages   \n",
       "4                                           None   \n",
       "...                                          ...   \n",
       "1133984                      10 pages, 7 figures   \n",
       "1133985                       6 pages, 7 figures   \n",
       "1133986                                     None   \n",
       "1133987                                     None   \n",
       "1133988                                 12 pages   \n",
       "\n",
       "                                       journal-ref  \\\n",
       "0                         Phys.Rev.D76:013009,2007   \n",
       "1                                             None   \n",
       "2                                             None   \n",
       "3                                             None   \n",
       "4        Illinois J. Math. 52 (2008) no.2, 681-689   \n",
       "...                                            ...   \n",
       "1133984                                       None   \n",
       "1133985                                       None   \n",
       "1133986                                       None   \n",
       "1133987                                       None   \n",
       "1133988                                       None   \n",
       "\n",
       "                                doi  \\\n",
       "0        10.1103/PhysRevD.76.013009   \n",
       "1                              None   \n",
       "2                              None   \n",
       "3                              None   \n",
       "4                              None   \n",
       "...                             ...   \n",
       "1133984                        None   \n",
       "1133985                        None   \n",
       "1133986                        None   \n",
       "1133987                        None   \n",
       "1133988                        None   \n",
       "\n",
       "                                                  abstract         report-no  \\\n",
       "0          A fully differential calculation in perturba...  ANL-HEP-PR-07-12   \n",
       "1          We describe a new algorithm, the $(k,\\ell)$-...              None   \n",
       "2          The evolution of Earth-Moon system is descri...              None   \n",
       "3          We show that a determinant of Stirling cycle...              None   \n",
       "4          In this paper we show how to compute the $\\L...              None   \n",
       "...                                                    ...               ...   \n",
       "1133984    We investigate both the quantum and classica...              None   \n",
       "1133985    This paper proposes an architecture for dyna...              None   \n",
       "1133986    The long spin coherence times in ambient con...              None   \n",
       "1133987    Current artificial intelligence (AI) technol...              None   \n",
       "1133988    We consider nonlinear Schr\\\"odinger equation...              None   \n",
       "\n",
       "                           categories      versions  \n",
       "0                            [hep-ph]      [v1, v2]  \n",
       "1                     [math.CO cs.CG]      [v1, v2]  \n",
       "2                    [physics.gen-ph]  [v1, v2, v3]  \n",
       "3                           [math.CO]          [v1]  \n",
       "4                   [math.CA math.FA]          [v1]  \n",
       "...                               ...           ...  \n",
       "1133984                    [quant-ph]  [v1, v2, v3]  \n",
       "1133985                       [cs.NI]          [v1]  \n",
       "1133986  [quant-ph cond-mat.mes-hall]          [v1]  \n",
       "1133987                       [cs.HC]          [v1]  \n",
       "1133988                     [math.AP]          [v1]  \n",
       "\n",
       "[1133989 rows x 10 columns]"
      ]
     },
     "execution_count": 14,
     "metadata": {},
     "output_type": "execute_result"
    }
   ],
   "source": [
    "df_raw.drop(columns='authors')"
   ]
  },
  {
   "cell_type": "code",
   "execution_count": 15,
   "metadata": {},
   "outputs": [],
   "source": [
    "df = pd.concat([df_raw.drop(columns='authors').set_index('id'), s_authors], axis=1)"
   ]
  },
  {
   "cell_type": "code",
   "execution_count": 16,
   "metadata": {},
   "outputs": [
    {
     "data": {
      "text/html": [
       "<div>\n",
       "<style scoped>\n",
       "    .dataframe tbody tr th:only-of-type {\n",
       "        vertical-align: middle;\n",
       "    }\n",
       "\n",
       "    .dataframe tbody tr th {\n",
       "        vertical-align: top;\n",
       "    }\n",
       "\n",
       "    .dataframe thead th {\n",
       "        text-align: right;\n",
       "    }\n",
       "</style>\n",
       "<table border=\"1\" class=\"dataframe\">\n",
       "  <thead>\n",
       "    <tr style=\"text-align: right;\">\n",
       "      <th></th>\n",
       "      <th>submitter</th>\n",
       "      <th>title</th>\n",
       "      <th>comments</th>\n",
       "      <th>journal-ref</th>\n",
       "      <th>doi</th>\n",
       "      <th>abstract</th>\n",
       "      <th>report-no</th>\n",
       "      <th>categories</th>\n",
       "      <th>versions</th>\n",
       "      <th>authors</th>\n",
       "    </tr>\n",
       "    <tr>\n",
       "      <th>id</th>\n",
       "      <th></th>\n",
       "      <th></th>\n",
       "      <th></th>\n",
       "      <th></th>\n",
       "      <th></th>\n",
       "      <th></th>\n",
       "      <th></th>\n",
       "      <th></th>\n",
       "      <th></th>\n",
       "      <th></th>\n",
       "    </tr>\n",
       "  </thead>\n",
       "  <tbody>\n",
       "    <tr>\n",
       "      <th>0704.0001</th>\n",
       "      <td>Pavel Nadolsky</td>\n",
       "      <td>Calculation of prompt diphoton production cros...</td>\n",
       "      <td>37 pages, 15 figures; published version</td>\n",
       "      <td>Phys.Rev.D76:013009,2007</td>\n",
       "      <td>10.1103/PhysRevD.76.013009</td>\n",
       "      <td>A fully differential calculation in perturba...</td>\n",
       "      <td>ANL-HEP-PR-07-12</td>\n",
       "      <td>[hep-ph]</td>\n",
       "      <td>[v1, v2]</td>\n",
       "      <td>[[Balázs, C., ], [Berger, E. L., ], [Nadolsky,...</td>\n",
       "    </tr>\n",
       "    <tr>\n",
       "      <th>0704.0002</th>\n",
       "      <td>Louis Theran</td>\n",
       "      <td>Sparsity-certifying Graph Decompositions</td>\n",
       "      <td>To appear in Graphs and Combinatorics</td>\n",
       "      <td>None</td>\n",
       "      <td>None</td>\n",
       "      <td>We describe a new algorithm, the $(k,\\ell)$-...</td>\n",
       "      <td>None</td>\n",
       "      <td>[math.CO cs.CG]</td>\n",
       "      <td>[v1, v2]</td>\n",
       "      <td>[[Streinu, Ileana, ], [Theran, Louis, ]]</td>\n",
       "    </tr>\n",
       "    <tr>\n",
       "      <th>0704.0003</th>\n",
       "      <td>Hongjun Pan</td>\n",
       "      <td>The evolution of the Earth-Moon system based o...</td>\n",
       "      <td>23 pages, 3 figures</td>\n",
       "      <td>None</td>\n",
       "      <td>None</td>\n",
       "      <td>The evolution of Earth-Moon system is descri...</td>\n",
       "      <td>None</td>\n",
       "      <td>[physics.gen-ph]</td>\n",
       "      <td>[v1, v2, v3]</td>\n",
       "      <td>[[Pan, Hongjun, ]]</td>\n",
       "    </tr>\n",
       "  </tbody>\n",
       "</table>\n",
       "</div>"
      ],
      "text/plain": [
       "                submitter                                              title  \\\n",
       "id                                                                             \n",
       "0704.0001  Pavel Nadolsky  Calculation of prompt diphoton production cros...   \n",
       "0704.0002    Louis Theran           Sparsity-certifying Graph Decompositions   \n",
       "0704.0003     Hongjun Pan  The evolution of the Earth-Moon system based o...   \n",
       "\n",
       "                                          comments               journal-ref  \\\n",
       "id                                                                             \n",
       "0704.0001  37 pages, 15 figures; published version  Phys.Rev.D76:013009,2007   \n",
       "0704.0002    To appear in Graphs and Combinatorics                      None   \n",
       "0704.0003                      23 pages, 3 figures                      None   \n",
       "\n",
       "                                  doi  \\\n",
       "id                                      \n",
       "0704.0001  10.1103/PhysRevD.76.013009   \n",
       "0704.0002                        None   \n",
       "0704.0003                        None   \n",
       "\n",
       "                                                    abstract  \\\n",
       "id                                                             \n",
       "0704.0001    A fully differential calculation in perturba...   \n",
       "0704.0002    We describe a new algorithm, the $(k,\\ell)$-...   \n",
       "0704.0003    The evolution of Earth-Moon system is descri...   \n",
       "\n",
       "                  report-no        categories      versions  \\\n",
       "id                                                            \n",
       "0704.0001  ANL-HEP-PR-07-12          [hep-ph]      [v1, v2]   \n",
       "0704.0002              None   [math.CO cs.CG]      [v1, v2]   \n",
       "0704.0003              None  [physics.gen-ph]  [v1, v2, v3]   \n",
       "\n",
       "                                                     authors  \n",
       "id                                                            \n",
       "0704.0001  [[Balázs, C., ], [Berger, E. L., ], [Nadolsky,...  \n",
       "0704.0002           [[Streinu, Ileana, ], [Theran, Louis, ]]  \n",
       "0704.0003                                 [[Pan, Hongjun, ]]  "
      ]
     },
     "execution_count": 16,
     "metadata": {},
     "output_type": "execute_result"
    }
   ],
   "source": [
    "df.head(3)"
   ]
  },
  {
   "cell_type": "markdown",
   "metadata": {},
   "source": [
    "See a sample of what the 'comments' column contains"
   ]
  },
  {
   "cell_type": "code",
   "execution_count": 115,
   "metadata": {},
   "outputs": [
    {
     "name": "stdout",
     "output_type": "stream",
     "text": [
      "0: 37 pages, 15 figures; published version\n",
      "1: To appear in Graphs and Combinatorics\n",
      "2: 23 pages, 3 figures\n",
      "3: 11 pages\n",
      "4: None\n",
      "5: 6 pages, 4 figures, accepted by PRA\n",
      "6: 16 pages, no figures. Typos corrected to match published version\n",
      "7: Minor corrections\n",
      "8: None\n",
      "9: 36 pages, 17 figures\n",
      "10: 14 pages; title changed; to appear in Experimental Mathematics\n",
      "11: None\n",
      "12: None\n",
      "13: 18 pages, 1 figure\n",
      "14: 22 pages; signs and coefficients adjusted for anticommuting\n",
      "  superfields, section 4.3 changed accordingly, reference added\n",
      "15: 17 pages, 3 figures and 1 table\n",
      "16: 10 pages, 11 figures (figures 3, 4, 7 and 8 at reduced resolution,\n",
      "  originals available on request). Accepted for publication in Monthly Notices\n",
      "  of the Royal Astronomical Society\n",
      "17: 20 pages, v2: an overall sign and typos corrected\n",
      "18: 6 pages, Journal-ref added\n",
      "19: 21 pages, 13 postscript figures, submitted to Phys. Rev. D,\n",
      "  contributed to 42nd Rencontres de Moriond: QCD and Hadronic Interactions\n"
     ]
    }
   ],
   "source": [
    "for i, comment in enumerate(df.loc[:, 'comments'].head(20)):\n",
    "    print('{}: {}'.format(i, comment))"
   ]
  },
  {
   "cell_type": "markdown",
   "metadata": {},
   "source": [
    "See a sample of what the 'journal-ref' column contains"
   ]
  },
  {
   "cell_type": "code",
   "execution_count": 116,
   "metadata": {},
   "outputs": [
    {
     "name": "stdout",
     "output_type": "stream",
     "text": [
      "0: Phys.Rev.D76:013009,2007\n",
      "1: None\n",
      "2: None\n",
      "3: None\n",
      "4: Illinois J. Math. 52 (2008) no.2, 681-689\n",
      "5: None\n",
      "6: Phys.Rev.D76:044016,2007\n",
      "7: Journal of Applied Physics, vol 104, 073536 (2008)\n",
      "8: Astrophys.J.663:1149-1173,2007\n",
      "9: None\n",
      "10: None\n",
      "11: None\n",
      "12: None\n",
      "13: None\n",
      "14: JHEP 0705:034,2007\n",
      "15: Commun.Theor.Phys.49:993-1000,2008\n",
      "16: Mon.Not.Roy.Astron.Soc.378:211-220,2007\n",
      "17: None\n",
      "18: RIMS Kokyuroku, No.1551, pp.57-62 (2007)\n",
      "19: Phys.Rev.D76:052005,2007\n"
     ]
    }
   ],
   "source": [
    "for i, data in enumerate(df.loc[:, 'journal-ref'].head(20)):\n",
    "    print('{}: {}'.format(i, data))"
   ]
  },
  {
   "cell_type": "markdown",
   "metadata": {},
   "source": [
    "### Explore ambiguous columns"
   ]
  },
  {
   "cell_type": "markdown",
   "metadata": {},
   "source": [
    "#### journal-ref"
   ]
  },
  {
   "cell_type": "markdown",
   "metadata": {},
   "source": [
    "Explore number of null vs non-null values"
   ]
  },
  {
   "cell_type": "code",
   "execution_count": 19,
   "metadata": {},
   "outputs": [
    {
     "data": {
      "text/plain": [
       "721031"
      ]
     },
     "execution_count": 19,
     "metadata": {},
     "output_type": "execute_result"
    }
   ],
   "source": [
    "# Null values\n",
    "df.loc[:, 'journal-ref'].isna().sum()"
   ]
  },
  {
   "cell_type": "code",
   "execution_count": 20,
   "metadata": {},
   "outputs": [
    {
     "data": {
      "text/plain": [
       "412958"
      ]
     },
     "execution_count": 20,
     "metadata": {},
     "output_type": "execute_result"
    }
   ],
   "source": [
    "# Non-null values\n",
    "(~df.loc[:, 'journal-ref'].isna()).sum()"
   ]
  },
  {
   "cell_type": "code",
   "execution_count": 21,
   "metadata": {},
   "outputs": [
    {
     "data": {
      "text/plain": [
       "Dans Design, Automation and Test in Europe - DATE'05, Munich :\\n  Allemagne (2005)                                                        128\n",
       "Dans Symposium on Design, Test, Integration and Packaging of\\n  MEMS/MOEMS - DTIP 2008, Nice : France (2008)                               77\n",
       "Dans Symposium on Design, Test, Integration and Packaging of\\n  MEMS/MOEMS - DTIP 2007, Stresa, lago Maggiore : Italie (2007)              66\n",
       "Prog Theor Exp Phys (2018)                                                                                                                 57\n",
       "Prog Theor Exp Phys (2017)                                                                                                                 53\n",
       "Prog Theor Exp Phys (2019)                                                                                                                 52\n",
       "Dans Symposium on Design, Test, Integration and Packaging of\\n  MEMS/MOEMS - DTIP 2006, Stresa, Lago Maggiore : Italie (2006)              49\n",
       "Dans Design, Automation and Test in Europe | Designers'Forum -\\n  DATE'05, Munich : Allemagne (2005)                                       41\n",
       "Dans Proceedings of the 25th Annual Symposium on the Theoretical\\n  Aspects of Computer Science - STACS 2008, Bordeaux : France (2008)     39\n",
       "Dans Proceedings of 12th International Workshop on Thermal\\n  investigations of ICs - THERMINIC 2006, Nice : France (2006)                 37\n",
       "Name: journal-ref, dtype: int64"
      ]
     },
     "execution_count": 21,
     "metadata": {},
     "output_type": "execute_result"
    }
   ],
   "source": [
    "df.loc[:, 'journal-ref'].value_counts().head(10)"
   ]
  },
  {
   "cell_type": "markdown",
   "metadata": {},
   "source": [
    "Do the same fo report-no"
   ]
  },
  {
   "cell_type": "markdown",
   "metadata": {},
   "source": [
    "#### report-no"
   ]
  },
  {
   "cell_type": "markdown",
   "metadata": {},
   "source": [
    "Explore number of null vs non-null values"
   ]
  },
  {
   "cell_type": "code",
   "execution_count": 22,
   "metadata": {},
   "outputs": [
    {
     "data": {
      "text/plain": [
       "1067617"
      ]
     },
     "execution_count": 22,
     "metadata": {},
     "output_type": "execute_result"
    }
   ],
   "source": [
    "# Null values\n",
    "df.loc[:, 'report-no'].isna().sum()"
   ]
  },
  {
   "cell_type": "code",
   "execution_count": 23,
   "metadata": {},
   "outputs": [
    {
     "data": {
      "text/plain": [
       "66372"
      ]
     },
     "execution_count": 23,
     "metadata": {},
     "output_type": "execute_result"
    }
   ],
   "source": [
    "# Non-null values\n",
    "(~df.loc[:, 'report-no'].isna()).sum()"
   ]
  },
  {
   "cell_type": "code",
   "execution_count": 24,
   "metadata": {},
   "outputs": [
    {
     "data": {
      "text/plain": [
       "CPH-SYM-DNRF92                              317\n",
       "CPH-SYM-00                                  138\n",
       "Roma01.Math                                 134\n",
       "ISSN 1947 5500                              131\n",
       "Mittag-Leffler-2011spring                    58\n",
       "                                           ... \n",
       "LHCb-PAPER-2012-024; CERN-PH-EP-2012-263      1\n",
       "CERN-LHCC-2018-027 LHCB-PUB-2018-009          1\n",
       "IMS-AOAS-AOAS466                              1\n",
       "DESY 15-124                                   1\n",
       "Argonne report ANL-HEP-CP-09-92               1\n",
       "Name: report-no, Length: 64476, dtype: int64"
      ]
     },
     "execution_count": 24,
     "metadata": {},
     "output_type": "execute_result"
    }
   ],
   "source": [
    "df.loc[:, 'report-no'].value_counts()"
   ]
  },
  {
   "cell_type": "markdown",
   "metadata": {},
   "source": [
    "#### comments"
   ]
  },
  {
   "cell_type": "code",
   "execution_count": 25,
   "metadata": {},
   "outputs": [
    {
     "data": {
      "text/plain": [
       "262263"
      ]
     },
     "execution_count": 25,
     "metadata": {},
     "output_type": "execute_result"
    }
   ],
   "source": [
    "# Null values\n",
    "df.loc[:, 'comments'].isna().sum()"
   ]
  },
  {
   "cell_type": "code",
   "execution_count": 26,
   "metadata": {},
   "outputs": [
    {
     "data": {
      "text/plain": [
       "871726"
      ]
     },
     "execution_count": 26,
     "metadata": {},
     "output_type": "execute_result"
    }
   ],
   "source": [
    "# Non-null values\n",
    "(~df.loc[:, 'comments'].isna()).sum()"
   ]
  },
  {
   "cell_type": "markdown",
   "metadata": {},
   "source": [
    "Conclusion: journal-ref and commentts are potentially useful, but an overwhelming number of report-no values are null and can thus be excluded"
   ]
  },
  {
   "cell_type": "markdown",
   "metadata": {},
   "source": [
    "#### Extract the useful columns only"
   ]
  },
  {
   "cell_type": "code",
   "execution_count": 27,
   "metadata": {},
   "outputs": [
    {
     "data": {
      "text/plain": [
       "Index(['submitter', 'title', 'comments', 'journal-ref', 'doi', 'abstract',\n",
       "       'report-no', 'categories', 'versions', 'authors'],\n",
       "      dtype='object')"
      ]
     },
     "execution_count": 27,
     "metadata": {},
     "output_type": "execute_result"
    }
   ],
   "source": [
    "df.columns"
   ]
  },
  {
   "cell_type": "code",
   "execution_count": 28,
   "metadata": {},
   "outputs": [],
   "source": [
    "columns = ['title', 'authors', 'submitter', 'abstract', 'categories', 'journal-ref', 'comments']"
   ]
  },
  {
   "cell_type": "code",
   "execution_count": 29,
   "metadata": {},
   "outputs": [],
   "source": [
    "papers = df.loc[:, columns]"
   ]
  },
  {
   "cell_type": "code",
   "execution_count": 30,
   "metadata": {},
   "outputs": [
    {
     "data": {
      "text/html": [
       "<div>\n",
       "<style scoped>\n",
       "    .dataframe tbody tr th:only-of-type {\n",
       "        vertical-align: middle;\n",
       "    }\n",
       "\n",
       "    .dataframe tbody tr th {\n",
       "        vertical-align: top;\n",
       "    }\n",
       "\n",
       "    .dataframe thead th {\n",
       "        text-align: right;\n",
       "    }\n",
       "</style>\n",
       "<table border=\"1\" class=\"dataframe\">\n",
       "  <thead>\n",
       "    <tr style=\"text-align: right;\">\n",
       "      <th></th>\n",
       "      <th>title</th>\n",
       "      <th>authors</th>\n",
       "      <th>submitter</th>\n",
       "      <th>abstract</th>\n",
       "      <th>categories</th>\n",
       "      <th>journal-ref</th>\n",
       "      <th>comments</th>\n",
       "    </tr>\n",
       "    <tr>\n",
       "      <th>id</th>\n",
       "      <th></th>\n",
       "      <th></th>\n",
       "      <th></th>\n",
       "      <th></th>\n",
       "      <th></th>\n",
       "      <th></th>\n",
       "      <th></th>\n",
       "    </tr>\n",
       "  </thead>\n",
       "  <tbody>\n",
       "    <tr>\n",
       "      <th>0704.0001</th>\n",
       "      <td>Calculation of prompt diphoton production cros...</td>\n",
       "      <td>[[Balázs, C., ], [Berger, E. L., ], [Nadolsky,...</td>\n",
       "      <td>Pavel Nadolsky</td>\n",
       "      <td>A fully differential calculation in perturba...</td>\n",
       "      <td>[hep-ph]</td>\n",
       "      <td>Phys.Rev.D76:013009,2007</td>\n",
       "      <td>37 pages, 15 figures; published version</td>\n",
       "    </tr>\n",
       "    <tr>\n",
       "      <th>0704.0002</th>\n",
       "      <td>Sparsity-certifying Graph Decompositions</td>\n",
       "      <td>[[Streinu, Ileana, ], [Theran, Louis, ]]</td>\n",
       "      <td>Louis Theran</td>\n",
       "      <td>We describe a new algorithm, the $(k,\\ell)$-...</td>\n",
       "      <td>[math.CO cs.CG]</td>\n",
       "      <td>None</td>\n",
       "      <td>To appear in Graphs and Combinatorics</td>\n",
       "    </tr>\n",
       "    <tr>\n",
       "      <th>0704.0003</th>\n",
       "      <td>The evolution of the Earth-Moon system based o...</td>\n",
       "      <td>[[Pan, Hongjun, ]]</td>\n",
       "      <td>Hongjun Pan</td>\n",
       "      <td>The evolution of Earth-Moon system is descri...</td>\n",
       "      <td>[physics.gen-ph]</td>\n",
       "      <td>None</td>\n",
       "      <td>23 pages, 3 figures</td>\n",
       "    </tr>\n",
       "    <tr>\n",
       "      <th>0704.0004</th>\n",
       "      <td>A determinant of Stirling cycle numbers counts...</td>\n",
       "      <td>[[Callan, David, ]]</td>\n",
       "      <td>David Callan</td>\n",
       "      <td>We show that a determinant of Stirling cycle...</td>\n",
       "      <td>[math.CO]</td>\n",
       "      <td>None</td>\n",
       "      <td>11 pages</td>\n",
       "    </tr>\n",
       "    <tr>\n",
       "      <th>0704.0005</th>\n",
       "      <td>From dyadic $\\Lambda_{\\alpha}$ to $\\Lambda_{\\a...</td>\n",
       "      <td>[[Abu-Shammala, Wael, ], [Torchinsky, Alberto, ]]</td>\n",
       "      <td>Alberto Torchinsky</td>\n",
       "      <td>In this paper we show how to compute the $\\L...</td>\n",
       "      <td>[math.CA math.FA]</td>\n",
       "      <td>Illinois J. Math. 52 (2008) no.2, 681-689</td>\n",
       "      <td>None</td>\n",
       "    </tr>\n",
       "  </tbody>\n",
       "</table>\n",
       "</div>"
      ],
      "text/plain": [
       "                                                       title  \\\n",
       "id                                                             \n",
       "0704.0001  Calculation of prompt diphoton production cros...   \n",
       "0704.0002           Sparsity-certifying Graph Decompositions   \n",
       "0704.0003  The evolution of the Earth-Moon system based o...   \n",
       "0704.0004  A determinant of Stirling cycle numbers counts...   \n",
       "0704.0005  From dyadic $\\Lambda_{\\alpha}$ to $\\Lambda_{\\a...   \n",
       "\n",
       "                                                     authors  \\\n",
       "id                                                             \n",
       "0704.0001  [[Balázs, C., ], [Berger, E. L., ], [Nadolsky,...   \n",
       "0704.0002           [[Streinu, Ileana, ], [Theran, Louis, ]]   \n",
       "0704.0003                                 [[Pan, Hongjun, ]]   \n",
       "0704.0004                                [[Callan, David, ]]   \n",
       "0704.0005  [[Abu-Shammala, Wael, ], [Torchinsky, Alberto, ]]   \n",
       "\n",
       "                    submitter  \\\n",
       "id                              \n",
       "0704.0001      Pavel Nadolsky   \n",
       "0704.0002        Louis Theran   \n",
       "0704.0003         Hongjun Pan   \n",
       "0704.0004        David Callan   \n",
       "0704.0005  Alberto Torchinsky   \n",
       "\n",
       "                                                    abstract  \\\n",
       "id                                                             \n",
       "0704.0001    A fully differential calculation in perturba...   \n",
       "0704.0002    We describe a new algorithm, the $(k,\\ell)$-...   \n",
       "0704.0003    The evolution of Earth-Moon system is descri...   \n",
       "0704.0004    We show that a determinant of Stirling cycle...   \n",
       "0704.0005    In this paper we show how to compute the $\\L...   \n",
       "\n",
       "                  categories                                journal-ref  \\\n",
       "id                                                                        \n",
       "0704.0001           [hep-ph]                   Phys.Rev.D76:013009,2007   \n",
       "0704.0002    [math.CO cs.CG]                                       None   \n",
       "0704.0003   [physics.gen-ph]                                       None   \n",
       "0704.0004          [math.CO]                                       None   \n",
       "0704.0005  [math.CA math.FA]  Illinois J. Math. 52 (2008) no.2, 681-689   \n",
       "\n",
       "                                          comments  \n",
       "id                                                  \n",
       "0704.0001  37 pages, 15 figures; published version  \n",
       "0704.0002    To appear in Graphs and Combinatorics  \n",
       "0704.0003                      23 pages, 3 figures  \n",
       "0704.0004                                 11 pages  \n",
       "0704.0005                                     None  "
      ]
     },
     "execution_count": 30,
     "metadata": {},
     "output_type": "execute_result"
    }
   ],
   "source": [
    "papers.head()"
   ]
  },
  {
   "cell_type": "markdown",
   "metadata": {},
   "source": [
    "## Manipulate categories to make the information more useful"
   ]
  },
  {
   "cell_type": "code",
   "execution_count": 31,
   "metadata": {},
   "outputs": [
    {
     "data": {
      "text/plain": [
       "['math.CO cs.CG']"
      ]
     },
     "execution_count": 31,
     "metadata": {},
     "output_type": "execute_result"
    }
   ],
   "source": [
    "papers.iloc[1]['categories']"
   ]
  },
  {
   "cell_type": "code",
   "execution_count": 32,
   "metadata": {},
   "outputs": [],
   "source": [
    "import typing"
   ]
  },
  {
   "cell_type": "markdown",
   "metadata": {},
   "source": [
    "Define a function to process the categories columns and convert them from a list of a single string to a list/set of distinct strings"
   ]
  },
  {
   "cell_type": "code",
   "execution_count": 33,
   "metadata": {},
   "outputs": [],
   "source": [
    "def process_categories(cat: typing.List[str]) -> typing.List[str]:\n",
    "    s = cat[0]\n",
    "    cat_list = s.split()\n",
    "    return set(sorted(cat_list))"
   ]
  },
  {
   "cell_type": "code",
   "execution_count": 34,
   "metadata": {},
   "outputs": [],
   "source": [
    "all_categories = set()\n",
    "for c in papers.loc[:, 'categories']:\n",
    "    all_categories |= process_categories(c)"
   ]
  },
  {
   "cell_type": "code",
   "execution_count": 35,
   "metadata": {},
   "outputs": [
    {
     "data": {
      "text/plain": [
       "{'astro-ph',\n",
       " 'astro-ph.CO',\n",
       " 'astro-ph.EP',\n",
       " 'astro-ph.GA',\n",
       " 'astro-ph.HE',\n",
       " 'astro-ph.IM',\n",
       " 'astro-ph.SR',\n",
       " 'cond-mat.dis-nn',\n",
       " 'cond-mat.mes-hall',\n",
       " 'cond-mat.mtrl-sci',\n",
       " 'cond-mat.other',\n",
       " 'cond-mat.quant-gas',\n",
       " 'cond-mat.soft',\n",
       " 'cond-mat.stat-mech',\n",
       " 'cond-mat.str-el',\n",
       " 'cond-mat.supr-con',\n",
       " 'cs.AI',\n",
       " 'cs.AR',\n",
       " 'cs.CC',\n",
       " 'cs.CE',\n",
       " 'cs.CG',\n",
       " 'cs.CL',\n",
       " 'cs.CR',\n",
       " 'cs.CV',\n",
       " 'cs.CY',\n",
       " 'cs.DB',\n",
       " 'cs.DC',\n",
       " 'cs.DL',\n",
       " 'cs.DM',\n",
       " 'cs.DS',\n",
       " 'cs.ET',\n",
       " 'cs.FL',\n",
       " 'cs.GL',\n",
       " 'cs.GR',\n",
       " 'cs.GT',\n",
       " 'cs.HC',\n",
       " 'cs.IR',\n",
       " 'cs.IT',\n",
       " 'cs.LG',\n",
       " 'cs.LO',\n",
       " 'cs.MA',\n",
       " 'cs.MM',\n",
       " 'cs.MS',\n",
       " 'cs.NA',\n",
       " 'cs.NE',\n",
       " 'cs.NI',\n",
       " 'cs.OH',\n",
       " 'cs.OS',\n",
       " 'cs.PF',\n",
       " 'cs.PL',\n",
       " 'cs.RO',\n",
       " 'cs.SC',\n",
       " 'cs.SD',\n",
       " 'cs.SE',\n",
       " 'cs.SI',\n",
       " 'cs.SY',\n",
       " 'econ.EM',\n",
       " 'econ.GN',\n",
       " 'econ.TH',\n",
       " 'eess.AS',\n",
       " 'eess.IV',\n",
       " 'eess.SP',\n",
       " 'eess.SY',\n",
       " 'gr-qc',\n",
       " 'hep-ex',\n",
       " 'hep-lat',\n",
       " 'hep-ph',\n",
       " 'hep-th',\n",
       " 'math-ph',\n",
       " 'math.AC',\n",
       " 'math.AG',\n",
       " 'math.AP',\n",
       " 'math.AT',\n",
       " 'math.CA',\n",
       " 'math.CO',\n",
       " 'math.CT',\n",
       " 'math.CV',\n",
       " 'math.DG',\n",
       " 'math.DS',\n",
       " 'math.FA',\n",
       " 'math.GM',\n",
       " 'math.GN',\n",
       " 'math.GR',\n",
       " 'math.GT',\n",
       " 'math.HO',\n",
       " 'math.IT',\n",
       " 'math.KT',\n",
       " 'math.LO',\n",
       " 'math.MG',\n",
       " 'math.MP',\n",
       " 'math.NA',\n",
       " 'math.NT',\n",
       " 'math.OA',\n",
       " 'math.OC',\n",
       " 'math.PR',\n",
       " 'math.QA',\n",
       " 'math.RA',\n",
       " 'math.RT',\n",
       " 'math.SG',\n",
       " 'math.SP',\n",
       " 'math.ST',\n",
       " 'nlin.AO',\n",
       " 'nlin.CD',\n",
       " 'nlin.CG',\n",
       " 'nlin.PS',\n",
       " 'nlin.SI',\n",
       " 'nucl-ex',\n",
       " 'nucl-th',\n",
       " 'physics.acc-ph',\n",
       " 'physics.ao-ph',\n",
       " 'physics.app-ph',\n",
       " 'physics.atm-clus',\n",
       " 'physics.atom-ph',\n",
       " 'physics.bio-ph',\n",
       " 'physics.chem-ph',\n",
       " 'physics.class-ph',\n",
       " 'physics.comp-ph',\n",
       " 'physics.data-an',\n",
       " 'physics.ed-ph',\n",
       " 'physics.flu-dyn',\n",
       " 'physics.gen-ph',\n",
       " 'physics.geo-ph',\n",
       " 'physics.hist-ph',\n",
       " 'physics.ins-det',\n",
       " 'physics.med-ph',\n",
       " 'physics.optics',\n",
       " 'physics.plasm-ph',\n",
       " 'physics.pop-ph',\n",
       " 'physics.soc-ph',\n",
       " 'physics.space-ph',\n",
       " 'q-bio.BM',\n",
       " 'q-bio.CB',\n",
       " 'q-bio.GN',\n",
       " 'q-bio.MN',\n",
       " 'q-bio.NC',\n",
       " 'q-bio.OT',\n",
       " 'q-bio.PE',\n",
       " 'q-bio.QM',\n",
       " 'q-bio.SC',\n",
       " 'q-bio.TO',\n",
       " 'q-fin.CP',\n",
       " 'q-fin.EC',\n",
       " 'q-fin.GN',\n",
       " 'q-fin.MF',\n",
       " 'q-fin.PM',\n",
       " 'q-fin.PR',\n",
       " 'q-fin.RM',\n",
       " 'q-fin.ST',\n",
       " 'q-fin.TR',\n",
       " 'quant-ph',\n",
       " 'stat.AP',\n",
       " 'stat.CO',\n",
       " 'stat.ME',\n",
       " 'stat.ML',\n",
       " 'stat.OT',\n",
       " 'stat.TH'}"
      ]
     },
     "execution_count": 35,
     "metadata": {},
     "output_type": "execute_result"
    }
   ],
   "source": [
    "all_categories"
   ]
  },
  {
   "cell_type": "markdown",
   "metadata": {},
   "source": [
    "### processed_categories"
   ]
  },
  {
   "cell_type": "markdown",
   "metadata": {},
   "source": [
    "Create a column 'processed_categories' with the categories now listed as separate strings"
   ]
  },
  {
   "cell_type": "code",
   "execution_count": 36,
   "metadata": {},
   "outputs": [],
   "source": [
    "papers['processed_categories'] = papers['categories'].apply(process_categories)"
   ]
  },
  {
   "cell_type": "code",
   "execution_count": 37,
   "metadata": {},
   "outputs": [
    {
     "data": {
      "text/html": [
       "<div>\n",
       "<style scoped>\n",
       "    .dataframe tbody tr th:only-of-type {\n",
       "        vertical-align: middle;\n",
       "    }\n",
       "\n",
       "    .dataframe tbody tr th {\n",
       "        vertical-align: top;\n",
       "    }\n",
       "\n",
       "    .dataframe thead th {\n",
       "        text-align: right;\n",
       "    }\n",
       "</style>\n",
       "<table border=\"1\" class=\"dataframe\">\n",
       "  <thead>\n",
       "    <tr style=\"text-align: right;\">\n",
       "      <th></th>\n",
       "      <th>title</th>\n",
       "      <th>authors</th>\n",
       "      <th>submitter</th>\n",
       "      <th>abstract</th>\n",
       "      <th>categories</th>\n",
       "      <th>journal-ref</th>\n",
       "      <th>comments</th>\n",
       "      <th>processed_categories</th>\n",
       "    </tr>\n",
       "    <tr>\n",
       "      <th>id</th>\n",
       "      <th></th>\n",
       "      <th></th>\n",
       "      <th></th>\n",
       "      <th></th>\n",
       "      <th></th>\n",
       "      <th></th>\n",
       "      <th></th>\n",
       "      <th></th>\n",
       "    </tr>\n",
       "  </thead>\n",
       "  <tbody>\n",
       "    <tr>\n",
       "      <th>0704.0001</th>\n",
       "      <td>Calculation of prompt diphoton production cros...</td>\n",
       "      <td>[[Balázs, C., ], [Berger, E. L., ], [Nadolsky,...</td>\n",
       "      <td>Pavel Nadolsky</td>\n",
       "      <td>A fully differential calculation in perturba...</td>\n",
       "      <td>[hep-ph]</td>\n",
       "      <td>Phys.Rev.D76:013009,2007</td>\n",
       "      <td>37 pages, 15 figures; published version</td>\n",
       "      <td>{hep-ph}</td>\n",
       "    </tr>\n",
       "    <tr>\n",
       "      <th>0704.0002</th>\n",
       "      <td>Sparsity-certifying Graph Decompositions</td>\n",
       "      <td>[[Streinu, Ileana, ], [Theran, Louis, ]]</td>\n",
       "      <td>Louis Theran</td>\n",
       "      <td>We describe a new algorithm, the $(k,\\ell)$-...</td>\n",
       "      <td>[math.CO cs.CG]</td>\n",
       "      <td>None</td>\n",
       "      <td>To appear in Graphs and Combinatorics</td>\n",
       "      <td>{cs.CG, math.CO}</td>\n",
       "    </tr>\n",
       "    <tr>\n",
       "      <th>0704.0003</th>\n",
       "      <td>The evolution of the Earth-Moon system based o...</td>\n",
       "      <td>[[Pan, Hongjun, ]]</td>\n",
       "      <td>Hongjun Pan</td>\n",
       "      <td>The evolution of Earth-Moon system is descri...</td>\n",
       "      <td>[physics.gen-ph]</td>\n",
       "      <td>None</td>\n",
       "      <td>23 pages, 3 figures</td>\n",
       "      <td>{physics.gen-ph}</td>\n",
       "    </tr>\n",
       "    <tr>\n",
       "      <th>0704.0004</th>\n",
       "      <td>A determinant of Stirling cycle numbers counts...</td>\n",
       "      <td>[[Callan, David, ]]</td>\n",
       "      <td>David Callan</td>\n",
       "      <td>We show that a determinant of Stirling cycle...</td>\n",
       "      <td>[math.CO]</td>\n",
       "      <td>None</td>\n",
       "      <td>11 pages</td>\n",
       "      <td>{math.CO}</td>\n",
       "    </tr>\n",
       "    <tr>\n",
       "      <th>0704.0005</th>\n",
       "      <td>From dyadic $\\Lambda_{\\alpha}$ to $\\Lambda_{\\a...</td>\n",
       "      <td>[[Abu-Shammala, Wael, ], [Torchinsky, Alberto, ]]</td>\n",
       "      <td>Alberto Torchinsky</td>\n",
       "      <td>In this paper we show how to compute the $\\L...</td>\n",
       "      <td>[math.CA math.FA]</td>\n",
       "      <td>Illinois J. Math. 52 (2008) no.2, 681-689</td>\n",
       "      <td>None</td>\n",
       "      <td>{math.FA, math.CA}</td>\n",
       "    </tr>\n",
       "  </tbody>\n",
       "</table>\n",
       "</div>"
      ],
      "text/plain": [
       "                                                       title  \\\n",
       "id                                                             \n",
       "0704.0001  Calculation of prompt diphoton production cros...   \n",
       "0704.0002           Sparsity-certifying Graph Decompositions   \n",
       "0704.0003  The evolution of the Earth-Moon system based o...   \n",
       "0704.0004  A determinant of Stirling cycle numbers counts...   \n",
       "0704.0005  From dyadic $\\Lambda_{\\alpha}$ to $\\Lambda_{\\a...   \n",
       "\n",
       "                                                     authors  \\\n",
       "id                                                             \n",
       "0704.0001  [[Balázs, C., ], [Berger, E. L., ], [Nadolsky,...   \n",
       "0704.0002           [[Streinu, Ileana, ], [Theran, Louis, ]]   \n",
       "0704.0003                                 [[Pan, Hongjun, ]]   \n",
       "0704.0004                                [[Callan, David, ]]   \n",
       "0704.0005  [[Abu-Shammala, Wael, ], [Torchinsky, Alberto, ]]   \n",
       "\n",
       "                    submitter  \\\n",
       "id                              \n",
       "0704.0001      Pavel Nadolsky   \n",
       "0704.0002        Louis Theran   \n",
       "0704.0003         Hongjun Pan   \n",
       "0704.0004        David Callan   \n",
       "0704.0005  Alberto Torchinsky   \n",
       "\n",
       "                                                    abstract  \\\n",
       "id                                                             \n",
       "0704.0001    A fully differential calculation in perturba...   \n",
       "0704.0002    We describe a new algorithm, the $(k,\\ell)$-...   \n",
       "0704.0003    The evolution of Earth-Moon system is descri...   \n",
       "0704.0004    We show that a determinant of Stirling cycle...   \n",
       "0704.0005    In this paper we show how to compute the $\\L...   \n",
       "\n",
       "                  categories                                journal-ref  \\\n",
       "id                                                                        \n",
       "0704.0001           [hep-ph]                   Phys.Rev.D76:013009,2007   \n",
       "0704.0002    [math.CO cs.CG]                                       None   \n",
       "0704.0003   [physics.gen-ph]                                       None   \n",
       "0704.0004          [math.CO]                                       None   \n",
       "0704.0005  [math.CA math.FA]  Illinois J. Math. 52 (2008) no.2, 681-689   \n",
       "\n",
       "                                          comments processed_categories  \n",
       "id                                                                       \n",
       "0704.0001  37 pages, 15 figures; published version             {hep-ph}  \n",
       "0704.0002    To appear in Graphs and Combinatorics     {cs.CG, math.CO}  \n",
       "0704.0003                      23 pages, 3 figures     {physics.gen-ph}  \n",
       "0704.0004                                 11 pages            {math.CO}  \n",
       "0704.0005                                     None   {math.FA, math.CA}  "
      ]
     },
     "execution_count": 37,
     "metadata": {},
     "output_type": "execute_result"
    }
   ],
   "source": [
    "papers.head()"
   ]
  },
  {
   "cell_type": "code",
   "execution_count": 38,
   "metadata": {},
   "outputs": [],
   "source": [
    "num_of_categories = papers.loc[:, 'processed_categories'].apply(len)"
   ]
  },
  {
   "cell_type": "code",
   "execution_count": 39,
   "metadata": {},
   "outputs": [
    {
     "data": {
      "text/plain": [
       "498186"
      ]
     },
     "execution_count": 39,
     "metadata": {},
     "output_type": "execute_result"
    }
   ],
   "source": [
    "(num_of_categories > 1).sum()"
   ]
  },
  {
   "cell_type": "markdown",
   "metadata": {},
   "source": [
    "To make the categories more useful, generalize them into their prefixes (i.e. math, physics, cs, etc.)"
   ]
  },
  {
   "cell_type": "code",
   "execution_count": 40,
   "metadata": {},
   "outputs": [],
   "source": [
    "def generalize_categories(cat: typing.Set[str]) -> typing.Union[typing.List[str], str]:\n",
    "    gen_cats = []\n",
    "    for c in cat:\n",
    "        ss = c.split('.')\n",
    "        prefix = ss[0]\n",
    "        gen_cats.append(prefix)\n",
    "    \n",
    "    if len(set(gen_cats)) == 1:\n",
    "        categories = gen_cats[0]\n",
    "    else:\n",
    "        categories = ', '.join(sorted(set(gen_cats)))\n",
    "    \n",
    "    return categories"
   ]
  },
  {
   "cell_type": "code",
   "execution_count": 41,
   "metadata": {},
   "outputs": [],
   "source": [
    "papers['general_categories'] = papers.loc[:, 'processed_categories'].apply(generalize_categories)"
   ]
  },
  {
   "cell_type": "code",
   "execution_count": 42,
   "metadata": {},
   "outputs": [
    {
     "data": {
      "text/html": [
       "<div>\n",
       "<style scoped>\n",
       "    .dataframe tbody tr th:only-of-type {\n",
       "        vertical-align: middle;\n",
       "    }\n",
       "\n",
       "    .dataframe tbody tr th {\n",
       "        vertical-align: top;\n",
       "    }\n",
       "\n",
       "    .dataframe thead th {\n",
       "        text-align: right;\n",
       "    }\n",
       "</style>\n",
       "<table border=\"1\" class=\"dataframe\">\n",
       "  <thead>\n",
       "    <tr style=\"text-align: right;\">\n",
       "      <th></th>\n",
       "      <th>title</th>\n",
       "      <th>authors</th>\n",
       "      <th>submitter</th>\n",
       "      <th>abstract</th>\n",
       "      <th>categories</th>\n",
       "      <th>journal-ref</th>\n",
       "      <th>comments</th>\n",
       "      <th>processed_categories</th>\n",
       "      <th>general_categories</th>\n",
       "    </tr>\n",
       "    <tr>\n",
       "      <th>id</th>\n",
       "      <th></th>\n",
       "      <th></th>\n",
       "      <th></th>\n",
       "      <th></th>\n",
       "      <th></th>\n",
       "      <th></th>\n",
       "      <th></th>\n",
       "      <th></th>\n",
       "      <th></th>\n",
       "    </tr>\n",
       "  </thead>\n",
       "  <tbody>\n",
       "    <tr>\n",
       "      <th>0704.0001</th>\n",
       "      <td>Calculation of prompt diphoton production cros...</td>\n",
       "      <td>[[Balázs, C., ], [Berger, E. L., ], [Nadolsky,...</td>\n",
       "      <td>Pavel Nadolsky</td>\n",
       "      <td>A fully differential calculation in perturba...</td>\n",
       "      <td>[hep-ph]</td>\n",
       "      <td>Phys.Rev.D76:013009,2007</td>\n",
       "      <td>37 pages, 15 figures; published version</td>\n",
       "      <td>{hep-ph}</td>\n",
       "      <td>hep-ph</td>\n",
       "    </tr>\n",
       "    <tr>\n",
       "      <th>0704.0002</th>\n",
       "      <td>Sparsity-certifying Graph Decompositions</td>\n",
       "      <td>[[Streinu, Ileana, ], [Theran, Louis, ]]</td>\n",
       "      <td>Louis Theran</td>\n",
       "      <td>We describe a new algorithm, the $(k,\\ell)$-...</td>\n",
       "      <td>[math.CO cs.CG]</td>\n",
       "      <td>None</td>\n",
       "      <td>To appear in Graphs and Combinatorics</td>\n",
       "      <td>{cs.CG, math.CO}</td>\n",
       "      <td>cs, math</td>\n",
       "    </tr>\n",
       "    <tr>\n",
       "      <th>0704.0003</th>\n",
       "      <td>The evolution of the Earth-Moon system based o...</td>\n",
       "      <td>[[Pan, Hongjun, ]]</td>\n",
       "      <td>Hongjun Pan</td>\n",
       "      <td>The evolution of Earth-Moon system is descri...</td>\n",
       "      <td>[physics.gen-ph]</td>\n",
       "      <td>None</td>\n",
       "      <td>23 pages, 3 figures</td>\n",
       "      <td>{physics.gen-ph}</td>\n",
       "      <td>physics</td>\n",
       "    </tr>\n",
       "  </tbody>\n",
       "</table>\n",
       "</div>"
      ],
      "text/plain": [
       "                                                       title  \\\n",
       "id                                                             \n",
       "0704.0001  Calculation of prompt diphoton production cros...   \n",
       "0704.0002           Sparsity-certifying Graph Decompositions   \n",
       "0704.0003  The evolution of the Earth-Moon system based o...   \n",
       "\n",
       "                                                     authors       submitter  \\\n",
       "id                                                                             \n",
       "0704.0001  [[Balázs, C., ], [Berger, E. L., ], [Nadolsky,...  Pavel Nadolsky   \n",
       "0704.0002           [[Streinu, Ileana, ], [Theran, Louis, ]]    Louis Theran   \n",
       "0704.0003                                 [[Pan, Hongjun, ]]     Hongjun Pan   \n",
       "\n",
       "                                                    abstract  \\\n",
       "id                                                             \n",
       "0704.0001    A fully differential calculation in perturba...   \n",
       "0704.0002    We describe a new algorithm, the $(k,\\ell)$-...   \n",
       "0704.0003    The evolution of Earth-Moon system is descri...   \n",
       "\n",
       "                 categories               journal-ref  \\\n",
       "id                                                      \n",
       "0704.0001          [hep-ph]  Phys.Rev.D76:013009,2007   \n",
       "0704.0002   [math.CO cs.CG]                      None   \n",
       "0704.0003  [physics.gen-ph]                      None   \n",
       "\n",
       "                                          comments processed_categories  \\\n",
       "id                                                                        \n",
       "0704.0001  37 pages, 15 figures; published version             {hep-ph}   \n",
       "0704.0002    To appear in Graphs and Combinatorics     {cs.CG, math.CO}   \n",
       "0704.0003                      23 pages, 3 figures     {physics.gen-ph}   \n",
       "\n",
       "          general_categories  \n",
       "id                            \n",
       "0704.0001             hep-ph  \n",
       "0704.0002           cs, math  \n",
       "0704.0003            physics  "
      ]
     },
     "execution_count": 42,
     "metadata": {},
     "output_type": "execute_result"
    }
   ],
   "source": [
    "papers.head(3)"
   ]
  },
  {
   "cell_type": "markdown",
   "metadata": {},
   "source": [
    "Check how many papers have more than one category"
   ]
  },
  {
   "cell_type": "code",
   "execution_count": 43,
   "metadata": {},
   "outputs": [
    {
     "data": {
      "text/plain": [
       "math                                   232992\n",
       "astro-ph                               131434\n",
       "cond-mat                               126090\n",
       "cs                                     124306\n",
       "physics                                 59257\n",
       "                                        ...  \n",
       "math, math-ph, nlin, physics, stat          1\n",
       "math, math-ph, nlin, physics, q-bio         1\n",
       "hep-th, math, physics, q-bio, stat          1\n",
       "gr-qc, hep-ph, nucl-th, quant-ph            1\n",
       "cond-mat, cs, q-bio, quant-ph, stat         1\n",
       "Name: general_categories, Length: 1357, dtype: int64"
      ]
     },
     "execution_count": 43,
     "metadata": {},
     "output_type": "execute_result"
    }
   ],
   "source": [
    "papers.loc[:, 'general_categories'].value_counts()"
   ]
  },
  {
   "cell_type": "code",
   "execution_count": 44,
   "metadata": {},
   "outputs": [],
   "source": [
    "all_general_categories = set()\n",
    "for c in papers.loc[:, 'general_categories']:\n",
    "    all_general_categories |= (c if type(c) == set else {c})"
   ]
  },
  {
   "cell_type": "code",
   "execution_count": 45,
   "metadata": {},
   "outputs": [
    {
     "data": {
      "text/plain": [
       "1357"
      ]
     },
     "execution_count": 45,
     "metadata": {},
     "output_type": "execute_result"
    }
   ],
   "source": [
    "len(all_general_categories)"
   ]
  },
  {
   "cell_type": "markdown",
   "metadata": {},
   "source": [
    "Get the number of category groupings with multiple categories"
   ]
  },
  {
   "cell_type": "code",
   "execution_count": 46,
   "metadata": {},
   "outputs": [
    {
     "data": {
      "text/plain": [
       "1338"
      ]
     },
     "execution_count": 46,
     "metadata": {},
     "output_type": "execute_result"
    }
   ],
   "source": [
    "len([x for x in all_general_categories if ',' in x])"
   ]
  },
  {
   "cell_type": "markdown",
   "metadata": {},
   "source": [
    "Get the list of single categories"
   ]
  },
  {
   "cell_type": "code",
   "execution_count": 47,
   "metadata": {
    "scrolled": true
   },
   "outputs": [
    {
     "data": {
      "text/plain": [
       "['astro-ph',\n",
       " 'cond-mat',\n",
       " 'cs',\n",
       " 'econ',\n",
       " 'eess',\n",
       " 'gr-qc',\n",
       " 'hep-ex',\n",
       " 'hep-lat',\n",
       " 'hep-ph',\n",
       " 'hep-th',\n",
       " 'math',\n",
       " 'nlin',\n",
       " 'nucl-ex',\n",
       " 'nucl-th',\n",
       " 'physics',\n",
       " 'q-bio',\n",
       " 'q-fin',\n",
       " 'quant-ph',\n",
       " 'stat']"
      ]
     },
     "execution_count": 47,
     "metadata": {},
     "output_type": "execute_result"
    }
   ],
   "source": [
    "sorted([x for x in all_general_categories if ',' not in x])"
   ]
  },
  {
   "cell_type": "code",
   "execution_count": null,
   "metadata": {},
   "outputs": [],
   "source": [
    "# Save useful information from model\n"
   ]
  },
  {
   "cell_type": "markdown",
   "metadata": {},
   "source": [
    "## Start using scikit-learn"
   ]
  },
  {
   "cell_type": "code",
   "execution_count": 1,
   "metadata": {},
   "outputs": [],
   "source": [
    "from sklearn.feature_extraction.text import TfidfVectorizer\n",
    "from sklearn.cluster import MiniBatchKMeans"
   ]
  },
  {
   "cell_type": "code",
   "execution_count": 49,
   "metadata": {},
   "outputs": [],
   "source": [
    "tfidf_vectorizer = TfidfVectorizer(stop_words='english')"
   ]
  },
  {
   "cell_type": "code",
   "execution_count": 50,
   "metadata": {},
   "outputs": [],
   "source": [
    "tfidf = tfidf_vectorizer.fit_transform(papers.loc[:, 'abstract'])"
   ]
  },
  {
   "cell_type": "code",
   "execution_count": 86,
   "metadata": {},
   "outputs": [],
   "source": [
    "vectorize_text = (papers.loc[:, 'title'] + ' ') * 3 + papers.loc[:, 'abstract']"
   ]
  },
  {
   "cell_type": "code",
   "execution_count": 87,
   "metadata": {},
   "outputs": [
    {
     "data": {
      "text/plain": [
       "'Calculation of prompt diphoton production cross sections at Tevatron and\\n  LHC energies Calculation of prompt diphoton production cross sections at Tevatron and\\n  LHC energies Calculation of prompt diphoton production cross sections at Tevatron and\\n  LHC energies Calculation of prompt diphoton production cross sections at Tevatron and\\n  LHC energies Calculation of prompt diphoton production cross sections at Tevatron and\\n  LHC energies   A fully differential calculation in perturbative quantum chromodynamics is\\npresented for the production of massive photon pairs at hadron colliders. All\\nnext-to-leading order perturbative contributions from quark-antiquark,\\ngluon-(anti)quark, and gluon-gluon subprocesses are included, as well as\\nall-orders resummation of initial-state gluon radiation valid at\\nnext-to-next-to-leading logarithmic accuracy. The region of phase space is\\nspecified in which the calculation is most reliable. Good agreement is\\ndemonstrated with data from the Fermilab Tevatron, and predictions are made for\\nmore detailed tests with CDF and DO data. Predictions are shown for\\ndistributions of diphoton pairs produced at the energy of the Large Hadron\\nCollider (LHC). Distributions of the diphoton pairs from the decay of a Higgs\\nboson are contrasted with those produced from QCD processes at the LHC, showing\\nthat enhanced sensitivity to the signal can be obtained with judicious\\nselection of events.\\n'"
      ]
     },
     "execution_count": 87,
     "metadata": {},
     "output_type": "execute_result"
    }
   ],
   "source": [
    "vectorize_text.iloc[0]"
   ]
  },
  {
   "cell_type": "code",
   "execution_count": 88,
   "metadata": {},
   "outputs": [],
   "source": [
    "tfidf_wt = tfidf_vectorizer.fit_transform(vectorize_text)"
   ]
  },
  {
   "cell_type": "code",
   "execution_count": 87,
   "metadata": {},
   "outputs": [],
   "source": [
    "kmeans_250 = MiniBatchKMeans(250)"
   ]
  },
  {
   "cell_type": "code",
   "execution_count": 88,
   "metadata": {
    "scrolled": true
   },
   "outputs": [],
   "source": [
    "model_250 = kmeans.fit(tfidf)"
   ]
  },
  {
   "cell_type": "markdown",
   "metadata": {},
   "source": [
    "### Play around with some examples"
   ]
  },
  {
   "cell_type": "code",
   "execution_count": 54,
   "metadata": {},
   "outputs": [],
   "source": [
    "abs_1 = \"\"\"\n",
    "In this paper, we draw on control theory to understand the conditions under which the use of agile practices is most \n",
    "effective in improving software project quality. Although agile development methodologies offer the potential of \n",
    "improving software development outcomes, limited research has examined how project managers can structure the \n",
    "software development environment to maximize the benefits of agile methodology use during a project. As a result, \n",
    "project managers have little guidance on how to manage teams who are using agile methodologies. Arguing that the most \n",
    "effective control modes are those that provide teams with autonomy in determining the methods for achieving project \n",
    "objectives, we propose hypotheses related to the interaction between control modes, agile methodology use, and \n",
    "requirements change. We test the model in a field study of 862 software developers in 110 teams. The model explains \n",
    "substantial variance in four objective measures of project quality—bug severity, component complexity, coordinative \n",
    "complexity, and dynamic complexity. Results largely support our hypotheses, highlighting the interplay between \n",
    "project control, agile methodology use, and requirements change. The findings contribute to extant literature by \n",
    "integrating control theory into the growing literature on agile methodology use and by identifying specific \n",
    "contingencies affecting the efficacy of different control modes. We discuss the theoretical and practical \n",
    "implications of our results.\n",
    "\"\"\""
   ]
  },
  {
   "cell_type": "code",
   "execution_count": 55,
   "metadata": {},
   "outputs": [],
   "source": [
    "abs_2 = \"\"\"\n",
    "Simultaneously achieving efficiency and flexibility in enterprise software production has been a considerable \n",
    "challenge for firms. Newer software development paradigms such as component-based and model-driven development \n",
    "attempt to overcome this challenge by emphasizing modular design of complex systems. However, there is a paucity of \n",
    "rigorous empirical research on the use of such software methodologies and the associated extent to which trade-offs \n",
    "between efficiency and flexibility can be influenced. Addressing this gap, we investigate the performance outcomes of \n",
    "a model-driven, component-based software development methodology using data collected from an enterprise software \n",
    "development firm that deployed such a methodology for its product development processes. Examining the design, \n",
    "development, and implementation of 92 business software components of the firm's enterprise resource planning product,\n",
    "we discuss how the design of software components, specifically component granularity, affects development efficiency \n",
    "(development effort and defects) and flexibility (customization effort). Our results suggest that (a) components that \n",
    "are coarse grained are associated with higher flexibility (lower customization effort) but are also associated with \n",
    "lower development efficiency (more development effort and defects), and (b) defect proneness of a component plays a \n",
    "mediating role on the relationship between component granularity and flexibility. These findings present strong \n",
    "evidence for the existence of trade-offs between efficiency and flexibility in mass-customized software product life \n",
    "cycles. They establish component granularity as a key design dimension that needs to be managed judiciously to enable\n",
    "potential trade-off shifting mechanisms through the use of software methodologies that emphasize modular design \n",
    "approaches.\n",
    "\"\"\""
   ]
  },
  {
   "cell_type": "code",
   "execution_count": 56,
   "metadata": {},
   "outputs": [],
   "source": [
    "cb_v = \"\"\"\n",
    "Humans possess the remarkable ability to perceive color, shape, and motion, and to differentiate between light\n",
    "intensities varied by over nine orders of magnitude. Phototransduction—the process in which absorbed photons are \n",
    "converted into electrical responses—is the first stage of visual processing, and occurs in the outer segment, the \n",
    "light-sensing organelle of the photoreceptor cell. Studies of genes linked to human inherited blindness have been \n",
    "crucial to understanding the biogenesis of the outer segment and membrane-trafficking of photoreceptors.\n",
    "\"\"\""
   ]
  },
  {
   "cell_type": "code",
   "execution_count": 57,
   "metadata": {},
   "outputs": [],
   "source": [
    "cb_t = \"\"\"\n",
    "Taste buds are aggregates of 50–100 polarized neuroepithelial cells that detect nutrients and other compounds. \n",
    "Combined analyses of gene expression and cellular function reveal an elegant cellular organization within the taste \n",
    "bud. This review discusses the functional classes of taste cells, their cell biology, and current thinking on how \n",
    "taste information is transmitted to the brain.\n",
    "\"\"\""
   ]
  },
  {
   "cell_type": "code",
   "execution_count": 77,
   "metadata": {},
   "outputs": [],
   "source": [
    "abs_3 = \"\"\"\n",
    "This article will discuss the various windowing systems which are currently (or will be shortly) available. The \n",
    "difficulties of developing under these new environments will lead into a discussion of object-oriented programming \n",
    "techniques and how they can be used to facilitate the development of complex windows-based programs.\n",
    "\"\"\""
   ]
  },
  {
   "cell_type": "code",
   "execution_count": 78,
   "metadata": {},
   "outputs": [],
   "source": [
    "abs_4 = \"\"\"\n",
    "Software contracting is a multi-faceted issue that involves legal, economic, managerial and technological \n",
    "considerations. To better understand the economic aspect of software contracting, this paper provides a summary review\n",
    "of software development contracts, followed by a game-theoretic model developed to incorporate incentive and \n",
    "information issues associated with software contracting. In the model an outside contractor is hired to develop a \n",
    "software system over multiple periods. Due to the uncertainties about costs or technology, the developer faces the \n",
    "risk of having to abandon the project at an intermediate phase. The user is better informed of the benefit of the \n",
    "system, while the developer privately discovers the development costs as the project advances. Given the limited \n",
    "information, the contracting parties make decisions in their own interest, leaving each party vulnerable to the \n",
    "other's opportunistic behavior. In this setting, we construct a viable contract that aligns the incentives of the \n",
    "contracting parties and produces the same equilibrium outcome as in in-house development. We also relate the \n",
    "implications of the model to the actual contract cases.\n",
    "\"\"\""
   ]
  },
  {
   "cell_type": "code",
   "execution_count": 93,
   "metadata": {},
   "outputs": [],
   "source": [
    "cb_v_vector = tfidf_vectorizer.transform([cb_v])"
   ]
  },
  {
   "cell_type": "code",
   "execution_count": 98,
   "metadata": {},
   "outputs": [],
   "source": [
    "cb_t_vector = tfidf_vectorizer.transform([cb_t])"
   ]
  },
  {
   "cell_type": "code",
   "execution_count": 102,
   "metadata": {},
   "outputs": [
    {
     "data": {
      "text/plain": [
       "array([ 85, 230,  27, ...,  31,  36, 246], dtype=int32)"
      ]
     },
     "execution_count": 102,
     "metadata": {},
     "output_type": "execute_result"
    }
   ],
   "source": [
    "# kmeans_250.labels_"
   ]
  },
  {
   "cell_type": "code",
   "execution_count": 97,
   "metadata": {},
   "outputs": [
    {
     "data": {
      "text/plain": [
       "array([14], dtype=int32)"
      ]
     },
     "execution_count": 97,
     "metadata": {},
     "output_type": "execute_result"
    }
   ],
   "source": [
    "# model_250.predict(cb_v_vector)"
   ]
  },
  {
   "cell_type": "code",
   "execution_count": 99,
   "metadata": {},
   "outputs": [
    {
     "data": {
      "text/plain": [
       "array([14], dtype=int32)"
      ]
     },
     "execution_count": 99,
     "metadata": {},
     "output_type": "execute_result"
    }
   ],
   "source": [
    "# model_250.predict(cb_t_vector)"
   ]
  },
  {
   "cell_type": "code",
   "execution_count": 100,
   "metadata": {},
   "outputs": [
    {
     "data": {
      "text/plain": [
       "array([14, 14, 14, 14], dtype=int32)"
      ]
     },
     "execution_count": 100,
     "metadata": {},
     "output_type": "execute_result"
    }
   ],
   "source": [
    "# model_250.predict(tfidf_vectorizer.transform([abs_1, abs_2, cb_v, cb_t]))"
   ]
  },
  {
   "cell_type": "markdown",
   "metadata": {},
   "source": [
    "All 4 of those abstracts probably should not be the same category. Try more clusters."
   ]
  },
  {
   "cell_type": "markdown",
   "metadata": {},
   "source": [
    "### n_clusters = 1000"
   ]
  },
  {
   "cell_type": "code",
   "execution_count": 75,
   "metadata": {},
   "outputs": [],
   "source": [
    "kmeans_1000 = MiniBatchKMeans(n_clusters=1000, batch_size=1500)"
   ]
  },
  {
   "cell_type": "code",
   "execution_count": 52,
   "metadata": {},
   "outputs": [],
   "source": [
    "model_1000 = kmeans_1000.fit(tfidf)"
   ]
  },
  {
   "cell_type": "code",
   "execution_count": 58,
   "metadata": {},
   "outputs": [
    {
     "data": {
      "text/plain": [
       "array([697, 697, 916, 221], dtype=int32)"
      ]
     },
     "execution_count": 58,
     "metadata": {},
     "output_type": "execute_result"
    }
   ],
   "source": [
    "model_1000.predict(tfidf_vectorizer.transform([abs_1, abs_2, cb_v, cb_t]))"
   ]
  },
  {
   "cell_type": "code",
   "execution_count": 59,
   "metadata": {},
   "outputs": [
    {
     "data": {
      "text/plain": [
       "array([794], dtype=int32)"
      ]
     },
     "execution_count": 59,
     "metadata": {},
     "output_type": "execute_result"
    }
   ],
   "source": [
    "model_1000.predict(tfidf_vectorizer.transform([]))"
   ]
  },
  {
   "cell_type": "code",
   "execution_count": 60,
   "metadata": {},
   "outputs": [
    {
     "data": {
      "text/plain": [
       "array([697], dtype=int32)"
      ]
     },
     "execution_count": 60,
     "metadata": {},
     "output_type": "execute_result"
    }
   ],
   "source": [
    "model_1000.predict(tfidf_vectorizer.transform([]))"
   ]
  },
  {
   "cell_type": "markdown",
   "metadata": {},
   "source": [
    "### n_clusters = 750 (currently in use)"
   ]
  },
  {
   "cell_type": "code",
   "execution_count": 89,
   "metadata": {},
   "outputs": [],
   "source": [
    "kmeans_750 = MiniBatchKMeans(n_clusters=750, batch_size=1000)"
   ]
  },
  {
   "cell_type": "code",
   "execution_count": 90,
   "metadata": {},
   "outputs": [],
   "source": [
    "model_750 = kmeans_750.fit(tfidf_wt)"
   ]
  },
  {
   "cell_type": "code",
   "execution_count": 91,
   "metadata": {},
   "outputs": [
    {
     "data": {
      "text/plain": [
       "array([547, 163, 163,  72, 622, 163], dtype=int32)"
      ]
     },
     "execution_count": 91,
     "metadata": {},
     "output_type": "execute_result"
    }
   ],
   "source": [
    "model_750.predict(tfidf_vectorizer.transform([abs_1, abs_2, cb_t, cb_v, abs_3, abs_4]))"
   ]
  },
  {
   "cell_type": "code",
   "execution_count": 92,
   "metadata": {},
   "outputs": [
    {
     "data": {
      "text/plain": [
       "array([720,  97,  41, ..., 311, 397, 433], dtype=int32)"
      ]
     },
     "execution_count": 92,
     "metadata": {},
     "output_type": "execute_result"
    }
   ],
   "source": [
    "model_750.labels_"
   ]
  },
  {
   "cell_type": "code",
   "execution_count": 95,
   "metadata": {},
   "outputs": [
    {
     "data": {
      "text/plain": [
       "array([720], dtype=int32)"
      ]
     },
     "execution_count": 95,
     "metadata": {},
     "output_type": "execute_result"
    }
   ],
   "source": [
    "model_750.predict(tfidf_vectorizer.transform([3 * papers.iloc[0]['title'] + papers.iloc[0]['abstract']]))"
   ]
  },
  {
   "cell_type": "code",
   "execution_count": 96,
   "metadata": {},
   "outputs": [
    {
     "data": {
      "text/plain": [
       "'Calculation of prompt diphoton production cross sections at Tevatron and\\n  LHC energies'"
      ]
     },
     "execution_count": 96,
     "metadata": {},
     "output_type": "execute_result"
    }
   ],
   "source": [
    "papers.iloc[0]['title']"
   ]
  },
  {
   "cell_type": "code",
   "execution_count": 101,
   "metadata": {},
   "outputs": [
    {
     "name": "stdout",
     "output_type": "stream",
     "text": [
      "  A fully differential calculation in perturbative quantum chromodynamics is\n",
      "presented for the production of massive photon pairs at hadron colliders. All\n",
      "next-to-leading order perturbative contributions from quark-antiquark,\n",
      "gluon-(anti)quark, and gluon-gluon subprocesses are included, as well as\n",
      "all-orders resummation of initial-state gluon radiation valid at\n",
      "next-to-next-to-leading logarithmic accuracy. The region of phase space is\n",
      "specified in which the calculation is most reliable. Good agreement is\n",
      "demonstrated with data from the Fermilab Tevatron, and predictions are made for\n",
      "more detailed tests with CDF and DO data. Predictions are shown for\n",
      "distributions of diphoton pairs produced at the energy of the Large Hadron\n",
      "Collider (LHC). Distributions of the diphoton pairs from the decay of a Higgs\n",
      "boson are contrasted with those produced from QCD processes at the LHC, showing\n",
      "that enhanced sensitivity to the signal can be obtained with judicious\n",
      "selection of events.\n",
      "\n"
     ]
    }
   ],
   "source": [
    "print(papers.iloc[0]['abstract'])"
   ]
  },
  {
   "cell_type": "code",
   "execution_count": 105,
   "metadata": {},
   "outputs": [],
   "source": [
    "cluster_720 = np.where(model_750.labels_ == 720)[0]"
   ]
  },
  {
   "cell_type": "code",
   "execution_count": 107,
   "metadata": {},
   "outputs": [
    {
     "data": {
      "text/html": [
       "<div>\n",
       "<style scoped>\n",
       "    .dataframe tbody tr th:only-of-type {\n",
       "        vertical-align: middle;\n",
       "    }\n",
       "\n",
       "    .dataframe tbody tr th {\n",
       "        vertical-align: top;\n",
       "    }\n",
       "\n",
       "    .dataframe thead th {\n",
       "        text-align: right;\n",
       "    }\n",
       "</style>\n",
       "<table border=\"1\" class=\"dataframe\">\n",
       "  <thead>\n",
       "    <tr style=\"text-align: right;\">\n",
       "      <th></th>\n",
       "      <th>title</th>\n",
       "      <th>authors</th>\n",
       "      <th>submitter</th>\n",
       "      <th>abstract</th>\n",
       "      <th>categories</th>\n",
       "      <th>journal-ref</th>\n",
       "      <th>comments</th>\n",
       "      <th>processed_categories</th>\n",
       "      <th>general_categories</th>\n",
       "    </tr>\n",
       "    <tr>\n",
       "      <th>id</th>\n",
       "      <th></th>\n",
       "      <th></th>\n",
       "      <th></th>\n",
       "      <th></th>\n",
       "      <th></th>\n",
       "      <th></th>\n",
       "      <th></th>\n",
       "      <th></th>\n",
       "      <th></th>\n",
       "    </tr>\n",
       "  </thead>\n",
       "  <tbody>\n",
       "    <tr>\n",
       "      <th>0704.0001</th>\n",
       "      <td>Calculation of prompt diphoton production cros...</td>\n",
       "      <td>[[Balázs, C., ], [Berger, E. L., ], [Nadolsky,...</td>\n",
       "      <td>Pavel Nadolsky</td>\n",
       "      <td>A fully differential calculation in perturba...</td>\n",
       "      <td>[hep-ph]</td>\n",
       "      <td>Phys.Rev.D76:013009,2007</td>\n",
       "      <td>37 pages, 15 figures; published version</td>\n",
       "      <td>{hep-ph}</td>\n",
       "      <td>hep-ph</td>\n",
       "    </tr>\n",
       "    <tr>\n",
       "      <th>0704.0031</th>\n",
       "      <td>Crystal channeling of LHC forward protons with...</td>\n",
       "      <td>[[Biryukov, V. M., , Serpukhov, IHEP]]</td>\n",
       "      <td>Valery M. Biryukov</td>\n",
       "      <td>We show that crystal can trap a broad (x, x'...</td>\n",
       "      <td>[hep-ph]</td>\n",
       "      <td>Phys.Lett.B658:7-12,2007</td>\n",
       "      <td>11 pages, 3 figures</td>\n",
       "      <td>{hep-ph}</td>\n",
       "      <td>hep-ph</td>\n",
       "    </tr>\n",
       "    <tr>\n",
       "      <th>0704.0235</th>\n",
       "      <td>The Determination of the Helicity of $W'$ Boso...</td>\n",
       "      <td>[[Rizzo, Thomas G., ]]</td>\n",
       "      <td>Thomas G. Rizzo</td>\n",
       "      <td>Apart from its mass and width, the most impo...</td>\n",
       "      <td>[hep-ph hep-ex]</td>\n",
       "      <td>JHEP 0705:037,2007</td>\n",
       "      <td>29 pages, 11 figures; discussion and reference...</td>\n",
       "      <td>{hep-ph, hep-ex}</td>\n",
       "      <td>hep-ex, hep-ph</td>\n",
       "    </tr>\n",
       "    <tr>\n",
       "      <th>0704.0254</th>\n",
       "      <td>Unravelling the sbottom spin at the CERN LHC</td>\n",
       "      <td>[[Alves, Alexandre, ], [Eboli, Oscar, ]]</td>\n",
       "      <td>Alexandre Alves</td>\n",
       "      <td>Establishing that a signal of new physics is...</td>\n",
       "      <td>[hep-ph]</td>\n",
       "      <td>Phys.Rev.D75:115013,2007</td>\n",
       "      <td>9 pages, 11 figures</td>\n",
       "      <td>{hep-ph}</td>\n",
       "      <td>hep-ph</td>\n",
       "    </tr>\n",
       "    <tr>\n",
       "      <th>0704.0294</th>\n",
       "      <td>QED x QCD Resummation and Shower/ME Matching f...</td>\n",
       "      <td>[[Ward, B. F. L., ], [Yost, S. A., ]]</td>\n",
       "      <td>Scott A. Yost</td>\n",
       "      <td>We present the theory of QED x QCD resummati...</td>\n",
       "      <td>[hep-ph]</td>\n",
       "      <td>ActaPhys.Polon.B38:2395-2403,2007</td>\n",
       "      <td>12 pages, LaTex with packages amsmath, amssymb</td>\n",
       "      <td>{hep-ph}</td>\n",
       "      <td>hep-ph</td>\n",
       "    </tr>\n",
       "    <tr>\n",
       "      <th>...</th>\n",
       "      <td>...</td>\n",
       "      <td>...</td>\n",
       "      <td>...</td>\n",
       "      <td>...</td>\n",
       "      <td>...</td>\n",
       "      <td>...</td>\n",
       "      <td>...</td>\n",
       "      <td>...</td>\n",
       "      <td>...</td>\n",
       "    </tr>\n",
       "    <tr>\n",
       "      <th>1905.10106</th>\n",
       "      <td>LHC Constraints on a $(B-L)_3$ Gauge Boson</td>\n",
       "      <td>[[Elahi, Fatemeh, ], [Martin, Adam, ]]</td>\n",
       "      <td>Fatemeh Elahi</td>\n",
       "      <td>In this paper, we explore the constraints th...</td>\n",
       "      <td>[hep-ph]</td>\n",
       "      <td>Phys. Rev. D 100, 035016 (2019)</td>\n",
       "      <td>28 pages, 12 figures</td>\n",
       "      <td>{hep-ph}</td>\n",
       "      <td>hep-ph</td>\n",
       "    </tr>\n",
       "    <tr>\n",
       "      <th>1905.10419</th>\n",
       "      <td>Rescattering effects in antiproton-induced exc...</td>\n",
       "      <td>[[Larionov, A. B., ], [Gillitzer, A., ], [Stri...</td>\n",
       "      <td>Alexei Larionov</td>\n",
       "      <td>On the basis of the generalized eikonal appr...</td>\n",
       "      <td>[nucl-th hep-ex hep-ph nucl-ex]</td>\n",
       "      <td>None</td>\n",
       "      <td>28 pages, 8 figures, modified sec. 1 and 2, ne...</td>\n",
       "      <td>{nucl-ex, hep-ph, hep-ex, nucl-th}</td>\n",
       "      <td>hep-ex, hep-ph, nucl-ex, nucl-th</td>\n",
       "    </tr>\n",
       "    <tr>\n",
       "      <th>1905.12953</th>\n",
       "      <td>Non-Resonant Searches for Axion-Like Particles...</td>\n",
       "      <td>[[Gavela, M. B., ], [No, J. M., ], [Sanz, V., ...</td>\n",
       "      <td>Veronica Sanz</td>\n",
       "      <td>We propose a new collider probe for axion-li...</td>\n",
       "      <td>[hep-ph hep-ex]</td>\n",
       "      <td>Phys. Rev. Lett. 124, 051802 (2020)</td>\n",
       "      <td>10 pages, 7 figures. New version includes inte...</td>\n",
       "      <td>{hep-ph, hep-ex}</td>\n",
       "      <td>hep-ex, hep-ph</td>\n",
       "    </tr>\n",
       "    <tr>\n",
       "      <th>1906.00894</th>\n",
       "      <td>Near threshold $J/\\psi$ and $\\Upsilon$ photo-p...</td>\n",
       "      <td>[[Hatta, Yoshitaka, ], [Rajan, Abha, ], [Yang,...</td>\n",
       "      <td>Yoshitaka Hatta</td>\n",
       "      <td>We update our previous calculation of $J/\\ps...</td>\n",
       "      <td>[hep-ph]</td>\n",
       "      <td>Phys. Rev. D 100, 014032 (2019)</td>\n",
       "      <td>10 pages, 9 figures</td>\n",
       "      <td>{hep-ph}</td>\n",
       "      <td>hep-ph</td>\n",
       "    </tr>\n",
       "    <tr>\n",
       "      <th>1906.01063</th>\n",
       "      <td>Constraining R-parity-violating couplings in $...</td>\n",
       "      <td>[[Bansal, Saurabh, ], [Delgado, Antonio, ], [K...</td>\n",
       "      <td>Saurabh Bansal</td>\n",
       "      <td>We find new limits on the $\\lambda'_{3jk}$ R...</td>\n",
       "      <td>[hep-ph]</td>\n",
       "      <td>Phys. Rev. D 100, 093005 (2019)</td>\n",
       "      <td>9 pages, 3 figures, 3 tables</td>\n",
       "      <td>{hep-ph}</td>\n",
       "      <td>hep-ph</td>\n",
       "    </tr>\n",
       "  </tbody>\n",
       "</table>\n",
       "<p>5951 rows × 9 columns</p>\n",
       "</div>"
      ],
      "text/plain": [
       "                                                        title  \\\n",
       "id                                                              \n",
       "0704.0001   Calculation of prompt diphoton production cros...   \n",
       "0704.0031   Crystal channeling of LHC forward protons with...   \n",
       "0704.0235   The Determination of the Helicity of $W'$ Boso...   \n",
       "0704.0254        Unravelling the sbottom spin at the CERN LHC   \n",
       "0704.0294   QED x QCD Resummation and Shower/ME Matching f...   \n",
       "...                                                       ...   \n",
       "1905.10106         LHC Constraints on a $(B-L)_3$ Gauge Boson   \n",
       "1905.10419  Rescattering effects in antiproton-induced exc...   \n",
       "1905.12953  Non-Resonant Searches for Axion-Like Particles...   \n",
       "1906.00894  Near threshold $J/\\psi$ and $\\Upsilon$ photo-p...   \n",
       "1906.01063  Constraining R-parity-violating couplings in $...   \n",
       "\n",
       "                                                      authors  \\\n",
       "id                                                              \n",
       "0704.0001   [[Balázs, C., ], [Berger, E. L., ], [Nadolsky,...   \n",
       "0704.0031              [[Biryukov, V. M., , Serpukhov, IHEP]]   \n",
       "0704.0235                              [[Rizzo, Thomas G., ]]   \n",
       "0704.0254            [[Alves, Alexandre, ], [Eboli, Oscar, ]]   \n",
       "0704.0294               [[Ward, B. F. L., ], [Yost, S. A., ]]   \n",
       "...                                                       ...   \n",
       "1905.10106             [[Elahi, Fatemeh, ], [Martin, Adam, ]]   \n",
       "1905.10419  [[Larionov, A. B., ], [Gillitzer, A., ], [Stri...   \n",
       "1905.12953  [[Gavela, M. B., ], [No, J. M., ], [Sanz, V., ...   \n",
       "1906.00894  [[Hatta, Yoshitaka, ], [Rajan, Abha, ], [Yang,...   \n",
       "1906.01063  [[Bansal, Saurabh, ], [Delgado, Antonio, ], [K...   \n",
       "\n",
       "                     submitter  \\\n",
       "id                               \n",
       "0704.0001       Pavel Nadolsky   \n",
       "0704.0031   Valery M. Biryukov   \n",
       "0704.0235      Thomas G. Rizzo   \n",
       "0704.0254      Alexandre Alves   \n",
       "0704.0294        Scott A. Yost   \n",
       "...                        ...   \n",
       "1905.10106       Fatemeh Elahi   \n",
       "1905.10419     Alexei Larionov   \n",
       "1905.12953       Veronica Sanz   \n",
       "1906.00894     Yoshitaka Hatta   \n",
       "1906.01063      Saurabh Bansal   \n",
       "\n",
       "                                                     abstract  \\\n",
       "id                                                              \n",
       "0704.0001     A fully differential calculation in perturba...   \n",
       "0704.0031     We show that crystal can trap a broad (x, x'...   \n",
       "0704.0235     Apart from its mass and width, the most impo...   \n",
       "0704.0254     Establishing that a signal of new physics is...   \n",
       "0704.0294     We present the theory of QED x QCD resummati...   \n",
       "...                                                       ...   \n",
       "1905.10106    In this paper, we explore the constraints th...   \n",
       "1905.10419    On the basis of the generalized eikonal appr...   \n",
       "1905.12953    We propose a new collider probe for axion-li...   \n",
       "1906.00894    We update our previous calculation of $J/\\ps...   \n",
       "1906.01063    We find new limits on the $\\lambda'_{3jk}$ R...   \n",
       "\n",
       "                                 categories  \\\n",
       "id                                            \n",
       "0704.0001                          [hep-ph]   \n",
       "0704.0031                          [hep-ph]   \n",
       "0704.0235                   [hep-ph hep-ex]   \n",
       "0704.0254                          [hep-ph]   \n",
       "0704.0294                          [hep-ph]   \n",
       "...                                     ...   \n",
       "1905.10106                         [hep-ph]   \n",
       "1905.10419  [nucl-th hep-ex hep-ph nucl-ex]   \n",
       "1905.12953                  [hep-ph hep-ex]   \n",
       "1906.00894                         [hep-ph]   \n",
       "1906.01063                         [hep-ph]   \n",
       "\n",
       "                                    journal-ref  \\\n",
       "id                                                \n",
       "0704.0001              Phys.Rev.D76:013009,2007   \n",
       "0704.0031              Phys.Lett.B658:7-12,2007   \n",
       "0704.0235                    JHEP 0705:037,2007   \n",
       "0704.0254              Phys.Rev.D75:115013,2007   \n",
       "0704.0294     ActaPhys.Polon.B38:2395-2403,2007   \n",
       "...                                         ...   \n",
       "1905.10106      Phys. Rev. D 100, 035016 (2019)   \n",
       "1905.10419                                 None   \n",
       "1905.12953  Phys. Rev. Lett. 124, 051802 (2020)   \n",
       "1906.00894      Phys. Rev. D 100, 014032 (2019)   \n",
       "1906.01063      Phys. Rev. D 100, 093005 (2019)   \n",
       "\n",
       "                                                     comments  \\\n",
       "id                                                              \n",
       "0704.0001             37 pages, 15 figures; published version   \n",
       "0704.0031                                 11 pages, 3 figures   \n",
       "0704.0235   29 pages, 11 figures; discussion and reference...   \n",
       "0704.0254                                 9 pages, 11 figures   \n",
       "0704.0294      12 pages, LaTex with packages amsmath, amssymb   \n",
       "...                                                       ...   \n",
       "1905.10106                               28 pages, 12 figures   \n",
       "1905.10419  28 pages, 8 figures, modified sec. 1 and 2, ne...   \n",
       "1905.12953  10 pages, 7 figures. New version includes inte...   \n",
       "1906.00894                                10 pages, 9 figures   \n",
       "1906.01063                       9 pages, 3 figures, 3 tables   \n",
       "\n",
       "                          processed_categories  \\\n",
       "id                                               \n",
       "0704.0001                             {hep-ph}   \n",
       "0704.0031                             {hep-ph}   \n",
       "0704.0235                     {hep-ph, hep-ex}   \n",
       "0704.0254                             {hep-ph}   \n",
       "0704.0294                             {hep-ph}   \n",
       "...                                        ...   \n",
       "1905.10106                            {hep-ph}   \n",
       "1905.10419  {nucl-ex, hep-ph, hep-ex, nucl-th}   \n",
       "1905.12953                    {hep-ph, hep-ex}   \n",
       "1906.00894                            {hep-ph}   \n",
       "1906.01063                            {hep-ph}   \n",
       "\n",
       "                          general_categories  \n",
       "id                                            \n",
       "0704.0001                             hep-ph  \n",
       "0704.0031                             hep-ph  \n",
       "0704.0235                     hep-ex, hep-ph  \n",
       "0704.0254                             hep-ph  \n",
       "0704.0294                             hep-ph  \n",
       "...                                      ...  \n",
       "1905.10106                            hep-ph  \n",
       "1905.10419  hep-ex, hep-ph, nucl-ex, nucl-th  \n",
       "1905.12953                    hep-ex, hep-ph  \n",
       "1906.00894                            hep-ph  \n",
       "1906.01063                            hep-ph  \n",
       "\n",
       "[5951 rows x 9 columns]"
      ]
     },
     "execution_count": 107,
     "metadata": {},
     "output_type": "execute_result"
    }
   ],
   "source": [
    "papers.iloc[cluster_720]"
   ]
  },
  {
   "cell_type": "markdown",
   "metadata": {},
   "source": [
    "### Save whichever model is most suitable"
   ]
  },
  {
   "cell_type": "code",
   "execution_count": 61,
   "metadata": {},
   "outputs": [],
   "source": [
    "with open('model/kmeans.pkl', 'wb') as f:\n",
    "    pickle.dump(model_1000, f)"
   ]
  },
  {
   "cell_type": "code",
   "execution_count": 62,
   "metadata": {},
   "outputs": [],
   "source": [
    "with open('model/tfidf.pkl', 'wb') as f:\n",
    "    pickle.dump(tfidf, f)"
   ]
  },
  {
   "cell_type": "code",
   "execution_count": 63,
   "metadata": {},
   "outputs": [],
   "source": [
    "with open('model/tfidf_vectorizer.pkl', 'wb') as f:\n",
    "    pickle.dump(tfidf_vectorizer, f)"
   ]
  },
  {
   "cell_type": "markdown",
   "metadata": {},
   "source": [
    "## Try using model from loaded .pkl file"
   ]
  },
  {
   "cell_type": "code",
   "execution_count": 64,
   "metadata": {},
   "outputs": [],
   "source": [
    "with open('model/kmeans.pkl', 'rb') as f:\n",
    "    km = pickle.load(f)"
   ]
  },
  {
   "cell_type": "code",
   "execution_count": 65,
   "metadata": {},
   "outputs": [
    {
     "data": {
      "text/plain": [
       "MiniBatchKMeans(batch_size=1500, compute_labels=True, init='k-means++',\n",
       "                init_size=None, max_iter=100, max_no_improvement=10,\n",
       "                n_clusters=1000, n_init=3, random_state=None,\n",
       "                reassignment_ratio=0.01, tol=0.0, verbose=0)"
      ]
     },
     "execution_count": 65,
     "metadata": {},
     "output_type": "execute_result"
    }
   ],
   "source": [
    "km"
   ]
  },
  {
   "cell_type": "code",
   "execution_count": 66,
   "metadata": {},
   "outputs": [],
   "source": [
    "with open('model/tfidf_vectorizer.pkl', 'rb') as f:\n",
    "    tfidf_vec = pickle.load(f)"
   ]
  },
  {
   "cell_type": "code",
   "execution_count": 67,
   "metadata": {},
   "outputs": [
    {
     "data": {
      "text/plain": [
       "TfidfVectorizer(analyzer='word', binary=False, decode_error='strict',\n",
       "                dtype=<class 'numpy.float64'>, encoding='utf-8',\n",
       "                input='content', lowercase=True, max_df=1.0, max_features=None,\n",
       "                min_df=1, ngram_range=(1, 1), norm='l2', preprocessor=None,\n",
       "                smooth_idf=True, stop_words='english', strip_accents=None,\n",
       "                sublinear_tf=False, token_pattern='(?u)\\\\b\\\\w\\\\w+\\\\b',\n",
       "                tokenizer=None, use_idf=True, vocabulary=None)"
      ]
     },
     "execution_count": 67,
     "metadata": {},
     "output_type": "execute_result"
    }
   ],
   "source": [
    "tfidf_vec"
   ]
  },
  {
   "cell_type": "code",
   "execution_count": 68,
   "metadata": {},
   "outputs": [
    {
     "data": {
      "text/plain": [
       "array([916], dtype=int32)"
      ]
     },
     "execution_count": 68,
     "metadata": {},
     "output_type": "execute_result"
    }
   ],
   "source": [
    "km.predict(tfidf_vec.transform([\"\"\"\n",
    "This article puts Marxist and queer theories in conversation with one another to advance thinking about gender and \n",
    "sexuality. I argue that Marxist concepts such as class, mode of production, and struggle need to be \"borrowed\" to \n",
    "sharpen queer theory. My arguments are situated in the context of the Philippine literature that has examined the \n",
    "local queer experience. Such approach productively re-imagines contemporary discourses and performances of sexuality \n",
    "in Philippine society.\n",
    "\"\"\"]))"
   ]
  },
  {
   "cell_type": "code",
   "execution_count": 69,
   "metadata": {},
   "outputs": [
    {
     "data": {
      "text/plain": [
       "array([697, 697, 221, 916], dtype=int32)"
      ]
     },
     "execution_count": 69,
     "metadata": {},
     "output_type": "execute_result"
    }
   ],
   "source": [
    "km.predict(tfidf_vec.transform([abs_1, abs_2, cb_t, cb_v]))"
   ]
  },
  {
   "cell_type": "code",
   "execution_count": 70,
   "metadata": {},
   "outputs": [
    {
     "data": {
      "text/plain": [
       "array([221], dtype=int32)"
      ]
     },
     "execution_count": 70,
     "metadata": {},
     "output_type": "execute_result"
    }
   ],
   "source": [
    "km.predict(tfidf_vec.transform([\"\"\"\n",
    "A galvanic or voltaic cell uses a redox reaction to produce an electric current. It consists of two half cells, with \n",
    "each half cell containing an electrode (a metal) in a solution of its own ions (Owen, Ahmed, 2015). One type of \n",
    "galvanic cell that is frequently used in labs to gather information and analyze data in electrochemistry is the \n",
    "Daniell cell (Lauren, 1965). The Daniell cell consists of a zinc electrode in a solution of zinc sulfate, or \n",
    "ZnSO4(aq) (which contains Zn2+ ions) and a copper electrode in a solution of copper (II) sulfate, or CuSO4(aq) \n",
    "(which contains Cu2+ ions). The two electrodes are connected via a wire, and the solutions are connected via a salt \n",
    "bridge containing a solution of sodium sulfate, or Na2SO4(aq), to allow the flow of ions to complete the circuit \n",
    "(Queen’s University, 2014). This would cause the following chemical reactions (1) and (2), resulting in the net ionic \n",
    "equation (3)\n",
    "\"\"\"]))"
   ]
  },
  {
   "cell_type": "code",
   "execution_count": 71,
   "metadata": {},
   "outputs": [
    {
     "data": {
      "text/plain": [
       "array([916], dtype=int32)"
      ]
     },
     "execution_count": 71,
     "metadata": {},
     "output_type": "execute_result"
    }
   ],
   "source": [
    "km.predict(tfidf_vec.transform([\"\"\"\n",
    "For guest editor George Henson, it's been a long journey from reading The Front Runner in 1977 in Sapulpa, Oklahoma, to writing about queer lit for World Literature Today. But just as he has found his place here, the writers featured in this issue have taken their place alongside a long list of notable world authors.\n",
    "\"\"\"]))"
   ]
  },
  {
   "cell_type": "code",
   "execution_count": null,
   "metadata": {},
   "outputs": [],
   "source": []
  }
 ],
 "metadata": {
  "kernelspec": {
   "display_name": "Python 3",
   "language": "python",
   "name": "python3"
  },
  "language_info": {
   "codemirror_mode": {
    "name": "ipython",
    "version": 3
   },
   "file_extension": ".py",
   "mimetype": "text/x-python",
   "name": "python",
   "nbconvert_exporter": "python",
   "pygments_lexer": "ipython3",
   "version": "3.8.1"
  }
 },
 "nbformat": 4,
 "nbformat_minor": 4
}
